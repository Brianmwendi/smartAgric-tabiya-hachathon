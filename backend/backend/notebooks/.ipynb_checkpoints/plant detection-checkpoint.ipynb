{
 "cells": [
  {
   "cell_type": "markdown",
   "id": "221e2870-86af-4077-a7c1-1ba1ec29fd4b",
   "metadata": {},
   "source": [
    "## Importing libraries"
   ]
  },
  {
   "cell_type": "code",
   "execution_count": 1,
   "id": "34902670-6786-47bd-9985-9c04943bd431",
   "metadata": {
    "scrolled": true
   },
   "outputs": [],
   "source": [
    "import tensorflow as tf\n",
    "import matplotlib.pyplot as plt\n",
    "import pandas as pd\n",
    "import seaborn as sns"
   ]
  },
  {
   "cell_type": "markdown",
   "id": "c4d3ca3b-0a3b-45a3-973f-b02f157cfaef",
   "metadata": {},
   "source": [
    "## Data Processing"
   ]
  },
  {
   "cell_type": "markdown",
   "id": "5d1b789f-47d9-46e4-a556-030763a69dd4",
   "metadata": {},
   "source": [
    "### Training image processing"
   ]
  },
  {
   "cell_type": "code",
   "execution_count": 2,
   "id": "f032ae1d-178f-4dbc-97ca-636766356757",
   "metadata": {},
   "outputs": [
    {
     "name": "stdout",
     "output_type": "stream",
     "text": [
      "Found 70295 files belonging to 38 classes.\n"
     ]
    }
   ],
   "source": [
    "training_set = tf.keras.utils.image_dataset_from_directory(\n",
    "   'train',\n",
    "    labels=\"inferred\",\n",
    "    label_mode=\"categorical\",\n",
    "    class_names=None,\n",
    "    color_mode=\"rgb\",\n",
    "    batch_size=32,\n",
    "    image_size=(128, 128),\n",
    "    shuffle=True,\n",
    "    seed=None,\n",
    "    validation_split=None,\n",
    "    subset=None,\n",
    "    interpolation=\"bilinear\",\n",
    "    follow_links=False,\n",
    "    crop_to_aspect_ratio=False,\n",
    "\n",
    ")"
   ]
  },
  {
   "cell_type": "code",
   "execution_count": 3,
   "id": "e90816bb-2c32-437e-af55-9c0931092c77",
   "metadata": {},
   "outputs": [
    {
     "name": "stdout",
     "output_type": "stream",
     "text": [
      "Found 17572 files belonging to 38 classes.\n"
     ]
    }
   ],
   "source": [
    "validation_set = tf.keras.utils.image_dataset_from_directory(\n",
    "   'valid',\n",
    "    labels=\"inferred\",\n",
    "    label_mode=\"categorical\",\n",
    "    class_names=None,\n",
    "    color_mode=\"rgb\",\n",
    "    batch_size=32,\n",
    "    image_size=(128, 128),\n",
    "    shuffle=True,\n",
    "    seed=None,\n",
    "    validation_split=None,\n",
    "    subset=None,\n",
    "    interpolation=\"bilinear\",\n",
    "    follow_links=False,\n",
    "    crop_to_aspect_ratio=False,\n",
    "\n",
    ")"
   ]
  },
  {
   "cell_type": "code",
   "execution_count": 4,
   "id": "50715aab-afeb-4dd2-9281-bb158f8c2b9d",
   "metadata": {},
   "outputs": [
    {
     "data": {
      "text/plain": [
       "<BatchDataset element_spec=(TensorSpec(shape=(None, 128, 128, 3), dtype=tf.float32, name=None), TensorSpec(shape=(None, 38), dtype=tf.float32, name=None))>"
      ]
     },
     "execution_count": 4,
     "metadata": {},
     "output_type": "execute_result"
    }
   ],
   "source": [
    "training_set\n"
   ]
  },
  {
   "cell_type": "code",
   "execution_count": 5,
   "id": "cfc58a52-ee6e-4b82-9e44-28407df3003a",
   "metadata": {},
   "outputs": [
    {
     "name": "stdout",
     "output_type": "stream",
     "text": [
      "tf.Tensor(\n",
      "[[[[133.   123.   121.  ]\n",
      "   [160.5  150.5  148.5 ]\n",
      "   [135.5  125.5  123.5 ]\n",
      "   ...\n",
      "   [146.75 135.75 131.75]\n",
      "   [139.   128.   124.  ]\n",
      "   [132.75 121.75 117.75]]\n",
      "\n",
      "  [[162.25 152.25 150.25]\n",
      "   [147.75 137.75 135.75]\n",
      "   [140.5  130.5  128.5 ]\n",
      "   ...\n",
      "   [127.75 116.75 112.75]\n",
      "   [131.25 120.25 116.25]\n",
      "   [123.5  112.5  108.5 ]]\n",
      "\n",
      "  [[149.75 139.75 137.75]\n",
      "   [150.75 140.75 138.75]\n",
      "   [131.5  121.5  119.5 ]\n",
      "   ...\n",
      "   [135.5  124.5  120.5 ]\n",
      "   [139.   128.   124.  ]\n",
      "   [138.75 127.75 123.75]]\n",
      "\n",
      "  ...\n",
      "\n",
      "  [[186.75 181.75 178.75]\n",
      "   [183.   178.   175.  ]\n",
      "   [179.5  174.5  171.5 ]\n",
      "   ...\n",
      "   [167.75 157.75 155.75]\n",
      "   [161.   151.   149.  ]\n",
      "   [157.   147.   145.  ]]\n",
      "\n",
      "  [[180.5  175.5  172.5 ]\n",
      "   [186.75 181.75 178.75]\n",
      "   [190.75 185.75 182.75]\n",
      "   ...\n",
      "   [152.5  142.5  140.5 ]\n",
      "   [160.5  150.5  148.5 ]\n",
      "   [151.25 141.25 139.25]]\n",
      "\n",
      "  [[177.5  172.5  169.5 ]\n",
      "   [180.5  175.5  172.5 ]\n",
      "   [172.5  167.5  164.5 ]\n",
      "   ...\n",
      "   [152.75 142.75 140.75]\n",
      "   [157.   147.   145.  ]\n",
      "   [157.   147.   145.  ]]]\n",
      "\n",
      "\n",
      " [[[150.5  145.5  149.5 ]\n",
      "   [156.75 151.75 155.75]\n",
      "   [154.75 149.75 153.75]\n",
      "   ...\n",
      "   [ 84.    72.    72.  ]\n",
      "   [ 82.    70.    70.  ]\n",
      "   [ 82.25  70.25  70.25]]\n",
      "\n",
      "  [[156.   151.   155.  ]\n",
      "   [150.25 145.25 149.25]\n",
      "   [147.25 142.25 146.25]\n",
      "   ...\n",
      "   [ 88.25  76.25  76.25]\n",
      "   [ 90.75  78.75  78.75]\n",
      "   [ 88.25  76.25  76.25]]\n",
      "\n",
      "  [[158.75 153.75 157.75]\n",
      "   [150.   145.   149.  ]\n",
      "   [155.75 150.75 154.75]\n",
      "   ...\n",
      "   [ 87.    75.    75.  ]\n",
      "   [ 80.5   68.5   68.5 ]\n",
      "   [ 82.75  70.75  70.75]]\n",
      "\n",
      "  ...\n",
      "\n",
      "  [[171.5  165.5  167.5 ]\n",
      "   [173.   167.   169.  ]\n",
      "   [177.5  171.5  173.5 ]\n",
      "   ...\n",
      "   [140.5  128.5  128.5 ]\n",
      "   [128.   116.   116.  ]\n",
      "   [136.25 124.25 124.25]]\n",
      "\n",
      "  [[191.   185.   187.  ]\n",
      "   [182.25 176.25 178.25]\n",
      "   [175.75 169.75 171.75]\n",
      "   ...\n",
      "   [133.25 121.25 121.25]\n",
      "   [129.75 117.75 117.75]\n",
      "   [126.25 114.25 114.25]]\n",
      "\n",
      "  [[181.25 175.25 177.25]\n",
      "   [186.   180.   182.  ]\n",
      "   [182.75 176.75 178.75]\n",
      "   ...\n",
      "   [129.5  117.5  117.5 ]\n",
      "   [123.5  111.5  111.5 ]\n",
      "   [116.5  104.5  104.5 ]]]\n",
      "\n",
      "\n",
      " [[[113.25 133.25 114.25]\n",
      "   [110.25 135.75 114.75]\n",
      "   [104.5  134.5  112.  ]\n",
      "   ...\n",
      "   [  0.     0.     0.  ]\n",
      "   [  0.     0.     0.  ]\n",
      "   [  0.     0.     0.  ]]\n",
      "\n",
      "  [[107.   128.5  111.75]\n",
      "   [ 99.75 124.75 107.25]\n",
      "   [ 95.75 124.5  105.75]\n",
      "   ...\n",
      "   [  0.     0.     0.  ]\n",
      "   [  0.     0.     0.  ]\n",
      "   [  0.     0.     0.  ]]\n",
      "\n",
      "  [[108.75 130.   116.75]\n",
      "   [ 99.5  124.5  110.25]\n",
      "   [ 88.   115.5  100.5 ]\n",
      "   ...\n",
      "   [  0.     0.     0.  ]\n",
      "   [  0.     0.     0.  ]\n",
      "   [  0.     0.     0.  ]]\n",
      "\n",
      "  ...\n",
      "\n",
      "  [[  0.     0.     0.  ]\n",
      "   [  0.     0.     0.  ]\n",
      "   [  0.     0.     0.  ]\n",
      "   ...\n",
      "   [ 80.    66.25  41.  ]\n",
      "   [121.75 104.75  79.25]\n",
      "   [ 58.5   41.    25.75]]\n",
      "\n",
      "  [[  0.     0.     0.  ]\n",
      "   [  0.     0.     0.  ]\n",
      "   [  0.     0.     0.  ]\n",
      "   ...\n",
      "   [ 10.25   7.25   2.  ]\n",
      "   [  8.     3.     1.75]\n",
      "   [  9.25   2.5    0.5 ]]\n",
      "\n",
      "  [[  0.     0.     0.  ]\n",
      "   [  0.     0.     0.  ]\n",
      "   [  0.     0.     0.  ]\n",
      "   ...\n",
      "   [  0.     1.     3.5 ]\n",
      "   [  4.     5.     8.5 ]\n",
      "   [  4.5    4.75   8.25]]]\n",
      "\n",
      "\n",
      " ...\n",
      "\n",
      "\n",
      " [[[189.5  178.5  176.5 ]\n",
      "   [175.   164.   162.  ]\n",
      "   [179.5  168.5  166.5 ]\n",
      "   ...\n",
      "   [182.5  172.5  170.5 ]\n",
      "   [179.25 169.25 167.25]\n",
      "   [184.75 174.75 172.75]]\n",
      "\n",
      "  [[180.5  169.5  167.5 ]\n",
      "   [177.   166.   164.  ]\n",
      "   [180.75 169.75 167.75]\n",
      "   ...\n",
      "   [184.   174.   172.  ]\n",
      "   [186.5  176.5  174.5 ]\n",
      "   [179.5  169.5  167.5 ]]\n",
      "\n",
      "  [[171.   160.   158.  ]\n",
      "   [160.25 149.25 147.25]\n",
      "   [175.   164.   162.  ]\n",
      "   ...\n",
      "   [180.75 170.75 168.75]\n",
      "   [186.25 176.25 174.25]\n",
      "   [184.5  174.5  172.5 ]]\n",
      "\n",
      "  ...\n",
      "\n",
      "  [[173.25 163.25 162.25]\n",
      "   [186.25 176.25 175.25]\n",
      "   [196.   186.   185.  ]\n",
      "   ...\n",
      "   [196.   188.   186.  ]\n",
      "   [196.5  188.5  186.5 ]\n",
      "   [196.   188.   186.  ]]\n",
      "\n",
      "  [[184.   174.   173.  ]\n",
      "   [188.25 178.25 177.25]\n",
      "   [195.75 185.75 184.75]\n",
      "   ...\n",
      "   [192.5  184.5  182.5 ]\n",
      "   [195.   187.   185.  ]\n",
      "   [196.   188.   186.  ]]\n",
      "\n",
      "  [[187.75 177.75 176.75]\n",
      "   [185.   175.   174.  ]\n",
      "   [198.5  188.5  187.5 ]\n",
      "   ...\n",
      "   [189.75 181.75 179.75]\n",
      "   [188.   180.   178.  ]\n",
      "   [185.75 177.75 175.75]]]\n",
      "\n",
      "\n",
      " [[[210.75 209.75 205.75]\n",
      "   [220.5  219.5  215.5 ]\n",
      "   [216.25 215.25 211.25]\n",
      "   ...\n",
      "   [165.25 160.25 164.25]\n",
      "   [164.25 159.25 163.25]\n",
      "   [169.75 164.75 168.75]]\n",
      "\n",
      "  [[212.5  211.5  207.5 ]\n",
      "   [217.75 216.75 212.75]\n",
      "   [218.   217.   213.  ]\n",
      "   ...\n",
      "   [164.   159.   163.  ]\n",
      "   [162.25 157.25 161.25]\n",
      "   [163.   158.   162.  ]]\n",
      "\n",
      "  [[214.5  213.5  209.5 ]\n",
      "   [221.   220.   216.  ]\n",
      "   [223.25 222.25 218.25]\n",
      "   ...\n",
      "   [164.   159.   163.  ]\n",
      "   [159.5  154.5  158.5 ]\n",
      "   [157.   152.   156.  ]]\n",
      "\n",
      "  ...\n",
      "\n",
      "  [[145.75 135.75 133.75]\n",
      "   [143.75 133.75 131.75]\n",
      "   [151.25 141.25 139.25]\n",
      "   ...\n",
      "   [113.   102.   106.  ]\n",
      "   [115.25 104.25 108.25]\n",
      "   [126.5  115.5  119.5 ]]\n",
      "\n",
      "  [[130.   120.   118.  ]\n",
      "   [133.   123.   121.  ]\n",
      "   [155.   145.   143.  ]\n",
      "   ...\n",
      "   [108.75  97.75 101.75]\n",
      "   [108.    97.   101.  ]\n",
      "   [114.25 103.25 107.25]]\n",
      "\n",
      "  [[154.   144.   142.  ]\n",
      "   [147.75 137.75 135.75]\n",
      "   [150.   140.   138.  ]\n",
      "   ...\n",
      "   [108.75  97.75 101.75]\n",
      "   [110.5   99.5  103.5 ]\n",
      "   [108.5   97.5  101.5 ]]]\n",
      "\n",
      "\n",
      " [[[161.5  151.5  150.5 ]\n",
      "   [161.   151.   150.  ]\n",
      "   [160.   150.   149.  ]\n",
      "   ...\n",
      "   [140.   131.   134.  ]\n",
      "   [139.5  130.5  133.5 ]\n",
      "   [139.75 130.75 133.75]]\n",
      "\n",
      "  [[161.5  151.5  150.5 ]\n",
      "   [161.   151.   150.  ]\n",
      "   [160.   150.   149.  ]\n",
      "   ...\n",
      "   [138.   129.   132.  ]\n",
      "   [137.5  128.5  131.5 ]\n",
      "   [137.5  128.5  131.5 ]]\n",
      "\n",
      "  [[161.5  151.5  150.5 ]\n",
      "   [161.   151.   150.  ]\n",
      "   [160.   150.   149.  ]\n",
      "   ...\n",
      "   [137.25 128.25 131.25]\n",
      "   [136.25 127.25 130.25]\n",
      "   [137.   128.   131.  ]]\n",
      "\n",
      "  ...\n",
      "\n",
      "  [[ 94.    85.    88.  ]\n",
      "   [ 92.5   83.5   86.5 ]\n",
      "   [ 95.    86.    89.  ]\n",
      "   ...\n",
      "   [ 46.25  41.25  38.25]\n",
      "   [ 44.75  39.75  36.75]\n",
      "   [ 46.25  41.25  38.25]]\n",
      "\n",
      "  [[ 95.5   86.5   89.5 ]\n",
      "   [ 98.25  89.25  92.25]\n",
      "   [ 98.75  89.75  92.75]\n",
      "   ...\n",
      "   [ 50.75  45.75  42.75]\n",
      "   [ 52.5   47.5   44.5 ]\n",
      "   [ 48.5   43.5   40.5 ]]\n",
      "\n",
      "  [[ 90.    81.    84.  ]\n",
      "   [ 92.    83.    86.  ]\n",
      "   [ 88.75  79.75  82.75]\n",
      "   ...\n",
      "   [ 53.    48.    45.  ]\n",
      "   [ 52.5   47.5   44.5 ]\n",
      "   [ 50.    45.    42.  ]]]], shape=(32, 128, 128, 3), dtype=float32) (32, 128, 128, 3)\n",
      "tf.Tensor(\n",
      "[[0. 0. 0. ... 0. 0. 0.]\n",
      " [0. 0. 0. ... 0. 0. 0.]\n",
      " [0. 0. 0. ... 0. 0. 0.]\n",
      " ...\n",
      " [0. 0. 0. ... 0. 0. 0.]\n",
      " [0. 0. 0. ... 0. 0. 0.]\n",
      " [0. 0. 0. ... 0. 0. 0.]], shape=(32, 38), dtype=float32) (32, 38)\n"
     ]
    }
   ],
   "source": [
    "for x,y in training_set:\n",
    "    print(x,x.shape)\n",
    "    print(y,y.shape)\n",
    "    break"
   ]
  },
  {
   "cell_type": "markdown",
   "id": "5e6467fc-50e2-4936-8887-d95fb0ca2529",
   "metadata": {},
   "source": [
    "## Building Models"
   ]
  },
  {
   "cell_type": "code",
   "execution_count": 6,
   "id": "d29b83af-7616-47f0-986c-df4ae52124d3",
   "metadata": {},
   "outputs": [],
   "source": [
    "from tensorflow.keras.layers import Dense,Conv2D,MaxPool2D,Flatten,Dropout\n",
    "from tensorflow.keras.models import Sequential"
   ]
  },
  {
   "cell_type": "code",
   "execution_count": 7,
   "id": "c570bec0-4ef2-4d89-b82b-252dfb648c46",
   "metadata": {},
   "outputs": [],
   "source": [
    "model = Sequential()"
   ]
  },
  {
   "cell_type": "code",
   "execution_count": 8,
   "id": "793057d2-2578-457c-a970-42bddc6f1c18",
   "metadata": {},
   "outputs": [],
   "source": [
    "## Building Convolutional Layers"
   ]
  },
  {
   "cell_type": "code",
   "execution_count": 9,
   "id": "1f315127-232e-4793-8cf2-061376bc0570",
   "metadata": {},
   "outputs": [],
   "source": [
    "model.add(Conv2D(filters=32,kernel_size=3,padding='same',activation='relu',input_shape=[128, 128, 3]))\n",
    "model.add(Conv2D(filters=32,kernel_size=3,activation='relu'))\n",
    "model.add(MaxPool2D(pool_size=2,strides=2))"
   ]
  },
  {
   "cell_type": "code",
   "execution_count": 10,
   "id": "27ad0828-3ada-42e4-a6ee-3f60a0c1cb68",
   "metadata": {},
   "outputs": [],
   "source": [
    "model.add(Conv2D(filters=64,kernel_size=3,padding='same',activation='relu'))\n",
    "model.add(Conv2D(filters=64,kernel_size=3,activation='relu'))\n",
    "model.add(MaxPool2D(pool_size=2,strides=2))"
   ]
  },
  {
   "cell_type": "code",
   "execution_count": 11,
   "id": "2a50ccb4-e604-491a-85ba-2824ca4e7f2c",
   "metadata": {},
   "outputs": [],
   "source": [
    "model.add(Conv2D(filters=128,kernel_size=3,padding='same',activation='relu'))\n",
    "model.add(Conv2D(filters=128,kernel_size=3,activation='relu'))\n",
    "model.add(MaxPool2D(pool_size=2,strides=2))"
   ]
  },
  {
   "cell_type": "code",
   "execution_count": 12,
   "id": "9587e6bb-254f-4aaa-b9ec-e53aac2580d9",
   "metadata": {},
   "outputs": [],
   "source": [
    "model.add(Conv2D(filters=256,kernel_size=3,padding='same',activation='relu'))\n",
    "model.add(Conv2D(filters=256,kernel_size=3,activation='relu'))\n",
    "model.add(MaxPool2D(pool_size=2,strides=2))"
   ]
  },
  {
   "cell_type": "code",
   "execution_count": 13,
   "id": "dfe0f876-9024-4a11-8732-a9f2090150c4",
   "metadata": {},
   "outputs": [],
   "source": [
    "model.add(Conv2D(filters=512,kernel_size=3,padding='same',activation='relu'))\n",
    "model.add(Conv2D(filters=512,kernel_size=3,activation='relu'))\n",
    "model.add(MaxPool2D(pool_size=2,strides=2))"
   ]
  },
  {
   "cell_type": "code",
   "execution_count": 14,
   "id": "9f174911-bdaf-488e-9a0a-b74e6c5f921f",
   "metadata": {},
   "outputs": [],
   "source": [
    "model.add(Dropout(0.25))"
   ]
  },
  {
   "cell_type": "code",
   "execution_count": 15,
   "id": "2c5596f7-15f1-4423-9d64-fec92b04ab07",
   "metadata": {},
   "outputs": [],
   "source": [
    "model.add(Flatten())"
   ]
  },
  {
   "cell_type": "code",
   "execution_count": 16,
   "id": "8db51cf1-de19-4b23-a688-b5ca0462c4bc",
   "metadata": {},
   "outputs": [],
   "source": [
    "model.add(Dense(units=1500,activation='relu'))"
   ]
  },
  {
   "cell_type": "code",
   "execution_count": 17,
   "id": "bf955b2d-7979-4400-9807-4db096af178d",
   "metadata": {},
   "outputs": [],
   "source": [
    "model.add(Dropout(0.4))"
   ]
  },
  {
   "cell_type": "code",
   "execution_count": 18,
   "id": "7793b45c-d754-4b54-b0b3-b9ca76625eee",
   "metadata": {},
   "outputs": [],
   "source": [
    "## Output Layer\n",
    "model.add(Dense(units=38,activation='softmax'))  # Adjusted for 21 classes\n"
   ]
  },
  {
   "cell_type": "markdown",
   "id": "c49c5651-8163-4f83-83a1-d24958a2c84c",
   "metadata": {},
   "source": [
    "## Compiling Model"
   ]
  },
  {
   "cell_type": "code",
   "execution_count": 19,
   "id": "f941bca8-7973-4590-b3b8-d1187397ec22",
   "metadata": {},
   "outputs": [],
   "source": [
    "model.compile(optimizer=tf.keras.optimizers.legacy.Adam(learning_rate=0.0001), \n",
    "              loss='categorical_crossentropy', \n",
    "              metrics=['accuracy'])"
   ]
  },
  {
   "cell_type": "raw",
   "id": "d78fe2b5-9620-4d9b-b2af-e8eea726b24b",
   "metadata": {},
   "source": [
    "model.summary()"
   ]
  },
  {
   "cell_type": "markdown",
   "id": "b41ad96c-62f7-4187-91ff-748729c135c1",
   "metadata": {},
   "source": [
    "## Model training"
   ]
  },
  {
   "cell_type": "code",
   "execution_count": 20,
   "id": "0feda53e-d1e8-4cbf-a166-f7c651ec2889",
   "metadata": {},
   "outputs": [
    {
     "name": "stdout",
     "output_type": "stream",
     "text": [
      "Epoch 1/10\n",
      "2197/2197 [==============================] - 8385s 4s/step - loss: 1.2784 - accuracy: 0.6213 - val_loss: 0.5108 - val_accuracy: 0.8424\n",
      "Epoch 2/10\n",
      "2197/2197 [==============================] - 4813s 2s/step - loss: 0.4112 - accuracy: 0.8705 - val_loss: 0.2398 - val_accuracy: 0.9214\n",
      "Epoch 3/10\n",
      "2197/2197 [==============================] - 31925s 15s/step - loss: 0.2510 - accuracy: 0.9190 - val_loss: 0.1769 - val_accuracy: 0.9427\n",
      "Epoch 4/10\n",
      "2197/2197 [==============================] - 21221s 10s/step - loss: 0.1709 - accuracy: 0.9438 - val_loss: 0.1720 - val_accuracy: 0.9430\n",
      "Epoch 5/10\n",
      "2197/2197 [==============================] - 5330s 2s/step - loss: 0.1259 - accuracy: 0.9585 - val_loss: 0.1255 - val_accuracy: 0.9594\n",
      "Epoch 6/10\n",
      "2197/2197 [==============================] - 9168s 4s/step - loss: 0.1023 - accuracy: 0.9668 - val_loss: 0.1407 - val_accuracy: 0.9554\n",
      "Epoch 7/10\n",
      "2197/2197 [==============================] - 5379s 2s/step - loss: 0.0846 - accuracy: 0.9724 - val_loss: 0.0981 - val_accuracy: 0.9702\n",
      "Epoch 8/10\n",
      "2197/2197 [==============================] - 8490s 4s/step - loss: 0.0675 - accuracy: 0.9785 - val_loss: 0.1604 - val_accuracy: 0.9544\n",
      "Epoch 9/10\n",
      "2197/2197 [==============================] - 5488s 2s/step - loss: 0.0630 - accuracy: 0.9792 - val_loss: 0.1182 - val_accuracy: 0.9665\n",
      "Epoch 10/10\n",
      "2197/2197 [==============================] - 5894s 3s/step - loss: 0.0526 - accuracy: 0.9825 - val_loss: 0.1574 - val_accuracy: 0.9530\n"
     ]
    }
   ],
   "source": [
    "training_history = model.fit(x=training_set,validation_data=validation_set,epochs=10)"
   ]
  },
  {
   "cell_type": "code",
   "execution_count": null,
   "id": "b66b8811-f670-40f2-aea1-ac16e54cf7bf",
   "metadata": {},
   "outputs": [],
   "source": [
    "    "
   ]
  },
  {
   "cell_type": "markdown",
   "id": "cb6bf022-c393-4557-85d2-f61319c8819e",
   "metadata": {},
   "source": [
    "## Model evaluation"
   ]
  },
  {
   "cell_type": "code",
   "execution_count": 1,
   "id": "421cd6e0-a910-4898-b415-99210758e12d",
   "metadata": {},
   "outputs": [
    {
     "ename": "NameError",
     "evalue": "name 'model' is not defined",
     "output_type": "error",
     "traceback": [
      "\u001b[1;31m---------------------------------------------------------------------------\u001b[0m",
      "\u001b[1;31mNameError\u001b[0m                                 Traceback (most recent call last)",
      "Cell \u001b[1;32mIn[1], line 1\u001b[0m\n\u001b[1;32m----> 1\u001b[0m train_loss,train_acc \u001b[38;5;241m=\u001b[39m \u001b[43mmodel\u001b[49m\u001b[38;5;241m.\u001b[39mevaluate(training_set)\n",
      "\u001b[1;31mNameError\u001b[0m: name 'model' is not defined"
     ]
    }
   ],
   "source": [
    "train_loss,train_acc = model.evaluate(training_set)"
   ]
  },
  {
   "cell_type": "code",
   "execution_count": null,
   "id": "a8a9b856-28c0-4d8a-879a-a84760ebbae8",
   "metadata": {},
   "outputs": [],
   "source": [
    "print(train_loss,train_acc)"
   ]
  },
  {
   "cell_type": "code",
   "execution_count": null,
   "id": "0a894539-9e81-449c-8138-8e5dc3875035",
   "metadata": {},
   "outputs": [],
   "source": [
    "# Model Salidation Set"
   ]
  },
  {
   "cell_type": "code",
   "execution_count": null,
   "id": "1f35f60d-b10f-4dc9-a25c-3438fcccdc3b",
   "metadata": {},
   "outputs": [],
   "source": [
    "val_loss,Val_acc = model.evaluate(validation_set)"
   ]
  },
  {
   "cell_type": "code",
   "execution_count": null,
   "id": "e2a74b05-6589-42af-9c31-878390bbdf66",
   "metadata": {},
   "outputs": [],
   "source": [
    "print(val_loss,Val_acc)"
   ]
  },
  {
   "cell_type": "code",
   "execution_count": null,
   "id": "0eb423cb-7a35-42e8-a6cb-c7daeff89d8a",
   "metadata": {},
   "outputs": [],
   "source": []
  },
  {
   "cell_type": "markdown",
   "id": "6c11e959-3c6f-4b03-b2d3-2a9bd072cefe",
   "metadata": {},
   "source": [
    "## Saving Model"
   ]
  },
  {
   "cell_type": "code",
   "execution_count": null,
   "id": "2c2a22f6-669a-4e00-9ff0-6524fe3b9771",
   "metadata": {},
   "outputs": [],
   "source": [
    "model.save(\"trained_model.keras\")"
   ]
  },
  {
   "cell_type": "code",
   "execution_count": null,
   "id": "e8c43e49-de44-48de-9db1-a394e47540f0",
   "metadata": {},
   "outputs": [],
   "source": [
    "training_history.history"
   ]
  },
  {
   "cell_type": "code",
   "execution_count": null,
   "id": "e46f3e1f-13d8-441b-b566-1f1ff244e1a3",
   "metadata": {},
   "outputs": [],
   "source": [
    "##Recording history\n",
    "import json\n",
    "with open(\"training_hist.json\",\"w\") as f:\n",
    "    json.dump(training_history.history,f)"
   ]
  },
  {
   "cell_type": "code",
   "execution_count": null,
   "id": "2499d9be-8f4f-4001-aad6-2f75d34401c0",
   "metadata": {},
   "outputs": [],
   "source": [
    "training_history.history['accuracy']"
   ]
  },
  {
   "cell_type": "markdown",
   "id": "00208bd0-fb25-4e0d-a17f-7285b46a1654",
   "metadata": {},
   "source": [
    "## Accuracy Visualization"
   ]
  },
  {
   "cell_type": "code",
   "execution_count": null,
   "id": "614ad208-0176-4e5b-ac81-26101f7c2687",
   "metadata": {},
   "outputs": [],
   "source": [
    "epochs = [i for i in range(1,11)]\n",
    "plt.plot(epochs,training_history.history['accuracy'],color='red',label='training Accuracy')\n",
    "plt.plot(epochs,training_history.history['val_accuracy'],color='blue',label='validation Accuracy')\n",
    "plt.xlabel(\"No of Epochs\")\n",
    "plt.ylabel(\"acccurracy Result\")\n",
    "plt.title(\"Vsualization Of Accuracy Result\")\n",
    "plt.legend()\n",
    "plt.show()"
   ]
  },
  {
   "cell_type": "code",
   "execution_count": null,
   "id": "99ee59b0-727b-404d-bda8-0c66ff425a12",
   "metadata": {},
   "outputs": [],
   "source": []
  },
  {
   "cell_type": "markdown",
   "id": "c458c9d8-e4b3-473d-baa1-318fdacdba2d",
   "metadata": {},
   "source": [
    "## Metrics for model evaluation"
   ]
  },
  {
   "cell_type": "code",
   "execution_count": null,
   "id": "f2a73b40-e231-489e-a5f9-501927b614e6",
   "metadata": {},
   "outputs": [],
   "source": [
    "class_name = validation_set.class_names\n",
    "class_name"
   ]
  },
  {
   "cell_type": "code",
   "execution_count": null,
   "id": "ca3fff71-9f95-4ccb-8663-94596f08f39a",
   "metadata": {},
   "outputs": [],
   "source": []
  },
  {
   "cell_type": "code",
   "execution_count": null,
   "id": "e4f72d02-b266-4b1f-94b2-071826173e00",
   "metadata": {},
   "outputs": [],
   "source": [
    "test_set =  tf.keras.utils.image_dataset_from_directory(\n",
    "   'valid',\n",
    "    labels=\"inferred\",\n",
    "    label_mode=\"categorical\",\n",
    "    class_names=None,\n",
    "    color_mode=\"rgb\",\n",
    "    batch_size=32,\n",
    "    image_size=(128, 128),\n",
    "    shuffle=False,\n",
    "    seed=None,\n",
    "    validation_split=None,\n",
    "    subset=None,\n",
    "    interpolation=\"bilinear\",\n",
    "    follow_links=False,\n",
    "    crop_to_aspect_ratio=False,\n",
    "\n",
    ")"
   ]
  },
  {
   "cell_type": "code",
   "execution_count": null,
   "id": "0ea20e8f-0c81-498f-926d-ef5af3bdc8a1",
   "metadata": {},
   "outputs": [],
   "source": [
    "y_pred = model.predict(test_set)\n",
    "y_pred,y_pred.shape"
   ]
  },
  {
   "cell_type": "code",
   "execution_count": null,
   "id": "6945afe2-0b74-44e8-9006-a9ca637f484d",
   "metadata": {},
   "outputs": [],
   "source": [
    "predicted_categories = tf.argmax(y_pred,axis=1)"
   ]
  },
  {
   "cell_type": "code",
   "execution_count": null,
   "id": "26c0d5f3-8861-44f3-8415-09d3c1ce0e6e",
   "metadata": {},
   "outputs": [],
   "source": [
    "predicted_categories"
   ]
  },
  {
   "cell_type": "code",
   "execution_count": null,
   "id": "856c9eb5-0430-4025-8ea9-d846815d9990",
   "metadata": {},
   "outputs": [],
   "source": [
    "true_categories = tf.concat([y for x,y in test_set],axis=0)\n",
    "true_categories"
   ]
  },
  {
   "cell_type": "code",
   "execution_count": null,
   "id": "96717f4b-52dd-4cf7-b7bd-8101959edd62",
   "metadata": {},
   "outputs": [],
   "source": [
    "Y_true = tf.argmax(true_cartegories,axis=1)\n",
    "Y_true"
   ]
  },
  {
   "cell_type": "code",
   "execution_count": null,
   "id": "9ecb2709-def4-4593-a163-4683d98bbafa",
   "metadata": {},
   "outputs": [],
   "source": [
    "## precision recall"
   ]
  },
  {
   "cell_type": "code",
   "execution_count": null,
   "id": "193e7323-c4ac-4155-b7ea-bf5dfa5b105a",
   "metadata": {},
   "outputs": [],
   "source": [
    "from sklearn.metrics import classification_report,confusion_matrix\n",
    "print(classification_report(Y_true, predicted_categories, target_names=class_name))\n"
   ]
  },
  {
   "cell_type": "code",
   "execution_count": null,
   "id": "d7289ad6-9cb7-4610-baef-c44ac4879378",
   "metadata": {},
   "outputs": [],
   "source": [
    "cm =confusion_matrix(Y_true,predicted_categories)\n",
    "cm"
   ]
  },
  {
   "cell_type": "code",
   "execution_count": null,
   "id": "96aeeb8e-7e5a-456c-8f10-6fdef4372943",
   "metadata": {},
   "outputs": [],
   "source": []
  },
  {
   "cell_type": "markdown",
   "id": "2f024764-1c04-4423-bb5e-8c0556142fd3",
   "metadata": {},
   "source": [
    "### Confusion Matrix Visualization"
   ]
  },
  {
   "cell_type": "code",
   "execution_count": null,
   "id": "575024df-619d-492f-8dd5-bda96d472c6b",
   "metadata": {},
   "outputs": [],
   "source": [
    "plt.figure(figsize=(40,40))\n",
    "sns.heatmap(cm,annot=True,annot_kws={'size':10})\n",
    "plt.xlabel(\"Predicted Class\",fontsize=20)\n",
    "plt.ylabel(\"Actual Class\",fontsize=20)\n",
    "plt.title(\"Plant Disease Prediction Confusion Matrix\",fontsize=30)\n",
    "plt.show()"
   ]
  },
  {
   "cell_type": "code",
   "execution_count": null,
   "id": "44d30f03-d8c3-4d56-a16a-edc8277861d8",
   "metadata": {},
   "outputs": [],
   "source": []
  },
  {
   "cell_type": "code",
   "execution_count": null,
   "id": "799ee82f-5b31-4539-a455-fa19d68f61c3",
   "metadata": {},
   "outputs": [],
   "source": []
  },
  {
   "cell_type": "code",
   "execution_count": null,
   "id": "4a49be82-90bc-4f82-99b0-2eaa57c700cb",
   "metadata": {},
   "outputs": [],
   "source": []
  },
  {
   "cell_type": "code",
   "execution_count": null,
   "id": "75889018-7302-4e53-bfc3-8f33f60091d3",
   "metadata": {},
   "outputs": [],
   "source": []
  },
  {
   "cell_type": "code",
   "execution_count": null,
   "id": "83b35399-efc1-4792-a3a5-95cfd29e6618",
   "metadata": {},
   "outputs": [],
   "source": []
  },
  {
   "cell_type": "code",
   "execution_count": null,
   "id": "e86baa14-fd18-4e98-8dc7-2c8d4d0f146d",
   "metadata": {},
   "outputs": [],
   "source": []
  },
  {
   "cell_type": "code",
   "execution_count": null,
   "id": "a8f9b9f4-c3c4-41b4-b4ba-c21a3ce72250",
   "metadata": {},
   "outputs": [],
   "source": []
  }
 ],
 "metadata": {
  "kernelspec": {
   "display_name": "TensorFlow",
   "language": "python",
   "name": "tf_kernel"
  },
  "language_info": {
   "codemirror_mode": {
    "name": "ipython",
    "version": 3
   },
   "file_extension": ".py",
   "mimetype": "text/x-python",
   "name": "python",
   "nbconvert_exporter": "python",
   "pygments_lexer": "ipython3",
   "version": "3.10.8"
  }
 },
 "nbformat": 4,
 "nbformat_minor": 5
}
