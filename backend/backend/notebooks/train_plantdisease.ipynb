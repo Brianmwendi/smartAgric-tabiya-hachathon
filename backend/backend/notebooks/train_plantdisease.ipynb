{
 "cells": [
  {
   "cell_type": "code",
   "execution_count": 1,
   "metadata": {},
   "outputs": [],
   "source": [
    "import tensorflow as tf\n",
    "import matplotlib.pyplot as plt\n",
    "import pandas as pd\n",
    "import seaborn as sns\n"
   ]
  },
  {
   "cell_type": "code",
   "execution_count": 2,
   "metadata": {},
   "outputs": [
    {
     "name": "stdout",
     "output_type": "stream",
     "text": [
      "Found 70295 files belonging to 38 classes.\n",
      "Found 17572 files belonging to 38 classes.\n"
     ]
    }
   ],
   "source": [
    "import tensorflow as tf\n",
    "\n",
    "# Load the training dataset\n",
    "training_set = tf.keras.utils.image_dataset_from_directory(\n",
    "    r'C:\\Users\\PC\\Desktop\\mlearning\\backend\\New Plant Diseases Dataset(Augmented)\\train',  # Use raw string for Windows paths\n",
    "    labels=\"inferred\",\n",
    "    label_mode=\"categorical\",\n",
    "    color_mode=\"rgb\",\n",
    "    batch_size=32,\n",
    "    image_size=(128, 128),\n",
    "    shuffle=True,\n",
    ")\n",
    "\n",
    "# Load the validation dataset\n",
    "validation_set = tf.keras.utils.image_dataset_from_directory(\n",
    "    r'C:\\Users\\PC\\Desktop\\mlearning\\backend\\New Plant Diseases Dataset(Augmented)\\valid',  # Use raw string for Windows paths\n",
    "    labels=\"inferred\",\n",
    "    label_mode=\"categorical\",\n",
    "    color_mode=\"rgb\",\n",
    "    batch_size=32,\n",
    "    image_size=(128, 128),\n",
    "    shuffle=True,\n",
    ")\n"
   ]
  },
  {
   "cell_type": "code",
   "execution_count": 3,
   "metadata": {},
   "outputs": [
    {
     "name": "stdout",
     "output_type": "stream",
     "text": [
      "Found 70295 files belonging to 38 classes.\n"
     ]
    }
   ],
   "source": [
    "training_set = tf.keras.utils.image_dataset_from_directory(\n",
    "    r'C:\\Users\\PC\\Desktop\\mlearning\\backend\\New Plant Diseases Dataset(Augmented)\\train',  # Use raw string for Windows paths\n",
    "    labels=\"inferred\",\n",
    "    label_mode=\"categorical\",\n",
    "    color_mode=\"rgb\",\n",
    "    batch_size=32,\n",
    "    image_size=(128, 128),\n",
    "    shuffle=True,\n",
    "     seed=None,\n",
    "    validation_split=None,\n",
    "    subset=None,\n",
    "    interpolation=\"bilinear\",\n",
    "    follow_links=False,\n",
    "    crop_to_aspect_ratio=False,\n",
    ")"
   ]
  },
  {
   "cell_type": "code",
   "execution_count": 4,
   "metadata": {},
   "outputs": [
    {
     "name": "stdout",
     "output_type": "stream",
     "text": [
      "Found 17572 files belonging to 38 classes.\n"
     ]
    }
   ],
   "source": [
    "validation_set = tf.keras.utils.image_dataset_from_directory(\n",
    "    r'C:\\Users\\PC\\Desktop\\mlearning\\backend\\New Plant Diseases Dataset(Augmented)\\valid',  # Use raw string for Windows paths\n",
    "    labels=\"inferred\",\n",
    "    label_mode=\"categorical\",\n",
    "    color_mode=\"rgb\",\n",
    "    batch_size=32,\n",
    "    image_size=(128, 128),\n",
    "    shuffle=True,\n",
    "     seed=None,\n",
    "    validation_split=None,\n",
    "    subset=None,\n",
    "    interpolation=\"bilinear\",\n",
    "    follow_links=False,\n",
    "    crop_to_aspect_ratio=False,\n",
    ")\n"
   ]
  },
  {
   "cell_type": "code",
   "execution_count": 5,
   "metadata": {},
   "outputs": [
    {
     "data": {
      "text/plain": [
       "<BatchDataset element_spec=(TensorSpec(shape=(None, 128, 128, 3), dtype=tf.float32, name=None), TensorSpec(shape=(None, 38), dtype=tf.float32, name=None))>"
      ]
     },
     "execution_count": 5,
     "metadata": {},
     "output_type": "execute_result"
    }
   ],
   "source": [
    "training_set\n"
   ]
  },
  {
   "cell_type": "code",
   "execution_count": 6,
   "metadata": {},
   "outputs": [
    {
     "name": "stdout",
     "output_type": "stream",
     "text": [
      "tf.Tensor(\n",
      "[[[[ 69.    74.    94.  ]\n",
      "   [ 69.5   74.5   94.5 ]\n",
      "   [ 71.5   76.5   96.5 ]\n",
      "   ...\n",
      "   [112.5  117.5  137.5 ]\n",
      "   [113.25 118.25 138.25]\n",
      "   [112.5  117.5  137.5 ]]\n",
      "\n",
      "  [[ 69.25  74.25  94.25]\n",
      "   [ 72.25  77.25  97.25]\n",
      "   [ 72.5   77.5   97.5 ]\n",
      "   ...\n",
      "   [112.25 117.25 137.25]\n",
      "   [111.5  116.5  136.5 ]\n",
      "   [110.   115.   135.  ]]\n",
      "\n",
      "  [[ 65.25  70.25  90.25]\n",
      "   [ 70.25  75.25  95.25]\n",
      "   [ 73.    78.    98.  ]\n",
      "   ...\n",
      "   [112.75 117.75 137.75]\n",
      "   [112.75 117.75 137.75]\n",
      "   [112.   117.   137.  ]]\n",
      "\n",
      "  ...\n",
      "\n",
      "  [[ 93.5  101.5  124.5 ]\n",
      "   [ 86.5   94.5  117.5 ]\n",
      "   [ 89.25  97.25 120.25]\n",
      "   ...\n",
      "   [114.5  124.5  151.5 ]\n",
      "   [114.5  124.5  151.5 ]\n",
      "   [113.25 123.25 150.25]]\n",
      "\n",
      "  [[ 91.    99.   122.  ]\n",
      "   [ 90.25  98.25 121.25]\n",
      "   [ 93.5  101.5  124.5 ]\n",
      "   ...\n",
      "   [113.75 123.75 150.75]\n",
      "   [113.75 123.75 150.75]\n",
      "   [112.5  122.5  149.5 ]]\n",
      "\n",
      "  [[ 85.    93.   116.  ]\n",
      "   [ 90.75  98.75 121.75]\n",
      "   [ 92.   100.   123.  ]\n",
      "   ...\n",
      "   [113.   123.   150.  ]\n",
      "   [113.   123.   150.  ]\n",
      "   [112.   122.   149.  ]]]\n",
      "\n",
      "\n",
      " [[[158.5  147.5  164.5 ]\n",
      "   [162.25 151.25 168.25]\n",
      "   [166.5  155.5  172.5 ]\n",
      "   ...\n",
      "   [191.25 183.25 198.25]\n",
      "   [179.   171.   186.  ]\n",
      "   [181.75 173.75 188.75]]\n",
      "\n",
      "  [[158.75 147.75 164.75]\n",
      "   [157.   146.   163.  ]\n",
      "   [160.75 149.75 166.75]\n",
      "   ...\n",
      "   [186.   178.   193.  ]\n",
      "   [186.75 178.75 193.75]\n",
      "   [188.25 180.25 195.25]]\n",
      "\n",
      "  [[153.   142.   159.  ]\n",
      "   [154.5  143.5  160.5 ]\n",
      "   [165.25 154.25 171.25]\n",
      "   ...\n",
      "   [189.25 181.25 196.25]\n",
      "   [192.25 184.25 199.25]\n",
      "   [192.5  184.5  199.5 ]]\n",
      "\n",
      "  ...\n",
      "\n",
      "  [[134.75 120.75 133.75]\n",
      "   [167.   153.   166.  ]\n",
      "   [148.75 134.75 147.75]\n",
      "   ...\n",
      "   [147.5  135.5  147.5 ]\n",
      "   [166.25 154.25 166.25]\n",
      "   [171.25 159.25 171.25]]\n",
      "\n",
      "  [[151.75 137.75 150.75]\n",
      "   [141.   127.   140.  ]\n",
      "   [134.75 120.75 133.75]\n",
      "   ...\n",
      "   [183.   171.   183.  ]\n",
      "   [138.   126.   138.  ]\n",
      "   [135.   123.   135.  ]]\n",
      "\n",
      "  [[115.75 101.75 114.75]\n",
      "   [137.   123.   136.  ]\n",
      "   [130.   116.   129.  ]\n",
      "   ...\n",
      "   [154.   142.   154.  ]\n",
      "   [140.5  128.5  140.5 ]\n",
      "   [141.   129.   141.  ]]]\n",
      "\n",
      "\n",
      " [[[ 97.    92.    95.  ]\n",
      "   [188.75 182.75 186.75]\n",
      "   [186.75 180.75 184.75]\n",
      "   ...\n",
      "   [172.75 165.75 172.75]\n",
      "   [176.   169.   176.  ]\n",
      "   [179.75 172.75 179.75]]\n",
      "\n",
      "  [[ 96.5   91.5   94.5 ]\n",
      "   [188.75 182.75 186.75]\n",
      "   [188.   182.   186.  ]\n",
      "   ...\n",
      "   [166.75 159.75 166.75]\n",
      "   [168.75 161.75 168.75]\n",
      "   [182.25 175.25 182.25]]\n",
      "\n",
      "  [[ 97.5   92.5   95.5 ]\n",
      "   [190.   184.   188.  ]\n",
      "   [188.25 182.25 186.25]\n",
      "   ...\n",
      "   [192.75 185.75 192.75]\n",
      "   [161.5  154.5  161.5 ]\n",
      "   [163.25 156.25 163.25]]\n",
      "\n",
      "  ...\n",
      "\n",
      "  [[100.25  92.75  94.25]\n",
      "   [189.25 180.25 183.25]\n",
      "   [182.   173.   176.  ]\n",
      "   ...\n",
      "   [ 66.5   61.5   67.5 ]\n",
      "   [ 68.    63.    69.  ]\n",
      "   [ 67.75  62.75  68.75]]\n",
      "\n",
      "  [[ 96.5   89.    90.5 ]\n",
      "   [188.75 179.75 182.75]\n",
      "   [189.25 180.25 183.25]\n",
      "   ...\n",
      "   [ 72.5   67.5   73.5 ]\n",
      "   [ 69.25  64.25  70.25]\n",
      "   [ 66.    61.    67.  ]]\n",
      "\n",
      "  [[ 94.5   86.5   88.5 ]\n",
      "   [181.   172.   175.  ]\n",
      "   [184.75 175.75 178.75]\n",
      "   ...\n",
      "   [ 71.75  66.75  72.75]\n",
      "   [ 69.5   64.5   70.5 ]\n",
      "   [ 67.    62.    68.  ]]]\n",
      "\n",
      "\n",
      " ...\n",
      "\n",
      "\n",
      " [[[140.25 136.25 137.25]\n",
      "   [139.5  135.5  136.5 ]\n",
      "   [144.5  140.5  141.5 ]\n",
      "   ...\n",
      "   [149.   148.   153.  ]\n",
      "   [147.   146.   151.  ]\n",
      "   [148.   147.   152.  ]]\n",
      "\n",
      "  [[143.75 139.75 140.75]\n",
      "   [134.   130.   131.  ]\n",
      "   [138.75 134.75 135.75]\n",
      "   ...\n",
      "   [149.75 148.75 153.75]\n",
      "   [151.25 150.25 155.25]\n",
      "   [150.5  149.5  154.5 ]]\n",
      "\n",
      "  [[132.75 128.75 129.75]\n",
      "   [132.5  128.5  129.5 ]\n",
      "   [139.75 135.75 136.75]\n",
      "   ...\n",
      "   [147.75 146.75 151.75]\n",
      "   [148.25 147.25 152.25]\n",
      "   [146.75 145.75 150.75]]\n",
      "\n",
      "  ...\n",
      "\n",
      "  [[118.   112.   114.  ]\n",
      "   [120.75 114.75 116.75]\n",
      "   [120.5  114.5  116.5 ]\n",
      "   ...\n",
      "   [124.5  119.5  123.5 ]\n",
      "   [119.5  114.5  118.5 ]\n",
      "   [121.75 116.75 120.75]]\n",
      "\n",
      "  [[118.   112.   114.  ]\n",
      "   [120.75 114.75 116.75]\n",
      "   [120.5  114.5  116.5 ]\n",
      "   ...\n",
      "   [121.75 116.75 120.75]\n",
      "   [131.   126.   130.  ]\n",
      "   [127.25 122.25 126.25]]\n",
      "\n",
      "  [[120.   114.   116.  ]\n",
      "   [118.   112.   114.  ]\n",
      "   [116.75 110.75 112.75]\n",
      "   ...\n",
      "   [121.   116.   120.  ]\n",
      "   [124.5  119.5  123.5 ]\n",
      "   [118.5  113.5  117.5 ]]]\n",
      "\n",
      "\n",
      " [[[128.25 117.25 113.25]\n",
      "   [130.5  119.5  115.5 ]\n",
      "   [119.   108.   104.  ]\n",
      "   ...\n",
      "   [155.   147.   145.  ]\n",
      "   [156.75 148.75 146.75]\n",
      "   [162.75 154.75 152.75]]\n",
      "\n",
      "  [[128.5  117.5  113.5 ]\n",
      "   [131.5  120.5  116.5 ]\n",
      "   [129.75 118.75 114.75]\n",
      "   ...\n",
      "   [160.25 152.25 150.25]\n",
      "   [152.   144.   142.  ]\n",
      "   [158.   150.   148.  ]]\n",
      "\n",
      "  [[124.75 113.75 109.75]\n",
      "   [125.5  114.5  110.5 ]\n",
      "   [119.5  108.5  104.5 ]\n",
      "   ...\n",
      "   [172.5  164.5  162.5 ]\n",
      "   [161.5  153.5  151.5 ]\n",
      "   [162.   154.   152.  ]]\n",
      "\n",
      "  ...\n",
      "\n",
      "  [[141.   131.   129.  ]\n",
      "   [137.   127.   125.  ]\n",
      "   [147.75 137.75 135.75]\n",
      "   ...\n",
      "   [172.25 168.25 169.25]\n",
      "   [170.   166.   167.  ]\n",
      "   [168.75 164.75 165.75]]\n",
      "\n",
      "  [[136.75 126.75 124.75]\n",
      "   [139.   129.   127.  ]\n",
      "   [138.   128.   126.  ]\n",
      "   ...\n",
      "   [176.75 172.75 173.75]\n",
      "   [176.   172.   173.  ]\n",
      "   [180.   176.   177.  ]]\n",
      "\n",
      "  [[136.5  126.5  124.5 ]\n",
      "   [150.25 140.25 138.25]\n",
      "   [148.25 138.25 136.25]\n",
      "   ...\n",
      "   [166.   162.   163.  ]\n",
      "   [175.5  171.5  172.5 ]\n",
      "   [177.75 173.75 174.75]]]\n",
      "\n",
      "\n",
      " [[[209.5  195.5  195.5 ]\n",
      "   [207.75 193.75 193.75]\n",
      "   [201.   187.   187.  ]\n",
      "   ...\n",
      "   [203.75 186.75 192.75]\n",
      "   [206.   189.   195.  ]\n",
      "   [194.75 177.75 183.75]]\n",
      "\n",
      "  [[195.5  181.5  181.5 ]\n",
      "   [205.25 191.25 191.25]\n",
      "   [204.25 190.25 190.25]\n",
      "   ...\n",
      "   [197.   180.   186.  ]\n",
      "   [193.25 176.25 182.25]\n",
      "   [193.   176.   182.  ]]\n",
      "\n",
      "  [[202.   188.   188.  ]\n",
      "   [195.   181.   181.  ]\n",
      "   [193.75 179.75 179.75]\n",
      "   ...\n",
      "   [174.5  159.5  164.5 ]\n",
      "   [197.   182.   187.  ]\n",
      "   [184.25 169.25 174.25]]\n",
      "\n",
      "  ...\n",
      "\n",
      "  [[ 46.    52.    76.  ]\n",
      "   [ 44.75  52.75  75.75]\n",
      "   [ 48.25  56.25  79.25]\n",
      "   ...\n",
      "   [205.25 196.25 201.25]\n",
      "   [201.5  192.5  197.5 ]\n",
      "   [210.   201.   206.  ]]\n",
      "\n",
      "  [[ 46.5   52.5   76.5 ]\n",
      "   [ 43.25  51.25  74.25]\n",
      "   [ 47.25  55.25  78.25]\n",
      "   ...\n",
      "   [206.75 197.75 202.75]\n",
      "   [215.25 206.25 211.25]\n",
      "   [208.25 199.25 204.25]]\n",
      "\n",
      "  [[ 48.25  54.25  78.25]\n",
      "   [ 43.5   51.5   74.5 ]\n",
      "   [ 47.25  55.25  78.25]\n",
      "   ...\n",
      "   [206.25 197.25 202.25]\n",
      "   [207.75 198.75 203.75]\n",
      "   [208.5  199.5  204.5 ]]]], shape=(32, 128, 128, 3), dtype=float32) (32, 128, 128, 3)\n",
      "tf.Tensor(\n",
      "[[0. 0. 0. ... 0. 0. 0.]\n",
      " [0. 0. 0. ... 0. 0. 0.]\n",
      " [0. 0. 0. ... 0. 0. 0.]\n",
      " ...\n",
      " [0. 0. 0. ... 0. 0. 0.]\n",
      " [0. 0. 0. ... 0. 0. 0.]\n",
      " [0. 0. 0. ... 0. 0. 0.]], shape=(32, 38), dtype=float32) (32, 38)\n"
     ]
    }
   ],
   "source": [
    "for x,y in training_set:\n",
    "    print(x,x.shape)\n",
    "    print(y,y.shape)\n",
    "    break"
   ]
  },
  {
   "cell_type": "code",
   "execution_count": 7,
   "metadata": {},
   "outputs": [],
   "source": [
    "from tensorflow.keras.layers import Dense,Conv2D,MaxPool2D,Flatten,Dropout\n",
    "from tensorflow.keras.models import Sequential"
   ]
  },
  {
   "cell_type": "code",
   "execution_count": 8,
   "metadata": {},
   "outputs": [],
   "source": [
    "model = Sequential()"
   ]
  },
  {
   "cell_type": "code",
   "execution_count": 9,
   "metadata": {},
   "outputs": [],
   "source": [
    "model.add(Conv2D(filters=32,kernel_size=3,padding='same',activation='relu',input_shape=[128, 128, 3]))\n",
    "model.add(Conv2D(filters=32,kernel_size=3,activation='relu'))\n",
    "model.add(MaxPool2D(pool_size=2,strides=2))"
   ]
  },
  {
   "cell_type": "code",
   "execution_count": 10,
   "metadata": {},
   "outputs": [],
   "source": [
    "model.add(Conv2D(filters=64,kernel_size=3,padding='same',activation='relu'))\n",
    "model.add(Conv2D(filters=64,kernel_size=3,activation='relu'))\n",
    "model.add(MaxPool2D(pool_size=2,strides=2))"
   ]
  },
  {
   "cell_type": "code",
   "execution_count": 11,
   "metadata": {},
   "outputs": [],
   "source": [
    "model.add(Conv2D(filters=128,kernel_size=3,padding='same',activation='relu'))\n",
    "model.add(Conv2D(filters=128,kernel_size=3,activation='relu'))\n",
    "model.add(MaxPool2D(pool_size=2,strides=2))"
   ]
  },
  {
   "cell_type": "code",
   "execution_count": 12,
   "metadata": {},
   "outputs": [],
   "source": [
    "model.add(Conv2D(filters=256,kernel_size=3,padding='same',activation='relu'))\n",
    "model.add(Conv2D(filters=256,kernel_size=3,activation='relu'))\n",
    "model.add(MaxPool2D(pool_size=2,strides=2))"
   ]
  },
  {
   "cell_type": "code",
   "execution_count": 13,
   "metadata": {},
   "outputs": [],
   "source": [
    "model.add(Conv2D(filters=512,kernel_size=3,padding='same',activation='relu'))\n",
    "model.add(Conv2D(filters=512,kernel_size=3,activation='relu'))\n",
    "model.add(MaxPool2D(pool_size=2,strides=2))"
   ]
  },
  {
   "cell_type": "code",
   "execution_count": 14,
   "metadata": {},
   "outputs": [],
   "source": [
    "model.add(Dropout(0.25))"
   ]
  },
  {
   "cell_type": "code",
   "execution_count": 15,
   "metadata": {},
   "outputs": [],
   "source": [
    "model.add(Flatten())"
   ]
  },
  {
   "cell_type": "code",
   "execution_count": 16,
   "metadata": {},
   "outputs": [],
   "source": [
    "model.add(Dense(units=1500,activation='relu'))"
   ]
  },
  {
   "cell_type": "code",
   "execution_count": 17,
   "metadata": {},
   "outputs": [],
   "source": [
    "model.add(Dropout(0.4))"
   ]
  },
  {
   "cell_type": "code",
   "execution_count": 18,
   "metadata": {},
   "outputs": [],
   "source": [
    "## Output Layer\n",
    "model.add(Dense(units=38,activation='softmax'))"
   ]
  },
  {
   "cell_type": "code",
   "execution_count": 19,
   "metadata": {},
   "outputs": [],
   "source": [
    "model.compile(optimizer=tf.keras.optimizers.legacy.Adam(learning_rate=0.0001), \n",
    "              loss='categorical_crossentropy', \n",
    "              metrics=['accuracy'])"
   ]
  },
  {
   "cell_type": "code",
   "execution_count": 20,
   "metadata": {},
   "outputs": [
    {
     "name": "stdout",
     "output_type": "stream",
     "text": [
      "Model: \"sequential\"\n",
      "_________________________________________________________________\n",
      " Layer (type)                Output Shape              Param #   \n",
      "=================================================================\n",
      " conv2d (Conv2D)             (None, 128, 128, 32)      896       \n",
      "                                                                 \n",
      " conv2d_1 (Conv2D)           (None, 126, 126, 32)      9248      \n",
      "                                                                 \n",
      " max_pooling2d (MaxPooling2D  (None, 63, 63, 32)       0         \n",
      " )                                                               \n",
      "                                                                 \n",
      " conv2d_2 (Conv2D)           (None, 63, 63, 64)        18496     \n",
      "                                                                 \n",
      " conv2d_3 (Conv2D)           (None, 61, 61, 64)        36928     \n",
      "                                                                 \n",
      " max_pooling2d_1 (MaxPooling  (None, 30, 30, 64)       0         \n",
      " 2D)                                                             \n",
      "                                                                 \n",
      " conv2d_4 (Conv2D)           (None, 30, 30, 128)       73856     \n",
      "                                                                 \n",
      " conv2d_5 (Conv2D)           (None, 28, 28, 128)       147584    \n",
      "                                                                 \n",
      " max_pooling2d_2 (MaxPooling  (None, 14, 14, 128)      0         \n",
      " 2D)                                                             \n",
      "                                                                 \n",
      " conv2d_6 (Conv2D)           (None, 14, 14, 256)       295168    \n",
      "                                                                 \n",
      " conv2d_7 (Conv2D)           (None, 12, 12, 256)       590080    \n",
      "                                                                 \n",
      " max_pooling2d_3 (MaxPooling  (None, 6, 6, 256)        0         \n",
      " 2D)                                                             \n",
      "                                                                 \n",
      " conv2d_8 (Conv2D)           (None, 6, 6, 512)         1180160   \n",
      "                                                                 \n",
      " conv2d_9 (Conv2D)           (None, 4, 4, 512)         2359808   \n",
      "                                                                 \n",
      " max_pooling2d_4 (MaxPooling  (None, 2, 2, 512)        0         \n",
      " 2D)                                                             \n",
      "                                                                 \n",
      " dropout (Dropout)           (None, 2, 2, 512)         0         \n",
      "                                                                 \n",
      " flatten (Flatten)           (None, 2048)              0         \n",
      "                                                                 \n",
      " dense (Dense)               (None, 1500)              3073500   \n",
      "                                                                 \n",
      " dropout_1 (Dropout)         (None, 1500)              0         \n",
      "                                                                 \n",
      " dense_1 (Dense)             (None, 38)                57038     \n",
      "                                                                 \n",
      "=================================================================\n",
      "Total params: 7,842,762\n",
      "Trainable params: 7,842,762\n",
      "Non-trainable params: 0\n",
      "_________________________________________________________________\n"
     ]
    }
   ],
   "source": [
    "model.summary()"
   ]
  },
  {
   "cell_type": "markdown",
   "metadata": {},
   "source": [
    "# training_history = model.fit(x=training_set,validation_data=validation_set,epochs=10)"
   ]
  },
  {
   "cell_type": "code",
   "execution_count": 28,
   "metadata": {},
   "outputs": [
    {
     "name": "stdout",
     "output_type": "stream",
     "text": [
      "2197/2197 [==============================] - 1020s 464ms/step - loss: 0.0252 - accuracy: 0.9922\n"
     ]
    }
   ],
   "source": [
    "train_loss,train_acc = model.evaluate(training_set)"
   ]
  },
  {
   "cell_type": "code",
   "execution_count": null,
   "metadata": {},
   "outputs": [],
   "source": []
  },
  {
   "cell_type": "code",
   "execution_count": null,
   "metadata": {},
   "outputs": [],
   "source": []
  },
  {
   "cell_type": "code",
   "execution_count": 27,
   "metadata": {},
   "outputs": [
    {
     "name": "stdout",
     "output_type": "stream",
     "text": [
      "0.02516697719693184 0.9922184944152832\n"
     ]
    }
   ],
   "source": [
    "print(train_loss,train_acc)"
   ]
  },
  {
   "cell_type": "code",
   "execution_count": null,
   "metadata": {},
   "outputs": [],
   "source": [
    "# Model Salidation Set"
   ]
  },
  {
   "cell_type": "code",
   "execution_count": 29,
   "metadata": {},
   "outputs": [
    {
     "name": "stdout",
     "output_type": "stream",
     "text": [
      "550/550 [==============================] - 322s 584ms/step - loss: 0.1133 - accuracy: 0.9669\n"
     ]
    }
   ],
   "source": [
    "val_loss,Val_acc = model.evaluate(validation_set)"
   ]
  },
  {
   "cell_type": "code",
   "execution_count": 30,
   "metadata": {},
   "outputs": [
    {
     "name": "stdout",
     "output_type": "stream",
     "text": [
      "0.11334416270256042 0.9669360518455505\n"
     ]
    }
   ],
   "source": [
    "print(val_loss,Val_acc)"
   ]
  },
  {
   "cell_type": "code",
   "execution_count": 38,
   "metadata": {},
   "outputs": [],
   "source": [
    "model.save(\"trained_model.keras\")"
   ]
  },
  {
   "cell_type": "code",
   "execution_count": 32,
   "metadata": {},
   "outputs": [
    {
     "data": {
      "text/plain": [
       "{'loss': [1.4105323553085327,\n",
       "  0.449541300535202,\n",
       "  0.26417917013168335,\n",
       "  0.17884580790996552,\n",
       "  0.1320704072713852,\n",
       "  0.10372260957956314,\n",
       "  0.08806650340557098,\n",
       "  0.07005024701356888,\n",
       "  0.06248881667852402,\n",
       "  0.055234260857105255],\n",
       " 'accuracy': [0.5845934748649597,\n",
       "  0.8580268621444702,\n",
       "  0.9142897725105286,\n",
       "  0.9408634901046753,\n",
       "  0.9565829634666443,\n",
       "  0.9656305313110352,\n",
       "  0.9716907143592834,\n",
       "  0.9767550826072693,\n",
       "  0.9799559116363525,\n",
       "  0.981492280960083],\n",
       " 'val_loss': [0.5578755736351013,\n",
       "  0.3169862926006317,\n",
       "  0.19522929191589355,\n",
       "  0.19593507051467896,\n",
       "  0.17541268467903137,\n",
       "  0.1441739797592163,\n",
       "  0.10652264952659607,\n",
       "  0.13798688352108002,\n",
       "  0.11060288548469543,\n",
       "  0.11334419995546341],\n",
       " 'val_accuracy': [0.8166401386260986,\n",
       "  0.89597088098526,\n",
       "  0.935920774936676,\n",
       "  0.9368312954902649,\n",
       "  0.9466196298599243,\n",
       "  0.9558388590812683,\n",
       "  0.967277467250824,\n",
       "  0.9618142247200012,\n",
       "  0.9646596908569336,\n",
       "  0.9669360518455505]}"
      ]
     },
     "execution_count": 32,
     "metadata": {},
     "output_type": "execute_result"
    }
   ],
   "source": [
    "training_history.history"
   ]
  },
  {
   "cell_type": "code",
   "execution_count": 33,
   "metadata": {},
   "outputs": [],
   "source": [
    "##Recording history\n",
    "import json\n",
    "with open(\"training_hist.json\",\"w\") as f:\n",
    "    json.dump(training_history.history,f)"
   ]
  },
  {
   "cell_type": "code",
   "execution_count": 34,
   "metadata": {},
   "outputs": [
    {
     "data": {
      "text/plain": [
       "[0.5845934748649597,\n",
       " 0.8580268621444702,\n",
       " 0.9142897725105286,\n",
       " 0.9408634901046753,\n",
       " 0.9565829634666443,\n",
       " 0.9656305313110352,\n",
       " 0.9716907143592834,\n",
       " 0.9767550826072693,\n",
       " 0.9799559116363525,\n",
       " 0.981492280960083]"
      ]
     },
     "execution_count": 34,
     "metadata": {},
     "output_type": "execute_result"
    }
   ],
   "source": [
    "training_history.history['accuracy']"
   ]
  },
  {
   "cell_type": "code",
   "execution_count": 35,
   "metadata": {
    "scrolled": true
   },
   "outputs": [
    {
     "data": {
      "image/png": "[encoded data removed]",
      "text/plain": [
       "<Figure size 640x480 with 1 Axes>"
      ]
     },
     "metadata": {},
     "output_type": "display_data"
    }
   ],
   "source": [
    "epochs = [i for i in range(1,11)]\n",
    "plt.plot(epochs,training_history.history['accuracy'],color='red',label='training Accuracy')\n",
    "plt.plot(epochs,training_history.history['val_accuracy'],color='blue',label='validation Accuracy')\n",
    "plt.xlabel(\"No of Epochs\")\n",
    "plt.ylabel(\"acccurracy Result\")\n",
    "plt.title(\"Vsualization Of Accuracy Result\")\n",
    "plt.legend()\n",
    "plt.show()"
   ]
  },
  {
   "cell_type": "code",
   "execution_count": 36,
   "metadata": {},
   "outputs": [
    {
     "data": {
      "text/plain": [
       "['Apple___Apple_scab',\n",
       " 'Apple___Black_rot',\n",
       " 'Apple___Cedar_apple_rust',\n",
       " 'Apple___healthy',\n",
       " 'Blueberry___healthy',\n",
       " 'Cherry_(including_sour)___Powdery_mildew',\n",
       " 'Cherry_(including_sour)___healthy',\n",
       " 'Corn_(maize)___Cercospora_leaf_spot Gray_leaf_spot',\n",
       " 'Corn_(maize)___Common_rust_',\n",
       " 'Corn_(maize)___Northern_Leaf_Blight',\n",
       " 'Corn_(maize)___healthy',\n",
       " 'Grape___Black_rot',\n",
       " 'Grape___Esca_(Black_Measles)',\n",
       " 'Grape___Leaf_blight_(Isariopsis_Leaf_Spot)',\n",
       " 'Grape___healthy',\n",
       " 'Orange___Haunglongbing_(Citrus_greening)',\n",
       " 'Peach___Bacterial_spot',\n",
       " 'Peach___healthy',\n",
       " 'Pepper,_bell___Bacterial_spot',\n",
       " 'Pepper,_bell___healthy',\n",
       " 'Potato___Early_blight',\n",
       " 'Potato___Late_blight',\n",
       " 'Potato___healthy',\n",
       " 'Raspberry___healthy',\n",
       " 'Soybean___healthy',\n",
       " 'Squash___Powdery_mildew',\n",
       " 'Strawberry___Leaf_scorch',\n",
       " 'Strawberry___healthy',\n",
       " 'Tomato___Bacterial_spot',\n",
       " 'Tomato___Early_blight',\n",
       " 'Tomato___Late_blight',\n",
       " 'Tomato___Leaf_Mold',\n",
       " 'Tomato___Septoria_leaf_spot',\n",
       " 'Tomato___Spider_mites Two-spotted_spider_mite',\n",
       " 'Tomato___Target_Spot',\n",
       " 'Tomato___Tomato_Yellow_Leaf_Curl_Virus',\n",
       " 'Tomato___Tomato_mosaic_virus',\n",
       " 'Tomato___healthy']"
      ]
     },
     "execution_count": 36,
     "metadata": {},
     "output_type": "execute_result"
    }
   ],
   "source": [
    "class_name = validation_set.class_names\n",
    "class_name"
   ]
  },
  {
   "cell_type": "code",
   "execution_count": 37,
   "metadata": {
    "scrolled": true
   },
   "outputs": [
    {
     "ename": "NotFoundError",
     "evalue": "Could not find directory valid",
     "output_type": "error",
     "traceback": [
      "\u001b[1;31m---------------------------------------------------------------------------\u001b[0m",
      "\u001b[1;31mNotFoundError\u001b[0m                             Traceback (most recent call last)",
      "Cell \u001b[1;32mIn[37], line 1\u001b[0m\n\u001b[1;32m----> 1\u001b[0m test_set \u001b[38;5;241m=\u001b[39m  \u001b[43mtf\u001b[49m\u001b[38;5;241;43m.\u001b[39;49m\u001b[43mkeras\u001b[49m\u001b[38;5;241;43m.\u001b[39;49m\u001b[43mutils\u001b[49m\u001b[38;5;241;43m.\u001b[39;49m\u001b[43mimage_dataset_from_directory\u001b[49m\u001b[43m(\u001b[49m\n\u001b[0;32m      2\u001b[0m \u001b[43m   \u001b[49m\u001b[38;5;124;43m'\u001b[39;49m\u001b[38;5;124;43mvalid\u001b[39;49m\u001b[38;5;124;43m'\u001b[39;49m\u001b[43m,\u001b[49m\n\u001b[0;32m      3\u001b[0m \u001b[43m    \u001b[49m\u001b[43mlabels\u001b[49m\u001b[38;5;241;43m=\u001b[39;49m\u001b[38;5;124;43m\"\u001b[39;49m\u001b[38;5;124;43minferred\u001b[39;49m\u001b[38;5;124;43m\"\u001b[39;49m\u001b[43m,\u001b[49m\n\u001b[0;32m      4\u001b[0m \u001b[43m    \u001b[49m\u001b[43mlabel_mode\u001b[49m\u001b[38;5;241;43m=\u001b[39;49m\u001b[38;5;124;43m\"\u001b[39;49m\u001b[38;5;124;43mcategorical\u001b[39;49m\u001b[38;5;124;43m\"\u001b[39;49m\u001b[43m,\u001b[49m\n\u001b[0;32m      5\u001b[0m \u001b[43m    \u001b[49m\u001b[43mclass_names\u001b[49m\u001b[38;5;241;43m=\u001b[39;49m\u001b[38;5;28;43;01mNone\u001b[39;49;00m\u001b[43m,\u001b[49m\n\u001b[0;32m      6\u001b[0m \u001b[43m    \u001b[49m\u001b[43mcolor_mode\u001b[49m\u001b[38;5;241;43m=\u001b[39;49m\u001b[38;5;124;43m\"\u001b[39;49m\u001b[38;5;124;43mrgb\u001b[39;49m\u001b[38;5;124;43m\"\u001b[39;49m\u001b[43m,\u001b[49m\n\u001b[0;32m      7\u001b[0m \u001b[43m    \u001b[49m\u001b[43mbatch_size\u001b[49m\u001b[38;5;241;43m=\u001b[39;49m\u001b[38;5;241;43m32\u001b[39;49m\u001b[43m,\u001b[49m\n\u001b[0;32m      8\u001b[0m \u001b[43m    \u001b[49m\u001b[43mimage_size\u001b[49m\u001b[38;5;241;43m=\u001b[39;49m\u001b[43m(\u001b[49m\u001b[38;5;241;43m128\u001b[39;49m\u001b[43m,\u001b[49m\u001b[43m \u001b[49m\u001b[38;5;241;43m128\u001b[39;49m\u001b[43m)\u001b[49m\u001b[43m,\u001b[49m\n\u001b[0;32m      9\u001b[0m \u001b[43m    \u001b[49m\u001b[43mshuffle\u001b[49m\u001b[38;5;241;43m=\u001b[39;49m\u001b[38;5;28;43;01mFalse\u001b[39;49;00m\u001b[43m,\u001b[49m\n\u001b[0;32m     10\u001b[0m \u001b[43m    \u001b[49m\u001b[43mseed\u001b[49m\u001b[38;5;241;43m=\u001b[39;49m\u001b[38;5;28;43;01mNone\u001b[39;49;00m\u001b[43m,\u001b[49m\n\u001b[0;32m     11\u001b[0m \u001b[43m    \u001b[49m\u001b[43mvalidation_split\u001b[49m\u001b[38;5;241;43m=\u001b[39;49m\u001b[38;5;28;43;01mNone\u001b[39;49;00m\u001b[43m,\u001b[49m\n\u001b[0;32m     12\u001b[0m \u001b[43m    \u001b[49m\u001b[43msubset\u001b[49m\u001b[38;5;241;43m=\u001b[39;49m\u001b[38;5;28;43;01mNone\u001b[39;49;00m\u001b[43m,\u001b[49m\n\u001b[0;32m     13\u001b[0m \u001b[43m    \u001b[49m\u001b[43minterpolation\u001b[49m\u001b[38;5;241;43m=\u001b[39;49m\u001b[38;5;124;43m\"\u001b[39;49m\u001b[38;5;124;43mbilinear\u001b[39;49m\u001b[38;5;124;43m\"\u001b[39;49m\u001b[43m,\u001b[49m\n\u001b[0;32m     14\u001b[0m \u001b[43m    \u001b[49m\u001b[43mfollow_links\u001b[49m\u001b[38;5;241;43m=\u001b[39;49m\u001b[38;5;28;43;01mFalse\u001b[39;49;00m\u001b[43m,\u001b[49m\n\u001b[0;32m     15\u001b[0m \u001b[43m    \u001b[49m\u001b[43mcrop_to_aspect_ratio\u001b[49m\u001b[38;5;241;43m=\u001b[39;49m\u001b[38;5;28;43;01mFalse\u001b[39;49;00m\u001b[43m,\u001b[49m\n\u001b[0;32m     16\u001b[0m \n\u001b[0;32m     17\u001b[0m \u001b[43m)\u001b[49m\n",
      "File \u001b[1;32m~\\anaconda3\\envs\\myenv\\lib\\site-packages\\keras\\utils\\image_dataset.py:207\u001b[0m, in \u001b[0;36mimage_dataset_from_directory\u001b[1;34m(directory, labels, label_mode, class_names, color_mode, batch_size, image_size, shuffle, seed, validation_split, subset, interpolation, follow_links, crop_to_aspect_ratio, **kwargs)\u001b[0m\n\u001b[0;32m    205\u001b[0m \u001b[38;5;28;01mif\u001b[39;00m seed \u001b[38;5;129;01mis\u001b[39;00m \u001b[38;5;28;01mNone\u001b[39;00m:\n\u001b[0;32m    206\u001b[0m     seed \u001b[38;5;241m=\u001b[39m np\u001b[38;5;241m.\u001b[39mrandom\u001b[38;5;241m.\u001b[39mrandint(\u001b[38;5;241m1e6\u001b[39m)\n\u001b[1;32m--> 207\u001b[0m image_paths, labels, class_names \u001b[38;5;241m=\u001b[39m \u001b[43mdataset_utils\u001b[49m\u001b[38;5;241;43m.\u001b[39;49m\u001b[43mindex_directory\u001b[49m\u001b[43m(\u001b[49m\n\u001b[0;32m    208\u001b[0m \u001b[43m    \u001b[49m\u001b[43mdirectory\u001b[49m\u001b[43m,\u001b[49m\n\u001b[0;32m    209\u001b[0m \u001b[43m    \u001b[49m\u001b[43mlabels\u001b[49m\u001b[43m,\u001b[49m\n\u001b[0;32m    210\u001b[0m \u001b[43m    \u001b[49m\u001b[43mformats\u001b[49m\u001b[38;5;241;43m=\u001b[39;49m\u001b[43mALLOWLIST_FORMATS\u001b[49m\u001b[43m,\u001b[49m\n\u001b[0;32m    211\u001b[0m \u001b[43m    \u001b[49m\u001b[43mclass_names\u001b[49m\u001b[38;5;241;43m=\u001b[39;49m\u001b[43mclass_names\u001b[49m\u001b[43m,\u001b[49m\n\u001b[0;32m    212\u001b[0m \u001b[43m    \u001b[49m\u001b[43mshuffle\u001b[49m\u001b[38;5;241;43m=\u001b[39;49m\u001b[43mshuffle\u001b[49m\u001b[43m,\u001b[49m\n\u001b[0;32m    213\u001b[0m \u001b[43m    \u001b[49m\u001b[43mseed\u001b[49m\u001b[38;5;241;43m=\u001b[39;49m\u001b[43mseed\u001b[49m\u001b[43m,\u001b[49m\n\u001b[0;32m    214\u001b[0m \u001b[43m    \u001b[49m\u001b[43mfollow_links\u001b[49m\u001b[38;5;241;43m=\u001b[39;49m\u001b[43mfollow_links\u001b[49m\u001b[43m,\u001b[49m\n\u001b[0;32m    215\u001b[0m \u001b[43m\u001b[49m\u001b[43m)\u001b[49m\n\u001b[0;32m    217\u001b[0m \u001b[38;5;28;01mif\u001b[39;00m label_mode \u001b[38;5;241m==\u001b[39m \u001b[38;5;124m\"\u001b[39m\u001b[38;5;124mbinary\u001b[39m\u001b[38;5;124m\"\u001b[39m \u001b[38;5;129;01mand\u001b[39;00m \u001b[38;5;28mlen\u001b[39m(class_names) \u001b[38;5;241m!=\u001b[39m \u001b[38;5;241m2\u001b[39m:\n\u001b[0;32m    218\u001b[0m     \u001b[38;5;28;01mraise\u001b[39;00m \u001b[38;5;167;01mValueError\u001b[39;00m(\n\u001b[0;32m    219\u001b[0m         \u001b[38;5;124mf\u001b[39m\u001b[38;5;124m'\u001b[39m\u001b[38;5;124mWhen passing `label_mode=\u001b[39m\u001b[38;5;124m\"\u001b[39m\u001b[38;5;124mbinary\u001b[39m\u001b[38;5;124m\"\u001b[39m\u001b[38;5;124m`, there must be exactly 2 \u001b[39m\u001b[38;5;124m'\u001b[39m\n\u001b[0;32m    220\u001b[0m         \u001b[38;5;124mf\u001b[39m\u001b[38;5;124m\"\u001b[39m\u001b[38;5;124mclass_names. Received: class_names=\u001b[39m\u001b[38;5;132;01m{\u001b[39;00mclass_names\u001b[38;5;132;01m}\u001b[39;00m\u001b[38;5;124m\"\u001b[39m\n\u001b[0;32m    221\u001b[0m     )\n",
      "File \u001b[1;32m~\\anaconda3\\envs\\myenv\\lib\\site-packages\\keras\\utils\\dataset_utils.py:524\u001b[0m, in \u001b[0;36mindex_directory\u001b[1;34m(directory, labels, formats, class_names, shuffle, seed, follow_links)\u001b[0m\n\u001b[0;32m    522\u001b[0m \u001b[38;5;28;01melse\u001b[39;00m:\n\u001b[0;32m    523\u001b[0m     subdirs \u001b[38;5;241m=\u001b[39m []\n\u001b[1;32m--> 524\u001b[0m     \u001b[38;5;28;01mfor\u001b[39;00m subdir \u001b[38;5;129;01min\u001b[39;00m \u001b[38;5;28msorted\u001b[39m(\u001b[43mtf\u001b[49m\u001b[38;5;241;43m.\u001b[39;49m\u001b[43mio\u001b[49m\u001b[38;5;241;43m.\u001b[39;49m\u001b[43mgfile\u001b[49m\u001b[38;5;241;43m.\u001b[39;49m\u001b[43mlistdir\u001b[49m\u001b[43m(\u001b[49m\u001b[43mdirectory\u001b[49m\u001b[43m)\u001b[49m):\n\u001b[0;32m    525\u001b[0m         \u001b[38;5;28;01mif\u001b[39;00m tf\u001b[38;5;241m.\u001b[39mio\u001b[38;5;241m.\u001b[39mgfile\u001b[38;5;241m.\u001b[39misdir(tf\u001b[38;5;241m.\u001b[39mio\u001b[38;5;241m.\u001b[39mgfile\u001b[38;5;241m.\u001b[39mjoin(directory, subdir)):\n\u001b[0;32m    526\u001b[0m             \u001b[38;5;28;01mif\u001b[39;00m subdir\u001b[38;5;241m.\u001b[39mendswith(\u001b[38;5;124m\"\u001b[39m\u001b[38;5;124m/\u001b[39m\u001b[38;5;124m\"\u001b[39m):\n",
      "File \u001b[1;32m~\\anaconda3\\envs\\myenv\\lib\\site-packages\\tensorflow\\python\\lib\\io\\file_io.py:766\u001b[0m, in \u001b[0;36mlist_directory_v2\u001b[1;34m(path)\u001b[0m\n\u001b[0;32m    751\u001b[0m \u001b[38;5;250m\u001b[39m\u001b[38;5;124;03m\"\"\"Returns a list of entries contained within a directory.\u001b[39;00m\n\u001b[0;32m    752\u001b[0m \n\u001b[0;32m    753\u001b[0m \u001b[38;5;124;03mThe list is in arbitrary order. It does not contain the special entries \".\"\u001b[39;00m\n\u001b[1;32m   (...)\u001b[0m\n\u001b[0;32m    763\u001b[0m \u001b[38;5;124;03m  errors.NotFoundError if directory doesn't exist\u001b[39;00m\n\u001b[0;32m    764\u001b[0m \u001b[38;5;124;03m\"\"\"\u001b[39;00m\n\u001b[0;32m    765\u001b[0m \u001b[38;5;28;01mif\u001b[39;00m \u001b[38;5;129;01mnot\u001b[39;00m is_directory(path):\n\u001b[1;32m--> 766\u001b[0m   \u001b[38;5;28;01mraise\u001b[39;00m errors\u001b[38;5;241m.\u001b[39mNotFoundError(\n\u001b[0;32m    767\u001b[0m       node_def\u001b[38;5;241m=\u001b[39m\u001b[38;5;28;01mNone\u001b[39;00m,\n\u001b[0;32m    768\u001b[0m       op\u001b[38;5;241m=\u001b[39m\u001b[38;5;28;01mNone\u001b[39;00m,\n\u001b[0;32m    769\u001b[0m       message\u001b[38;5;241m=\u001b[39m\u001b[38;5;124m\"\u001b[39m\u001b[38;5;124mCould not find directory \u001b[39m\u001b[38;5;132;01m{}\u001b[39;00m\u001b[38;5;124m\"\u001b[39m\u001b[38;5;241m.\u001b[39mformat(path))\n\u001b[0;32m    771\u001b[0m \u001b[38;5;66;03m# Convert each element to string, since the return values of the\u001b[39;00m\n\u001b[0;32m    772\u001b[0m \u001b[38;5;66;03m# vector of string should be interpreted as strings, not bytes.\u001b[39;00m\n\u001b[0;32m    773\u001b[0m \u001b[38;5;28;01mreturn\u001b[39;00m [\n\u001b[0;32m    774\u001b[0m     compat\u001b[38;5;241m.\u001b[39mas_str_any(filename)\n\u001b[0;32m    775\u001b[0m     \u001b[38;5;28;01mfor\u001b[39;00m filename \u001b[38;5;129;01min\u001b[39;00m _pywrap_file_io\u001b[38;5;241m.\u001b[39mGetChildren(compat\u001b[38;5;241m.\u001b[39mpath_to_bytes(path))\n\u001b[0;32m    776\u001b[0m ]\n",
      "\u001b[1;31mNotFoundError\u001b[0m: Could not find directory valid"
     ]
    }
   ],
   "source": [
    "test_set =  tf.keras.utils.image_dataset_from_directory(\n",
    "   'valid',\n",
    "    labels=\"inferred\",\n",
    "    label_mode=\"categorical\",\n",
    "    class_names=None,\n",
    "    color_mode=\"rgb\",\n",
    "    batch_size=32,\n",
    "    image_size=(128, 128),\n",
    "    shuffle=False,\n",
    "    seed=None,\n",
    "    validation_split=None,\n",
    "    subset=None,\n",
    "    interpolation=\"bilinear\",\n",
    "    follow_links=False,\n",
    "    crop_to_aspect_ratio=False,\n",
    "\n",
    ")"
   ]
  },
  {
   "cell_type": "code",
   "execution_count": null,
   "metadata": {},
   "outputs": [],
   "source": [
    "y_pred = model.predict(test_set)\n",
    "y_pred,y_pred.shape"
   ]
  },
  {
   "cell_type": "code",
   "execution_count": null,
   "metadata": {},
   "outputs": [],
   "source": [
    "predicted_categories = tf.argmax(y_pred,axis=1)"
   ]
  },
  {
   "cell_type": "code",
   "execution_count": null,
   "metadata": {},
   "outputs": [],
   "source": [
    "predicted_categories"
   ]
  },
  {
   "cell_type": "code",
   "execution_count": null,
   "metadata": {},
   "outputs": [],
   "source": [
    "true_categories = tf.concat([y for x,y in test_set],axis=0)\n",
    "true_categories"
   ]
  },
  {
   "cell_type": "code",
   "execution_count": null,
   "metadata": {},
   "outputs": [],
   "source": [
    "Y_true = tf.argmax(true_cartegories,axis=1)\n",
    "Y_true"
   ]
  },
  {
   "cell_type": "code",
   "execution_count": null,
   "metadata": {},
   "outputs": [],
   "source": [
    "## precision recall"
   ]
  },
  {
   "cell_type": "code",
   "execution_count": null,
   "metadata": {},
   "outputs": [],
   "source": [
    "from sklearn.metrics import classification_report,confusion_matrix\n",
    "print(classification_report(Y_true, predicted_categories, target_names=class_name))\n"
   ]
  },
  {
   "cell_type": "code",
   "execution_count": null,
   "metadata": {},
   "outputs": [],
   "source": [
    "cm =confusion_matrix(Y_true,predicted_categories)\n",
    "cm"
   ]
  },
  {
   "cell_type": "code",
   "execution_count": null,
   "metadata": {},
   "outputs": [],
   "source": [
    "plt.figure(figsize=(40,40))\n",
    "sns.heatmap(cm,annot=True,annot_kws={'size':10})\n",
    "plt.xlabel(\"Predicted Class\",fontsize=20)\n",
    "plt.ylabel(\"Actual Class\",fontsize=20)\n",
    "plt.title(\"Plant Disease Prediction Confusion Matrix\",fontsize=30)\n",
    "plt.show()"
   ]
  },
  {
   "cell_type": "code",
   "execution_count": null,
   "metadata": {},
   "outputs": [],
   "source": []
  }
 ],
 "metadata": {
  "kernelspec": {
   "display_name": "TensorFlow",
   "language": "python",
   "name": "tf_kernel"
  },
  "language_info": {
   "codemirror_mode": {
    "name": "ipython",
    "version": 3
   },
   "file_extension": ".py",
   "mimetype": "text/x-python",
   "name": "python",
   "nbconvert_exporter": "python",
   "pygments_lexer": "ipython3",
   "version": "3.10.8"
  }
 },
 "nbformat": 4,
 "nbformat_minor": 4
}
