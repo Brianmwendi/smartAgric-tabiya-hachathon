{
 "cells": [
  {
   "cell_type": "markdown",
   "id": "221e2870-86af-4077-a7c1-1ba1ec29fd4b",
   "metadata": {},
   "source": [
    "## Importing libraries"
   ]
  },
  {
   "cell_type": "code",
   "execution_count": 1,
   "id": "34902670-6786-47bd-9985-9c04943bd431",
   "metadata": {
    "scrolled": true
   },
   "outputs": [],
   "source": [
    "import tensorflow as tf\n",
    "import matplotlib.pyplot as plt\n",
    "import pandas as pd\n",
    "import seaborn as sns"
   ]
  },
  {
   "cell_type": "markdown",
   "id": "c4d3ca3b-0a3b-45a3-973f-b02f157cfaef",
   "metadata": {},
   "source": [
    "## Data Processing"
   ]
  },
  {
   "cell_type": "markdown",
   "id": "5d1b789f-47d9-46e4-a556-030763a69dd4",
   "metadata": {},
   "source": [
    "### Training image processing"
   ]
  },
  {
   "cell_type": "code",
   "execution_count": 2,
   "id": "f032ae1d-178f-4dbc-97ca-636766356757",
   "metadata": {},
   "outputs": [
    {
     "name": "stdout",
     "output_type": "stream",
     "text": [
      "Found 70295 files belonging to 38 classes.\n"
     ]
    }
   ],
   "source": [
    "training_set = tf.keras.utils.image_dataset_from_directory(\n",
    "   'train',\n",
    "    labels=\"inferred\",\n",
    "    label_mode=\"categorical\",\n",
    "    class_names=None,\n",
    "    color_mode=\"rgb\",\n",
    "    batch_size=32,\n",
    "    image_size=(128, 128),\n",
    "    shuffle=True,\n",
    "    seed=None,\n",
    "    validation_split=None,\n",
    "    subset=None,\n",
    "    interpolation=\"bilinear\",\n",
    "    follow_links=False,\n",
    "    crop_to_aspect_ratio=False,\n",
    "\n",
    ")"
   ]
  },
  {
   "cell_type": "code",
   "execution_count": 3,
   "id": "e90816bb-2c32-437e-af55-9c0931092c77",
   "metadata": {},
   "outputs": [
    {
     "name": "stdout",
     "output_type": "stream",
     "text": [
      "Found 17572 files belonging to 38 classes.\n"
     ]
    }
   ],
   "source": [
    "validation_set = tf.keras.utils.image_dataset_from_directory(\n",
    "   'valid',\n",
    "    labels=\"inferred\",\n",
    "    label_mode=\"categorical\",\n",
    "    class_names=None,\n",
    "    color_mode=\"rgb\",\n",
    "    batch_size=32,\n",
    "    image_size=(128, 128),\n",
    "    shuffle=True,\n",
    "    seed=None,\n",
    "    validation_split=None,\n",
    "    subset=None,\n",
    "    interpolation=\"bilinear\",\n",
    "    follow_links=False,\n",
    "    crop_to_aspect_ratio=False,\n",
    "\n",
    ")"
   ]
  },
  {
   "cell_type": "code",
   "execution_count": 4,
   "id": "50715aab-afeb-4dd2-9281-bb158f8c2b9d",
   "metadata": {},
   "outputs": [
    {
     "data": {
      "text/plain": [
       "<BatchDataset element_spec=(TensorSpec(shape=(None, 128, 128, 3), dtype=tf.float32, name=None), TensorSpec(shape=(None, 38), dtype=tf.float32, name=None))>"
      ]
     },
     "execution_count": 4,
     "metadata": {},
     "output_type": "execute_result"
    }
   ],
   "source": [
    "training_set\n"
   ]
  },
  {
   "cell_type": "code",
   "execution_count": 5,
   "id": "cfc58a52-ee6e-4b82-9e44-28407df3003a",
   "metadata": {},
   "outputs": [
    {
     "name": "stdout",
     "output_type": "stream",
     "text": [
      "tf.Tensor(\n",
      "[[[[136.25 126.25 125.25]\n",
      "   [134.5  124.5  123.5 ]\n",
      "   [141.   131.   130.  ]\n",
      "   ...\n",
      "   [121.25 117.25 114.25]\n",
      "   [122.5  118.5  115.5 ]\n",
      "   [121.75 117.75 114.75]]\n",
      "\n",
      "  [[126.75 116.75 115.75]\n",
      "   [146.5  136.5  135.5 ]\n",
      "   [136.   126.   125.  ]\n",
      "   ...\n",
      "   [123.75 118.75 115.75]\n",
      "   [123.5  118.5  115.5 ]\n",
      "   [123.75 118.75 115.75]]\n",
      "\n",
      "  [[138.75 128.75 127.75]\n",
      "   [140.75 130.75 129.75]\n",
      "   [136.75 126.75 125.75]\n",
      "   ...\n",
      "   [126.   121.   118.  ]\n",
      "   [126.5  121.5  118.5 ]\n",
      "   [128.75 123.75 120.75]]\n",
      "\n",
      "  ...\n",
      "\n",
      "  [[158.5  155.5  162.5 ]\n",
      "   [145.5  142.5  149.5 ]\n",
      "   [155.75 152.75 159.75]\n",
      "   ...\n",
      "   [154.   152.   157.  ]\n",
      "   [155.5  153.5  158.5 ]\n",
      "   [165.25 163.25 168.25]]\n",
      "\n",
      "  [[159.25 156.25 163.25]\n",
      "   [145.   142.   149.  ]\n",
      "   [153.75 150.75 157.75]\n",
      "   ...\n",
      "   [152.5  150.5  155.5 ]\n",
      "   [151.75 149.75 154.75]\n",
      "   [150.25 148.25 153.25]]\n",
      "\n",
      "  [[149.5  146.5  153.5 ]\n",
      "   [149.5  146.5  153.5 ]\n",
      "   [157.   154.   161.  ]\n",
      "   ...\n",
      "   [157.25 155.25 160.25]\n",
      "   [150.75 148.75 153.75]\n",
      "   [151.   149.   154.  ]]]\n",
      "\n",
      "\n",
      " [[[  3.     3.     3.  ]\n",
      "   [  3.     3.     3.  ]\n",
      "   [  3.     3.     3.  ]\n",
      "   ...\n",
      "   [  3.     3.     3.  ]\n",
      "   [  3.     3.     3.  ]\n",
      "   [  3.     3.     3.  ]]\n",
      "\n",
      "  [[  3.     3.     3.  ]\n",
      "   [  3.     3.     3.  ]\n",
      "   [  3.     3.     3.  ]\n",
      "   ...\n",
      "   [  3.     3.     3.  ]\n",
      "   [  3.     3.     3.  ]\n",
      "   [  3.     3.     3.  ]]\n",
      "\n",
      "  [[  3.     3.     3.  ]\n",
      "   [  3.     3.     3.  ]\n",
      "   [  3.     3.     3.  ]\n",
      "   ...\n",
      "   [  3.     3.     3.  ]\n",
      "   [  3.     3.     3.  ]\n",
      "   [  3.     3.     3.  ]]\n",
      "\n",
      "  ...\n",
      "\n",
      "  [[  3.     3.     3.  ]\n",
      "   [  3.     3.     3.  ]\n",
      "   [  3.     3.     3.  ]\n",
      "   ...\n",
      "   [  3.     3.     3.  ]\n",
      "   [  3.     3.     3.  ]\n",
      "   [  3.     3.     3.  ]]\n",
      "\n",
      "  [[  3.     3.     3.  ]\n",
      "   [  3.     3.     3.  ]\n",
      "   [  3.     3.     3.  ]\n",
      "   ...\n",
      "   [  3.     3.     3.  ]\n",
      "   [  3.     3.     3.  ]\n",
      "   [  3.     3.     3.  ]]\n",
      "\n",
      "  [[  3.     3.     3.  ]\n",
      "   [  3.     3.     3.  ]\n",
      "   [  3.     3.     3.  ]\n",
      "   ...\n",
      "   [  3.     3.     3.  ]\n",
      "   [  3.     3.     3.  ]\n",
      "   [  3.     3.     3.  ]]]\n",
      "\n",
      "\n",
      " [[[  0.     0.     0.  ]\n",
      "   [  0.     0.     0.  ]\n",
      "   [  0.     0.     0.  ]\n",
      "   ...\n",
      "   [  0.     0.     0.  ]\n",
      "   [  0.     0.     0.  ]\n",
      "   [  0.     0.     0.  ]]\n",
      "\n",
      "  [[  0.     0.     0.  ]\n",
      "   [  0.     0.     0.  ]\n",
      "   [  0.     0.     0.  ]\n",
      "   ...\n",
      "   [  0.     0.     0.  ]\n",
      "   [  0.     0.     0.  ]\n",
      "   [  0.     0.     0.  ]]\n",
      "\n",
      "  [[  0.     0.     0.  ]\n",
      "   [  0.     0.     0.  ]\n",
      "   [  0.     0.     0.  ]\n",
      "   ...\n",
      "   [  0.     0.     0.  ]\n",
      "   [  0.     0.     0.  ]\n",
      "   [  0.     0.     0.  ]]\n",
      "\n",
      "  ...\n",
      "\n",
      "  [[  0.     0.     0.  ]\n",
      "   [  0.     0.     0.  ]\n",
      "   [  0.     0.     0.  ]\n",
      "   ...\n",
      "   [  0.     0.     0.  ]\n",
      "   [  0.     0.     0.  ]\n",
      "   [  0.     0.     0.  ]]\n",
      "\n",
      "  [[  0.     0.     0.  ]\n",
      "   [  0.     0.     0.  ]\n",
      "   [  0.     0.     0.  ]\n",
      "   ...\n",
      "   [  0.     0.     0.  ]\n",
      "   [  0.     0.     0.  ]\n",
      "   [  0.     0.     0.  ]]\n",
      "\n",
      "  [[  0.     0.     0.  ]\n",
      "   [  0.     0.     0.  ]\n",
      "   [  0.     0.     0.  ]\n",
      "   ...\n",
      "   [  0.     0.     0.  ]\n",
      "   [  0.     0.     0.  ]\n",
      "   [  0.     0.     0.  ]]]\n",
      "\n",
      "\n",
      " ...\n",
      "\n",
      "\n",
      " [[[  0.     0.     0.  ]\n",
      "   [  0.     0.     0.  ]\n",
      "   [  0.     0.     0.  ]\n",
      "   ...\n",
      "   [  0.     0.     0.  ]\n",
      "   [  0.     0.     0.  ]\n",
      "   [  0.     0.     0.  ]]\n",
      "\n",
      "  [[  0.     0.     0.  ]\n",
      "   [  0.     0.     0.  ]\n",
      "   [  0.     0.     0.  ]\n",
      "   ...\n",
      "   [  0.     0.     0.  ]\n",
      "   [  0.     0.     0.  ]\n",
      "   [  0.     0.     0.  ]]\n",
      "\n",
      "  [[  0.     0.     0.  ]\n",
      "   [  0.     0.     0.  ]\n",
      "   [  0.     0.     0.  ]\n",
      "   ...\n",
      "   [  0.     0.     0.  ]\n",
      "   [  0.     0.     0.  ]\n",
      "   [  0.     0.     0.  ]]\n",
      "\n",
      "  ...\n",
      "\n",
      "  [[  0.     0.     0.  ]\n",
      "   [  0.     0.     0.  ]\n",
      "   [  0.     0.     0.  ]\n",
      "   ...\n",
      "   [  0.     0.     0.  ]\n",
      "   [  0.     0.     0.  ]\n",
      "   [  0.     0.     0.  ]]\n",
      "\n",
      "  [[  0.     0.     0.  ]\n",
      "   [  0.     0.     0.  ]\n",
      "   [  0.     0.     0.  ]\n",
      "   ...\n",
      "   [  0.     0.     0.  ]\n",
      "   [  0.     0.     0.  ]\n",
      "   [  0.     0.     0.  ]]\n",
      "\n",
      "  [[  0.     0.     0.  ]\n",
      "   [  0.     0.     0.  ]\n",
      "   [  0.     0.     0.  ]\n",
      "   ...\n",
      "   [  0.     0.     0.  ]\n",
      "   [  0.     0.     0.  ]\n",
      "   [  0.     0.     0.  ]]]\n",
      "\n",
      "\n",
      " [[[129.75 127.75 128.75]\n",
      "   [129.75 127.75 128.75]\n",
      "   [139.25 137.25 138.25]\n",
      "   ...\n",
      "   [112.5  107.5  104.5 ]\n",
      "   [114.5  109.5  106.5 ]\n",
      "   [115.   110.   107.  ]]\n",
      "\n",
      "  [[123.75 121.75 122.75]\n",
      "   [132.5  130.5  131.5 ]\n",
      "   [132.25 130.25 131.25]\n",
      "   ...\n",
      "   [111.5  106.5  103.5 ]\n",
      "   [113.25 108.25 105.25]\n",
      "   [110.5  105.5  102.5 ]]\n",
      "\n",
      "  [[126.75 124.75 125.75]\n",
      "   [136.25 134.25 135.25]\n",
      "   [131.5  129.5  130.5 ]\n",
      "   ...\n",
      "   [109.5  104.5  101.5 ]\n",
      "   [104.5   99.5   96.5 ]\n",
      "   [108.25 103.25 100.25]]\n",
      "\n",
      "  ...\n",
      "\n",
      "  [[173.75 173.75 175.75]\n",
      "   [166.5  166.5  168.5 ]\n",
      "   [177.   177.   179.  ]\n",
      "   ...\n",
      "   [130.5  126.5  127.5 ]\n",
      "   [137.   133.   134.  ]\n",
      "   [140.75 136.75 137.75]]\n",
      "\n",
      "  [[179.25 179.25 181.25]\n",
      "   [178.25 178.25 180.25]\n",
      "   [172.25 172.25 174.25]\n",
      "   ...\n",
      "   [130.75 126.75 127.75]\n",
      "   [150.5  146.5  147.5 ]\n",
      "   [141.   137.   138.  ]]\n",
      "\n",
      "  [[181.5  181.5  183.5 ]\n",
      "   [171.75 171.75 173.75]\n",
      "   [170.5  170.5  172.5 ]\n",
      "   ...\n",
      "   [132.5  128.5  129.5 ]\n",
      "   [138.5  134.5  135.5 ]\n",
      "   [144.   140.   141.  ]]]\n",
      "\n",
      "\n",
      " [[[236.75 227.75 232.75]\n",
      "   [234.5  225.5  230.5 ]\n",
      "   [225.   216.   221.  ]\n",
      "   ...\n",
      "   [215.75 208.75 215.75]\n",
      "   [220.   213.   220.  ]\n",
      "   [212.   205.   212.  ]]\n",
      "\n",
      "  [[232.75 223.75 228.75]\n",
      "   [233.5  224.5  229.5 ]\n",
      "   [237.25 228.25 233.25]\n",
      "   ...\n",
      "   [219.75 212.75 219.75]\n",
      "   [219.75 212.75 219.75]\n",
      "   [211.5  204.5  211.5 ]]\n",
      "\n",
      "  [[231.25 222.25 227.25]\n",
      "   [231.   222.   227.  ]\n",
      "   [227.25 218.25 223.25]\n",
      "   ...\n",
      "   [217.5  210.5  217.5 ]\n",
      "   [219.   212.   219.  ]\n",
      "   [218.75 211.75 218.75]]\n",
      "\n",
      "  ...\n",
      "\n",
      "  [[200.5  189.5  197.5 ]\n",
      "   [182.   171.   179.  ]\n",
      "   [197.   186.   194.  ]\n",
      "   ...\n",
      "   [188.   178.   187.  ]\n",
      "   [184.75 174.75 183.75]\n",
      "   [195.5  185.5  194.5 ]]\n",
      "\n",
      "  [[174.5  163.5  171.5 ]\n",
      "   [198.75 187.75 195.75]\n",
      "   [182.75 171.75 179.75]\n",
      "   ...\n",
      "   [178.25 168.25 177.25]\n",
      "   [179.   169.   178.  ]\n",
      "   [196.   186.   195.  ]]\n",
      "\n",
      "  [[191.5  180.5  188.5 ]\n",
      "   [187.   176.   184.  ]\n",
      "   [188.75 177.75 185.75]\n",
      "   ...\n",
      "   [188.5  178.5  187.5 ]\n",
      "   [191.75 181.75 190.75]\n",
      "   [194.25 184.25 193.25]]]], shape=(32, 128, 128, 3), dtype=float32) (32, 128, 128, 3)\n",
      "tf.Tensor(\n",
      "[[0. 0. 0. ... 0. 0. 0.]\n",
      " [0. 0. 0. ... 0. 0. 0.]\n",
      " [0. 0. 0. ... 0. 0. 0.]\n",
      " ...\n",
      " [0. 0. 0. ... 0. 0. 0.]\n",
      " [0. 0. 0. ... 0. 0. 0.]\n",
      " [0. 0. 0. ... 0. 0. 0.]], shape=(32, 38), dtype=float32) (32, 38)\n"
     ]
    }
   ],
   "source": [
    "for x,y in training_set:\n",
    "    print(x,x.shape)\n",
    "    print(y,y.shape)\n",
    "    break"
   ]
  },
  {
   "cell_type": "markdown",
   "id": "5e6467fc-50e2-4936-8887-d95fb0ca2529",
   "metadata": {},
   "source": [
    "## Building Models"
   ]
  },
  {
   "cell_type": "code",
   "execution_count": 6,
   "id": "d29b83af-7616-47f0-986c-df4ae52124d3",
   "metadata": {},
   "outputs": [],
   "source": [
    "from tensorflow.keras.layers import Dense,Conv2D,MaxPool2D,Flatten,Dropout\n",
    "from tensorflow.keras.models import Sequential"
   ]
  },
  {
   "cell_type": "code",
   "execution_count": 7,
   "id": "c570bec0-4ef2-4d89-b82b-252dfb648c46",
   "metadata": {},
   "outputs": [],
   "source": [
    "model = Sequential()"
   ]
  },
  {
   "cell_type": "code",
   "execution_count": 8,
   "id": "793057d2-2578-457c-a970-42bddc6f1c18",
   "metadata": {},
   "outputs": [],
   "source": [
    "## Building Convolutional Layers"
   ]
  },
  {
   "cell_type": "code",
   "execution_count": 9,
   "id": "1f315127-232e-4793-8cf2-061376bc0570",
   "metadata": {},
   "outputs": [],
   "source": [
    "model.add(Conv2D(filters=32,kernel_size=3,padding='same',activation='relu',input_shape=[128, 128, 3]))\n",
    "model.add(Conv2D(filters=32,kernel_size=3,activation='relu'))\n",
    "model.add(MaxPool2D(pool_size=2,strides=2))"
   ]
  },
  {
   "cell_type": "code",
   "execution_count": 10,
   "id": "27ad0828-3ada-42e4-a6ee-3f60a0c1cb68",
   "metadata": {},
   "outputs": [],
   "source": [
    "model.add(Conv2D(filters=64,kernel_size=3,padding='same',activation='relu'))\n",
    "model.add(Conv2D(filters=64,kernel_size=3,activation='relu'))\n",
    "model.add(MaxPool2D(pool_size=2,strides=2))"
   ]
  },
  {
   "cell_type": "code",
   "execution_count": 11,
   "id": "2a50ccb4-e604-491a-85ba-2824ca4e7f2c",
   "metadata": {},
   "outputs": [],
   "source": [
    "model.add(Conv2D(filters=128,kernel_size=3,padding='same',activation='relu'))\n",
    "model.add(Conv2D(filters=128,kernel_size=3,activation='relu'))\n",
    "model.add(MaxPool2D(pool_size=2,strides=2))"
   ]
  },
  {
   "cell_type": "code",
   "execution_count": 12,
   "id": "9587e6bb-254f-4aaa-b9ec-e53aac2580d9",
   "metadata": {},
   "outputs": [],
   "source": [
    "model.add(Conv2D(filters=256,kernel_size=3,padding='same',activation='relu'))\n",
    "model.add(Conv2D(filters=256,kernel_size=3,activation='relu'))\n",
    "model.add(MaxPool2D(pool_size=2,strides=2))"
   ]
  },
  {
   "cell_type": "code",
   "execution_count": 13,
   "id": "dfe0f876-9024-4a11-8732-a9f2090150c4",
   "metadata": {},
   "outputs": [],
   "source": [
    "model.add(Conv2D(filters=512,kernel_size=3,padding='same',activation='relu'))\n",
    "model.add(Conv2D(filters=512,kernel_size=3,activation='relu'))\n",
    "model.add(MaxPool2D(pool_size=2,strides=2))"
   ]
  },
  {
   "cell_type": "code",
   "execution_count": 14,
   "id": "9f174911-bdaf-488e-9a0a-b74e6c5f921f",
   "metadata": {},
   "outputs": [],
   "source": [
    "model.add(Dropout(0.25))"
   ]
  },
  {
   "cell_type": "code",
   "execution_count": 15,
   "id": "2c5596f7-15f1-4423-9d64-fec92b04ab07",
   "metadata": {},
   "outputs": [],
   "source": [
    "model.add(Flatten())"
   ]
  },
  {
   "cell_type": "code",
   "execution_count": 16,
   "id": "8db51cf1-de19-4b23-a688-b5ca0462c4bc",
   "metadata": {},
   "outputs": [],
   "source": [
    "model.add(Dense(units=1500,activation='relu'))"
   ]
  },
  {
   "cell_type": "code",
   "execution_count": 17,
   "id": "bf955b2d-7979-4400-9807-4db096af178d",
   "metadata": {},
   "outputs": [],
   "source": [
    "model.add(Dropout(0.4))"
   ]
  },
  {
   "cell_type": "code",
   "execution_count": 18,
   "id": "7793b45c-d754-4b54-b0b3-b9ca76625eee",
   "metadata": {},
   "outputs": [],
   "source": [
    "## Output Layer\n",
    "model.add(Dense(units=38,activation='softmax'))"
   ]
  },
  {
   "cell_type": "markdown",
   "id": "c49c5651-8163-4f83-83a1-d24958a2c84c",
   "metadata": {},
   "source": [
    "## Compiling Model"
   ]
  },
  {
   "cell_type": "code",
   "execution_count": 19,
   "id": "f941bca8-7973-4590-b3b8-d1187397ec22",
   "metadata": {},
   "outputs": [],
   "source": [
    "model.compile(optimizer=tf.keras.optimizers.legacy.Adam(learning_rate=0.0001), \n",
    "              loss='categorical_crossentropy', \n",
    "              metrics=['accuracy'])"
   ]
  },
  {
   "cell_type": "raw",
   "id": "d78fe2b5-9620-4d9b-b2af-e8eea726b24b",
   "metadata": {},
   "source": [
    "model.summary()"
   ]
  },
  {
   "cell_type": "markdown",
   "id": "b41ad96c-62f7-4187-91ff-748729c135c1",
   "metadata": {},
   "source": [
    "## Model training"
   ]
  },
  {
   "cell_type": "code",
   "execution_count": null,
   "id": "0feda53e-d1e8-4cbf-a166-f7c651ec2889",
   "metadata": {},
   "outputs": [
    {
     "name": "stdout",
     "output_type": "stream",
     "text": [
      "Epoch 1/10\n",
      " 132/2197 [>.............................] - ETA: 8:38:20 - loss: 3.5458 - accuracy: 0.0575"
     ]
    }
   ],
   "source": [
    "training_history = model.fit(x=training_set,validation_data=validation_set,epochs=10)"
   ]
  },
  {
   "cell_type": "code",
   "execution_count": null,
   "id": "b66b8811-f670-40f2-aea1-ac16e54cf7bf",
   "metadata": {},
   "outputs": [],
   "source": [
    "    "
   ]
  },
  {
   "cell_type": "markdown",
   "id": "cb6bf022-c393-4557-85d2-f61319c8819e",
   "metadata": {},
   "source": [
    "## Model evaluation"
   ]
  },
  {
   "cell_type": "code",
   "execution_count": null,
   "id": "421cd6e0-a910-4898-b415-99210758e12d",
   "metadata": {},
   "outputs": [],
   "source": [
    "train_loss,train_acc = model.evaluate(training_set)"
   ]
  },
  {
   "cell_type": "code",
   "execution_count": null,
   "id": "a8a9b856-28c0-4d8a-879a-a84760ebbae8",
   "metadata": {},
   "outputs": [],
   "source": [
    "print(train_loss,train_acc)"
   ]
  },
  {
   "cell_type": "code",
   "execution_count": null,
   "id": "0a894539-9e81-449c-8138-8e5dc3875035",
   "metadata": {},
   "outputs": [],
   "source": [
    "# Model Salidation Set"
   ]
  },
  {
   "cell_type": "code",
   "execution_count": null,
   "id": "1f35f60d-b10f-4dc9-a25c-3438fcccdc3b",
   "metadata": {},
   "outputs": [],
   "source": [
    "val_loss,Val_acc = model.evaluate(validation_set)"
   ]
  },
  {
   "cell_type": "code",
   "execution_count": null,
   "id": "e2a74b05-6589-42af-9c31-878390bbdf66",
   "metadata": {},
   "outputs": [],
   "source": [
    "print(val_loss,Val_acc)"
   ]
  },
  {
   "cell_type": "code",
   "execution_count": null,
   "id": "0eb423cb-7a35-42e8-a6cb-c7daeff89d8a",
   "metadata": {},
   "outputs": [],
   "source": []
  },
  {
   "cell_type": "markdown",
   "id": "6c11e959-3c6f-4b03-b2d3-2a9bd072cefe",
   "metadata": {},
   "source": [
    "## Saving Model"
   ]
  },
  {
   "cell_type": "code",
   "execution_count": null,
   "id": "2c2a22f6-669a-4e00-9ff0-6524fe3b9771",
   "metadata": {},
   "outputs": [],
   "source": [
    "model.save(\"trained_model.keras\")"
   ]
  },
  {
   "cell_type": "code",
   "execution_count": null,
   "id": "e8c43e49-de44-48de-9db1-a394e47540f0",
   "metadata": {},
   "outputs": [],
   "source": [
    "training_history.history"
   ]
  },
  {
   "cell_type": "code",
   "execution_count": null,
   "id": "e46f3e1f-13d8-441b-b566-1f1ff244e1a3",
   "metadata": {},
   "outputs": [],
   "source": [
    "##Recording history\n",
    "import json\n",
    "with open(\"training_hist.json\",\"w\") as f:\n",
    "    json.dump(training_history.history,f)"
   ]
  },
  {
   "cell_type": "code",
   "execution_count": null,
   "id": "2499d9be-8f4f-4001-aad6-2f75d34401c0",
   "metadata": {},
   "outputs": [],
   "source": [
    "training_history.history['accuracy']"
   ]
  },
  {
   "cell_type": "markdown",
   "id": "00208bd0-fb25-4e0d-a17f-7285b46a1654",
   "metadata": {},
   "source": [
    "## Accuracy Visualization"
   ]
  },
  {
   "cell_type": "code",
   "execution_count": null,
   "id": "614ad208-0176-4e5b-ac81-26101f7c2687",
   "metadata": {},
   "outputs": [],
   "source": [
    "epochs = [i for i in range(1,11)]\n",
    "plt.plot(epochs,training_history.history['accuracy'],color='red',label='training Accuracy')\n",
    "plt.plot(epochs,training_history.history['val_accuracy'],color='blue',label='validation Accuracy')\n",
    "plt.xlabel(\"No of Epochs\")\n",
    "plt.ylabel(\"acccurracy Result\")\n",
    "plt.title(\"Vsualization Of Accuracy Result\")\n",
    "plt.legend()\n",
    "plt.show()"
   ]
  },
  {
   "cell_type": "code",
   "execution_count": null,
   "id": "99ee59b0-727b-404d-bda8-0c66ff425a12",
   "metadata": {},
   "outputs": [],
   "source": []
  },
  {
   "cell_type": "markdown",
   "id": "c458c9d8-e4b3-473d-baa1-318fdacdba2d",
   "metadata": {},
   "source": [
    "## Metrics for model evaluation"
   ]
  },
  {
   "cell_type": "code",
   "execution_count": null,
   "id": "f2a73b40-e231-489e-a5f9-501927b614e6",
   "metadata": {},
   "outputs": [],
   "source": [
    "class_name = validation_set.class_names\n",
    "class_name"
   ]
  },
  {
   "cell_type": "code",
   "execution_count": null,
   "id": "ca3fff71-9f95-4ccb-8663-94596f08f39a",
   "metadata": {},
   "outputs": [],
   "source": []
  },
  {
   "cell_type": "code",
   "execution_count": null,
   "id": "e4f72d02-b266-4b1f-94b2-071826173e00",
   "metadata": {},
   "outputs": [],
   "source": [
    "test_set =  tf.keras.utils.image_dataset_from_directory(\n",
    "   'valid',\n",
    "    labels=\"inferred\",\n",
    "    label_mode=\"categorical\",\n",
    "    class_names=None,\n",
    "    color_mode=\"rgb\",\n",
    "    batch_size=32,\n",
    "    image_size=(128, 128),\n",
    "    shuffle=False,\n",
    "    seed=None,\n",
    "    validation_split=None,\n",
    "    subset=None,\n",
    "    interpolation=\"bilinear\",\n",
    "    follow_links=False,\n",
    "    crop_to_aspect_ratio=False,\n",
    "\n",
    ")"
   ]
  },
  {
   "cell_type": "code",
   "execution_count": null,
   "id": "0ea20e8f-0c81-498f-926d-ef5af3bdc8a1",
   "metadata": {},
   "outputs": [],
   "source": [
    "y_pred = model.predict(test_set)\n",
    "y_pred,y_pred.shape"
   ]
  },
  {
   "cell_type": "code",
   "execution_count": null,
   "id": "6945afe2-0b74-44e8-9006-a9ca637f484d",
   "metadata": {},
   "outputs": [],
   "source": [
    "predicted_categories = tf.argmax(y_pred,axis=1)"
   ]
  },
  {
   "cell_type": "code",
   "execution_count": null,
   "id": "26c0d5f3-8861-44f3-8415-09d3c1ce0e6e",
   "metadata": {},
   "outputs": [],
   "source": [
    "predicted_categories"
   ]
  },
  {
   "cell_type": "code",
   "execution_count": null,
   "id": "856c9eb5-0430-4025-8ea9-d846815d9990",
   "metadata": {},
   "outputs": [],
   "source": [
    "true_categories = tf.concat([y for x,y in test_set],axis=0)\n",
    "true_categories"
   ]
  },
  {
   "cell_type": "code",
   "execution_count": null,
   "id": "96717f4b-52dd-4cf7-b7bd-8101959edd62",
   "metadata": {},
   "outputs": [],
   "source": [
    "Y_true = tf.argmax(true_cartegories,axis=1)\n",
    "Y_true"
   ]
  },
  {
   "cell_type": "code",
   "execution_count": null,
   "id": "9ecb2709-def4-4593-a163-4683d98bbafa",
   "metadata": {},
   "outputs": [],
   "source": [
    "## precision recall"
   ]
  },
  {
   "cell_type": "code",
   "execution_count": null,
   "id": "193e7323-c4ac-4155-b7ea-bf5dfa5b105a",
   "metadata": {},
   "outputs": [],
   "source": [
    "from sklearn.metrics import classification_report,confusion_matrix\n",
    "print(classification_report(Y_true, predicted_categories, target_names=class_name))\n"
   ]
  },
  {
   "cell_type": "code",
   "execution_count": null,
   "id": "d7289ad6-9cb7-4610-baef-c44ac4879378",
   "metadata": {},
   "outputs": [],
   "source": [
    "cm =confusion_matrix(Y_true,predicted_categories)\n",
    "cm"
   ]
  },
  {
   "cell_type": "code",
   "execution_count": null,
   "id": "96aeeb8e-7e5a-456c-8f10-6fdef4372943",
   "metadata": {},
   "outputs": [],
   "source": []
  },
  {
   "cell_type": "markdown",
   "id": "2f024764-1c04-4423-bb5e-8c0556142fd3",
   "metadata": {},
   "source": [
    "### Confusion Matrix Visualization"
   ]
  },
  {
   "cell_type": "code",
   "execution_count": null,
   "id": "575024df-619d-492f-8dd5-bda96d472c6b",
   "metadata": {},
   "outputs": [],
   "source": [
    "plt.figure(figsize=(40,40))\n",
    "sns.heatmap(cm,annot=True,annot_kws={'size':10})\n",
    "plt.xlabel(\"Predicted Class\",fontsize=20)\n",
    "plt.ylabel(\"Actual Class\",fontsize=20)\n",
    "plt.title(\"Plant Disease Prediction Confusion Matrix\",fontsize=30)\n",
    "plt.show()"
   ]
  },
  {
   "cell_type": "code",
   "execution_count": null,
   "id": "44d30f03-d8c3-4d56-a16a-edc8277861d8",
   "metadata": {},
   "outputs": [],
   "source": []
  },
  {
   "cell_type": "code",
   "execution_count": null,
   "id": "799ee82f-5b31-4539-a455-fa19d68f61c3",
   "metadata": {},
   "outputs": [],
   "source": []
  },
  {
   "cell_type": "code",
   "execution_count": null,
   "id": "4a49be82-90bc-4f82-99b0-2eaa57c700cb",
   "metadata": {},
   "outputs": [],
   "source": []
  },
  {
   "cell_type": "code",
   "execution_count": null,
   "id": "75889018-7302-4e53-bfc3-8f33f60091d3",
   "metadata": {},
   "outputs": [],
   "source": []
  },
  {
   "cell_type": "code",
   "execution_count": null,
   "id": "83b35399-efc1-4792-a3a5-95cfd29e6618",
   "metadata": {},
   "outputs": [],
   "source": []
  },
  {
   "cell_type": "code",
   "execution_count": null,
   "id": "e86baa14-fd18-4e98-8dc7-2c8d4d0f146d",
   "metadata": {},
   "outputs": [],
   "source": []
  },
  {
   "cell_type": "code",
   "execution_count": null,
   "id": "a8f9b9f4-c3c4-41b4-b4ba-c21a3ce72250",
   "metadata": {},
   "outputs": [],
   "source": []
  }
 ],
 "metadata": {
  "kernelspec": {
   "display_name": "TensorFlow",
   "language": "python",
   "name": "tf_kernel"
  },
  "language_info": {
   "codemirror_mode": {
    "name": "ipython",
    "version": 3
   },
   "file_extension": ".py",
   "mimetype": "text/x-python",
   "name": "python",
   "nbconvert_exporter": "python",
   "pygments_lexer": "ipython3",
   "version": "3.10.8"
  }
 },
 "nbformat": 4,
 "nbformat_minor": 5
}
