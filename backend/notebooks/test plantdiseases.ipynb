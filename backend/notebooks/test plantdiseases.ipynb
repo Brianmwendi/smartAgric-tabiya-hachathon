{
 "cells": [
  {
   "cell_type": "code",
   "execution_count": 1,
   "id": "c97ba21c-3f46-4591-8c7c-11b9151a4196",
   "metadata": {},
   "outputs": [],
   "source": [
    "import numpy as np\n",
    "import tensorflow as tf\n",
    "\n",
    "import matplotlib.pyplot as plt \n"
   ]
  },
  {
   "cell_type": "code",
   "execution_count": null,
   "id": "c7d7870a-2951-4c35-9e9d-fe2ab09d873d",
   "metadata": {},
   "outputs": [],
   "source": [
    "model = tf.keras.models.load_model('trained_model.keras')"
   ]
  },
  {
   "cell_type": "code",
   "execution_count": null,
   "id": "a2dee85c-9516-4871-853a-2dfafda4dcf3",
   "metadata": {},
   "outputs": [],
   "source": [
    "model.summary()"
   ]
  },
  {
   "cell_type": "code",
   "execution_count": null,
   "id": "59a5f756-61f7-4498-8349-ee993b06d485",
   "metadata": {},
   "outputs": [],
   "source": []
  },
  {
   "cell_type": "markdown",
   "id": "db0411ef-c736-4890-b2f2-d747670d7673",
   "metadata": {},
   "source": [
    "## Visualizing Single Image of Test Set"
   ]
  },
  {
   "cell_type": "code",
   "execution_count": null,
   "id": "e56eee9a-a330-4f39-87e2-c32490f11ed4",
   "metadata": {},
   "outputs": [],
   "source": [
    "import cv2\n",
    "image_path = \"test/AppleScab2.JPG\"\n",
    "\n",
    "## Reading Image\n",
    "img = cv2.imread(image_path)\n",
    "img = cv2.cvtColor(img,cv2.COLOR_BGR2RGB)\n",
    "\n",
    "## Display Image\n",
    "plt.imshow(img)\n",
    "plt.title('Test Image')\n",
    "plt.xticks([])\n",
    "plt.yticks([])\n",
    "plt.show()"
   ]
  },
  {
   "cell_type": "markdown",
   "id": "2dd55e8e-2ad1-4f4a-8eb2-381eaf244be0",
   "metadata": {},
   "source": [
    "## Testing Model"
   ]
  },
  {
   "cell_type": "code",
   "execution_count": null,
   "id": "7c3a32f9-4204-4f8d-9106-71e624c2ee16",
   "metadata": {},
   "outputs": [],
   "source": [
    "image = tf.keras.preprocessing.image.load_img(image_path,target_size=(128,128)) \n",
    "input_arr = tf.keras.preprocessing.image.img_to_array(image)\n",
    "input_arr = np.array([input_arr]) ##converting single image into batch\n",
    "print(input_arr.shape)"
   ]
  },
  {
   "cell_type": "code",
   "execution_count": null,
   "id": "47558ae6-5aa6-4f30-9cc8-185bc859fd6c",
   "metadata": {},
   "outputs": [],
   "source": [
    "prediction = model.predict(input_arr)\n",
    "prediction,prediction.shape"
   ]
  },
  {
   "cell_type": "code",
   "execution_count": null,
   "id": "77b64ae4-33f7-4a8f-9613-c330f587aa70",
   "metadata": {},
   "outputs": [],
   "source": [
    "result_index= np.argmax(prediction)\n",
    "result_index"
   ]
  },
  {
   "cell_type": "code",
   "execution_count": null,
   "id": "1967f66f-9385-4344-b26c-ad6cb2449773",
   "metadata": {},
   "outputs": [],
   "source": [
    "class_name = ['Apple___Apple_scab',\n",
    " 'Apple___Black_rot',\n",
    " 'Apple___Cedar_apple_rust',\n",
    " 'Apple___healthy',\n",
    " 'Blueberry___healthy',\n",
    " 'Cherry_(including_sour)___Powdery_mildew',\n",
    " 'Cherry_(including_sour)___healthy',\n",
    " 'Corn_(maize)___Cercospora_leaf_spot Gray_leaf_spot',\n",
    " 'Corn_(maize)___Common_rust_',\n",
    " 'Corn_(maize)___Northern_Leaf_Blight',\n",
    " 'Corn_(maize)___healthy',\n",
    " 'Grape___Black_rot',\n",
    " 'Grape___Esca_(Black_Measles)',\n",
    " 'Grape___Leaf_blight_(Isariopsis_Leaf_Spot)',\n",
    " 'Grape___healthy',\n",
    " 'Orange___Haunglongbing_(Citrus_greening)',\n",
    " 'Peach___Bacterial_spot',\n",
    " 'Peach___healthy',\n",
    " 'Pepper,_bell___Bacterial_spot',\n",
    " 'Pepper,_bell___healthy',\n",
    " 'Potato___Early_blight',\n",
    " 'Potato___Late_blight',\n",
    " 'Potato___healthy',\n",
    " 'Raspberry___healthy',\n",
    " 'Soybean___healthy',\n",
    " 'Squash___Powdery_mildew',\n",
    " 'Strawberry___Leaf_scorch',\n",
    " 'Strawberry___healthy',\n",
    " 'Tomato___Bacterial_spot',\n",
    " 'Tomato___Early_blight',\n",
    " 'Tomato___Late_blight',\n",
    " 'Tomato___Leaf_Mold',\n",
    " 'Tomato___Septoria_leaf_spot',\n",
    " 'Tomato___Spider_mites Two-spotted_spider_mite',\n",
    " 'Tomato___Target_Spot',\n",
    " 'Tomato___Tomato_Yellow_Leaf_Curl_Virus',\n",
    " 'Tomato___Tomato_mosaic_virus',\n",
    " 'Tomato___healthy']"
   ]
  },
  {
   "cell_type": "code",
   "execution_count": null,
   "id": "7b653f3a-a1c3-4cec-99bc-747489790b7a",
   "metadata": {},
   "outputs": [],
   "source": [
    "#displaying result of disease prediction\n",
    "model_predicton=class_name[result_index]\n",
    "plt.imshow(img)\n",
    "plt.title(f'Dsease Name:{model_predicton}')\n",
    "plt.xticks([])\n",
    "plt.yticks([])\n",
    "plt.show()\n"
   ]
  },
  {
   "cell_type": "code",
   "execution_count": null,
   "id": "0683e918-39a9-49e1-9e03-9d61e23fff87",
   "metadata": {},
   "outputs": [],
   "source": []
  },
  {
   "cell_type": "code",
   "execution_count": null,
   "id": "a76a29cf-0ea5-4511-ac36-945701e84dda",
   "metadata": {},
   "outputs": [],
   "source": []
  },
  {
   "cell_type": "code",
   "execution_count": null,
   "id": "def3f103-bc9f-4084-9d68-72815631b9a5",
   "metadata": {},
   "outputs": [],
   "source": []
  }
 ],
 "metadata": {
  "kernelspec": {
   "display_name": "TensorFlow",
   "language": "python",
   "name": "tf_kernel"
  },
  "language_info": {
   "codemirror_mode": {
    "name": "ipython",
    "version": 3
   },
   "file_extension": ".py",
   "mimetype": "text/x-python",
   "name": "python",
   "nbconvert_exporter": "python",
   "pygments_lexer": "ipython3",
   "version": "3.10.8"
  }
 },
 "nbformat": 4,
 "nbformat_minor": 5
}
