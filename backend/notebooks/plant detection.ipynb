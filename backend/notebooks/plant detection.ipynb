{
 "cells": [
  {
   "cell_type": "markdown",
   "id": "221e2870-86af-4077-a7c1-1ba1ec29fd4b",
   "metadata": {},
   "source": [
    "## Importing libraries"
   ]
  },
  {
   "cell_type": "code",
   "execution_count": 62,
   "id": "34902670-6786-47bd-9985-9c04943bd431",
   "metadata": {
    "scrolled": true
   },
   "outputs": [],
   "source": [
    "import tensorflow as tf\n",
    "import matplotlib.pyplot as plt\n",
    "import pandas as pd\n",
    "import seaborn as sns"
   ]
  },
  {
   "cell_type": "markdown",
   "id": "c4d3ca3b-0a3b-45a3-973f-b02f157cfaef",
   "metadata": {},
   "source": [
    "## Data Processing"
   ]
  },
  {
   "cell_type": "markdown",
   "id": "5d1b789f-47d9-46e4-a556-030763a69dd4",
   "metadata": {},
   "source": [
    "### Training image processing"
   ]
  },
  {
   "cell_type": "code",
   "execution_count": 63,
   "id": "f032ae1d-178f-4dbc-97ca-636766356757",
   "metadata": {},
   "outputs": [
    {
     "name": "stdout",
     "output_type": "stream",
     "text": [
      "Found 70295 files belonging to 38 classes.\n"
     ]
    }
   ],
   "source": [
    "training_set = tf.keras.utils.image_dataset_from_directory(\n",
    "   'train',\n",
    "    labels=\"inferred\",\n",
    "    label_mode=\"categorical\",\n",
    "    class_names=None,\n",
    "    color_mode=\"rgb\",\n",
    "    batch_size=32,\n",
    "    image_size=(128, 128),\n",
    "    shuffle=True,\n",
    "    seed=None,\n",
    "    validation_split=None,\n",
    "    subset=None,\n",
    "    interpolation=\"bilinear\",\n",
    "    follow_links=False,\n",
    "    crop_to_aspect_ratio=False,\n",
    "\n",
    ")"
   ]
  },
  {
   "cell_type": "code",
   "execution_count": 64,
   "id": "e90816bb-2c32-437e-af55-9c0931092c77",
   "metadata": {},
   "outputs": [
    {
     "name": "stdout",
     "output_type": "stream",
     "text": [
      "Found 17572 files belonging to 38 classes.\n"
     ]
    }
   ],
   "source": [
    "validation_set = tf.keras.utils.image_dataset_from_directory(\n",
    "   'valid',\n",
    "    labels=\"inferred\",\n",
    "    label_mode=\"categorical\",\n",
    "    class_names=None,\n",
    "    color_mode=\"rgb\",\n",
    "    batch_size=32,\n",
    "    image_size=(128, 128),\n",
    "    shuffle=True,\n",
    "    seed=None,\n",
    "    validation_split=None,\n",
    "    subset=None,\n",
    "    interpolation=\"bilinear\",\n",
    "    follow_links=False,\n",
    "    crop_to_aspect_ratio=False,\n",
    "\n",
    ")"
   ]
  },
  {
   "cell_type": "code",
   "execution_count": 65,
   "id": "50715aab-afeb-4dd2-9281-bb158f8c2b9d",
   "metadata": {},
   "outputs": [
    {
     "data": {
      "text/plain": [
       "<_PrefetchDataset element_spec=(TensorSpec(shape=(None, 128, 128, 3), dtype=tf.float32, name=None), TensorSpec(shape=(None, 38), dtype=tf.float32, name=None))>"
      ]
     },
     "execution_count": 65,
     "metadata": {},
     "output_type": "execute_result"
    }
   ],
   "source": [
    "training_set\n"
   ]
  },
  {
   "cell_type": "code",
   "execution_count": 66,
   "id": "cfc58a52-ee6e-4b82-9e44-28407df3003a",
   "metadata": {},
   "outputs": [
    {
     "name": "stdout",
     "output_type": "stream",
     "text": [
      "tf.Tensor(\n",
      "[[[[ 54.25  47.25  59.25]\n",
      "   [ 51.25  44.25  56.25]\n",
      "   [ 49.25  43.25  54.25]\n",
      "   ...\n",
      "   [ 66.75  58.25  69.75]\n",
      "   [ 64.75  56.25  67.75]\n",
      "   [ 62.25  53.75  65.25]]\n",
      "\n",
      "  [[ 91.75  83.5   99.  ]\n",
      "   [ 87.75  79.5   95.  ]\n",
      "   [ 91.25  83.    98.5 ]\n",
      "   ...\n",
      "   [121.   110.   126.25]\n",
      "   [117.75 106.75 123.  ]\n",
      "   [111.5  100.5  116.75]]\n",
      "\n",
      "  [[ 92.75  83.75 102.75]\n",
      "   [ 84.    75.    94.  ]\n",
      "   [ 96.5   87.5  106.5 ]\n",
      "   ...\n",
      "   [115.   103.25 123.  ]\n",
      "   [118.75 107.   126.75]\n",
      "   [115.   103.25 123.  ]]\n",
      "\n",
      "  ...\n",
      "\n",
      "  [[130.   122.   145.  ]\n",
      "   [140.75 132.75 155.75]\n",
      "   [135.75 127.75 150.75]\n",
      "   ...\n",
      "   [150.   142.   166.  ]\n",
      "   [153.5  145.5  169.5 ]\n",
      "   [151.5  143.5  167.5 ]]\n",
      "\n",
      "  [[131.25 123.25 146.25]\n",
      "   [138.   130.   153.  ]\n",
      "   [127.75 119.75 142.75]\n",
      "   ...\n",
      "   [148.25 140.25 164.25]\n",
      "   [153.75 145.75 169.75]\n",
      "   [149.   141.   165.  ]]\n",
      "\n",
      "  [[128.   120.   143.  ]\n",
      "   [134.25 126.25 149.25]\n",
      "   [133.75 125.75 148.75]\n",
      "   ...\n",
      "   [152.5  144.5  168.5 ]\n",
      "   [154.75 146.75 170.75]\n",
      "   [153.75 145.75 169.75]]]\n",
      "\n",
      "\n",
      " [[[120.25 115.25 147.25]\n",
      "   [127.5  122.5  152.5 ]\n",
      "   [122.   117.   147.  ]\n",
      "   ...\n",
      "   [175.25 170.25 190.25]\n",
      "   [169.   164.   184.  ]\n",
      "   [168.5  163.5  183.5 ]]\n",
      "\n",
      "  [[121.75 116.75 148.75]\n",
      "   [118.25 113.25 143.25]\n",
      "   [117.5  112.5  142.5 ]\n",
      "   ...\n",
      "   [168.5  163.5  183.5 ]\n",
      "   [168.   163.   183.  ]\n",
      "   [168.5  163.5  183.5 ]]\n",
      "\n",
      "  [[122.   117.   149.  ]\n",
      "   [125.   120.   150.  ]\n",
      "   [118.25 113.25 143.25]\n",
      "   ...\n",
      "   [177.5  172.5  192.5 ]\n",
      "   [181.5  176.5  196.5 ]\n",
      "   [168.   163.   183.  ]]\n",
      "\n",
      "  ...\n",
      "\n",
      "  [[105.    97.   118.  ]\n",
      "   [ 90.5   82.5  103.5 ]\n",
      "   [101.25  93.25 114.25]\n",
      "   ...\n",
      "   [124.75 117.75 133.75]\n",
      "   [132.25 125.25 141.25]\n",
      "   [129.25 122.25 138.25]]\n",
      "\n",
      "  [[101.75  93.75 114.75]\n",
      "   [ 98.25  90.25 111.25]\n",
      "   [127.75 119.75 140.75]\n",
      "   ...\n",
      "   [145.75 138.75 154.75]\n",
      "   [127.5  120.5  136.5 ]\n",
      "   [132.75 125.75 141.75]]\n",
      "\n",
      "  [[104.25  96.25 117.25]\n",
      "   [111.5  103.5  124.5 ]\n",
      "   [111.5  103.5  124.5 ]\n",
      "   ...\n",
      "   [122.75 115.75 131.75]\n",
      "   [143.5  136.5  152.5 ]\n",
      "   [139.5  132.5  148.5 ]]]\n",
      "\n",
      "\n",
      " [[[111.   133.    85.25]\n",
      "   [115.5  137.5  100.  ]\n",
      "   [118.25 141.25 114.25]\n",
      "   ...\n",
      "   [134.75 135.25  78.5 ]\n",
      "   [164.75 171.25 116.5 ]\n",
      "   [154.75 164.   111.  ]]\n",
      "\n",
      "  [[118.25 140.25  93.75]\n",
      "   [128.   149.75 113.  ]\n",
      "   [121.25 144.25 117.25]\n",
      "   ...\n",
      "   [147.5  145.    88.  ]\n",
      "   [159.5  159.25 105.25]\n",
      "   [168.25 171.5  120.25]]\n",
      "\n",
      "  [[112.75 134.    90.75]\n",
      "   [107.75 129.25  94.25]\n",
      "   [105.   128.   100.5 ]\n",
      "   ...\n",
      "   [168.5  159.   103.5 ]\n",
      "   [161.   151.75  99.75]\n",
      "   [161.75 154.   104.5 ]]\n",
      "\n",
      "  ...\n",
      "\n",
      "  [[ 27.25  40.25  20.25]\n",
      "   [ 17.5   32.25  13.75]\n",
      "   [ 17.5   31.5   16.  ]\n",
      "   ...\n",
      "   [194.5  171.5  139.75]\n",
      "   [202.25 179.25 145.75]\n",
      "   [128.5  105.5   71.5 ]]\n",
      "\n",
      "  [[ 23.5   36.5   16.5 ]\n",
      "   [ 14.5   29.5   10.5 ]\n",
      "   [ 15.5   29.5   12.5 ]\n",
      "   ...\n",
      "   [178.   155.   123.  ]\n",
      "   [189.75 165.75 131.75]\n",
      "   [151.5  127.5   93.5 ]]\n",
      "\n",
      "  [[ 23.5   37.5   14.5 ]\n",
      "   [ 15.    30.     9.5 ]\n",
      "   [ 16.75  30.75  13.75]\n",
      "   ...\n",
      "   [206.   183.   149.  ]\n",
      "   [206.25 182.25 148.25]\n",
      "   [143.25 119.25  85.25]]]\n",
      "\n",
      "\n",
      " ...\n",
      "\n",
      "\n",
      " [[[115.25 112.25 107.25]\n",
      "   [112.5  109.5  104.5 ]\n",
      "   [113.75 110.75 105.75]\n",
      "   ...\n",
      "   [117.75 112.75 108.75]\n",
      "   [106.   101.    97.  ]\n",
      "   [112.   107.   103.  ]]\n",
      "\n",
      "  [[110.   107.   102.  ]\n",
      "   [110.75 107.75 102.75]\n",
      "   [114.   111.   106.  ]\n",
      "   ...\n",
      "   [119.   114.   110.  ]\n",
      "   [119.   114.   110.  ]\n",
      "   [114.75 109.75 105.75]]\n",
      "\n",
      "  [[111.   108.   103.  ]\n",
      "   [108.25 105.25 100.25]\n",
      "   [112.75 109.75 104.75]\n",
      "   ...\n",
      "   [121.5  116.5  112.5 ]\n",
      "   [118.75 113.75 109.75]\n",
      "   [111.   106.   102.  ]]\n",
      "\n",
      "  ...\n",
      "\n",
      "  [[119.75 123.75 122.75]\n",
      "   [122.5  126.5  125.5 ]\n",
      "   [126.5  130.5  129.5 ]\n",
      "   ...\n",
      "   [ 89.25  95.25  93.25]\n",
      "   [ 88.25  94.25  92.25]\n",
      "   [ 83.25  89.25  87.25]]\n",
      "\n",
      "  [[120.25 124.25 123.25]\n",
      "   [120.5  124.5  123.5 ]\n",
      "   [118.25 122.25 121.25]\n",
      "   ...\n",
      "   [ 87.5   93.5   91.5 ]\n",
      "   [ 87.25  93.25  91.25]\n",
      "   [ 83.25  89.25  87.25]]\n",
      "\n",
      "  [[118.25 122.25 121.25]\n",
      "   [120.25 124.25 123.25]\n",
      "   [116.75 120.75 119.75]\n",
      "   ...\n",
      "   [ 83.    89.    87.  ]\n",
      "   [ 86.25  92.25  90.25]\n",
      "   [ 79.    85.    83.  ]]]\n",
      "\n",
      "\n",
      " [[[171.   147.   143.  ]\n",
      "   [174.   150.   146.  ]\n",
      "   [174.   150.   146.  ]\n",
      "   ...\n",
      "   [179.5  158.5  157.5 ]\n",
      "   [177.   156.   155.  ]\n",
      "   [181.25 160.25 159.25]]\n",
      "\n",
      "  [[164.25 140.25 136.25]\n",
      "   [167.75 143.75 139.75]\n",
      "   [169.5  145.5  141.5 ]\n",
      "   ...\n",
      "   [174.75 153.75 152.75]\n",
      "   [175.5  154.5  153.5 ]\n",
      "   [178.5  157.5  156.5 ]]\n",
      "\n",
      "  [[176.5  152.5  148.5 ]\n",
      "   [171.   147.   143.  ]\n",
      "   [170.5  146.5  142.5 ]\n",
      "   ...\n",
      "   [173.25 152.25 151.25]\n",
      "   [173.5  152.5  151.5 ]\n",
      "   [177.75 156.75 155.75]]\n",
      "\n",
      "  ...\n",
      "\n",
      "  [[113.75  89.75  85.75]\n",
      "   [122.25  98.25  94.25]\n",
      "   [133.25 109.25 105.25]\n",
      "   ...\n",
      "   [115.25  91.25  89.25]\n",
      "   [127.   103.   101.  ]\n",
      "   [124.25 100.25  98.25]]\n",
      "\n",
      "  [[118.75  94.75  90.75]\n",
      "   [114.75  90.75  86.75]\n",
      "   [121.5   97.5   93.5 ]\n",
      "   ...\n",
      "   [114.5   90.5   88.5 ]\n",
      "   [122.    98.    96.  ]\n",
      "   [129.5  105.5  103.5 ]]\n",
      "\n",
      "  [[121.    97.    93.  ]\n",
      "   [129.75 105.75 101.75]\n",
      "   [116.75  92.75  88.75]\n",
      "   ...\n",
      "   [118.5   94.5   92.5 ]\n",
      "   [128.75 104.75 102.75]\n",
      "   [130.25 106.25 104.25]]]\n",
      "\n",
      "\n",
      " [[[  3.     3.     3.  ]\n",
      "   [  3.     3.     3.  ]\n",
      "   [  3.     3.     3.  ]\n",
      "   ...\n",
      "   [  3.     3.     3.  ]\n",
      "   [  3.     3.     3.  ]\n",
      "   [  3.     3.     3.  ]]\n",
      "\n",
      "  [[  3.     3.     3.  ]\n",
      "   [  3.     3.     3.  ]\n",
      "   [  3.     3.     3.  ]\n",
      "   ...\n",
      "   [  3.     3.     3.  ]\n",
      "   [  3.     3.     3.  ]\n",
      "   [  3.     3.     3.  ]]\n",
      "\n",
      "  [[  3.     3.     3.  ]\n",
      "   [  3.     3.     3.  ]\n",
      "   [  3.     3.     3.  ]\n",
      "   ...\n",
      "   [  3.     3.     3.  ]\n",
      "   [  3.     3.     3.  ]\n",
      "   [  3.     3.     3.  ]]\n",
      "\n",
      "  ...\n",
      "\n",
      "  [[  3.     3.     3.  ]\n",
      "   [  3.     3.     3.  ]\n",
      "   [  3.     3.     3.  ]\n",
      "   ...\n",
      "   [  3.     3.     3.  ]\n",
      "   [  3.     3.     3.  ]\n",
      "   [  3.     3.     3.  ]]\n",
      "\n",
      "  [[  3.     3.     3.  ]\n",
      "   [  3.     3.     3.  ]\n",
      "   [  3.     3.     3.  ]\n",
      "   ...\n",
      "   [  3.     3.     3.  ]\n",
      "   [  3.     3.     3.  ]\n",
      "   [  3.     3.     3.  ]]\n",
      "\n",
      "  [[  3.     3.     3.  ]\n",
      "   [  3.     3.     3.  ]\n",
      "   [  3.     3.     3.  ]\n",
      "   ...\n",
      "   [  3.     3.     3.  ]\n",
      "   [  3.     3.     3.  ]\n",
      "   [  3.     3.     3.  ]]]], shape=(32, 128, 128, 3), dtype=float32) (32, 128, 128, 3)\n",
      "tf.Tensor(\n",
      "[[0. 0. 0. ... 0. 1. 0.]\n",
      " [0. 0. 0. ... 0. 0. 0.]\n",
      " [0. 0. 0. ... 0. 0. 0.]\n",
      " ...\n",
      " [0. 0. 0. ... 0. 0. 0.]\n",
      " [0. 0. 0. ... 0. 0. 0.]\n",
      " [0. 0. 0. ... 0. 0. 0.]], shape=(32, 38), dtype=float32) (32, 38)\n"
     ]
    }
   ],
   "source": [
    "for x,y in training_set:\n",
    "    print(x,x.shape)\n",
    "    print(y,y.shape)\n",
    "    break"
   ]
  },
  {
   "cell_type": "markdown",
   "id": "5e6467fc-50e2-4936-8887-d95fb0ca2529",
   "metadata": {},
   "source": [
    "## Building Models"
   ]
  },
  {
   "cell_type": "code",
   "execution_count": 67,
   "id": "d29b83af-7616-47f0-986c-df4ae52124d3",
   "metadata": {},
   "outputs": [],
   "source": [
    "from tensorflow.keras.layers import Dense,Conv2D,MaxPool2D,Flatten,Dropout\n",
    "from tensorflow.keras.models import Sequential"
   ]
  },
  {
   "cell_type": "code",
   "execution_count": 68,
   "id": "c570bec0-4ef2-4d89-b82b-252dfb648c46",
   "metadata": {},
   "outputs": [],
   "source": [
    "model = Sequential()"
   ]
  },
  {
   "cell_type": "code",
   "execution_count": 69,
   "id": "793057d2-2578-457c-a970-42bddc6f1c18",
   "metadata": {},
   "outputs": [],
   "source": [
    "## Building Convolutional Layers"
   ]
  },
  {
   "cell_type": "code",
   "execution_count": 70,
   "id": "1f315127-232e-4793-8cf2-061376bc0570",
   "metadata": {},
   "outputs": [],
   "source": [
    "model.add(Conv2D(filters=32,kernel_size=3,padding='same',activation='relu',input_shape=[128, 128, 3]))\n",
    "model.add(Conv2D(filters=32,kernel_size=3,activation='relu'))\n",
    "model.add(MaxPool2D(pool_size=2,strides=2))"
   ]
  },
  {
   "cell_type": "code",
   "execution_count": 71,
   "id": "27ad0828-3ada-42e4-a6ee-3f60a0c1cb68",
   "metadata": {},
   "outputs": [],
   "source": [
    "model.add(Conv2D(filters=64,kernel_size=3,padding='same',activation='relu'))\n",
    "model.add(Conv2D(filters=64,kernel_size=3,activation='relu'))\n",
    "model.add(MaxPool2D(pool_size=2,strides=2))"
   ]
  },
  {
   "cell_type": "code",
   "execution_count": 72,
   "id": "2a50ccb4-e604-491a-85ba-2824ca4e7f2c",
   "metadata": {},
   "outputs": [],
   "source": [
    "model.add(Conv2D(filters=128,kernel_size=3,padding='same',activation='relu'))\n",
    "model.add(Conv2D(filters=128,kernel_size=3,activation='relu'))\n",
    "model.add(MaxPool2D(pool_size=2,strides=2))"
   ]
  },
  {
   "cell_type": "code",
   "execution_count": 73,
   "id": "9587e6bb-254f-4aaa-b9ec-e53aac2580d9",
   "metadata": {},
   "outputs": [],
   "source": [
    "model.add(Conv2D(filters=256,kernel_size=3,padding='same',activation='relu'))\n",
    "model.add(Conv2D(filters=256,kernel_size=3,activation='relu'))\n",
    "model.add(MaxPool2D(pool_size=2,strides=2))"
   ]
  },
  {
   "cell_type": "code",
   "execution_count": 74,
   "id": "dfe0f876-9024-4a11-8732-a9f2090150c4",
   "metadata": {},
   "outputs": [],
   "source": [
    "model.add(Conv2D(filters=512,kernel_size=3,padding='same',activation='relu'))\n",
    "model.add(Conv2D(filters=512,kernel_size=3,activation='relu'))\n",
    "model.add(MaxPool2D(pool_size=2,strides=2))"
   ]
  },
  {
   "cell_type": "code",
   "execution_count": 75,
   "id": "9f174911-bdaf-488e-9a0a-b74e6c5f921f",
   "metadata": {},
   "outputs": [],
   "source": [
    "model.add(Dropout(0.25))"
   ]
  },
  {
   "cell_type": "code",
   "execution_count": 76,
   "id": "2c5596f7-15f1-4423-9d64-fec92b04ab07",
   "metadata": {},
   "outputs": [],
   "source": [
    "model.add(Flatten())"
   ]
  },
  {
   "cell_type": "code",
   "execution_count": 77,
   "id": "8db51cf1-de19-4b23-a688-b5ca0462c4bc",
   "metadata": {},
   "outputs": [],
   "source": [
    "model.add(Dense(units=1500,activation='relu'))"
   ]
  },
  {
   "cell_type": "code",
   "execution_count": 78,
   "id": "bf955b2d-7979-4400-9807-4db096af178d",
   "metadata": {},
   "outputs": [],
   "source": [
    "model.add(Dropout(0.4))"
   ]
  },
  {
   "cell_type": "code",
   "execution_count": 79,
   "id": "7793b45c-d754-4b54-b0b3-b9ca76625eee",
   "metadata": {},
   "outputs": [],
   "source": [
    "## Output Layer\n",
    "model.add(Dense(units=38,activation='softmax'))"
   ]
  },
  {
   "cell_type": "markdown",
   "id": "c49c5651-8163-4f83-83a1-d24958a2c84c",
   "metadata": {},
   "source": [
    "## Compiling Model"
   ]
  },
  {
   "cell_type": "code",
   "execution_count": 81,
   "id": "f941bca8-7973-4590-b3b8-d1187397ec22",
   "metadata": {},
   "outputs": [],
   "source": [
    "import tensorflow as tf\n",
    "\n",
    "model.compile(\n",
    "    optimizer=tf.keras.optimizers.Adam(learning_rate=0.0001),  # Use the standard Adam optimizer\n",
    "    loss='categorical_crossentropy',\n",
    "    metrics=['accuracy']\n",
    ")\n"
   ]
  },
  {
   "cell_type": "raw",
   "id": "d78fe2b5-9620-4d9b-b2af-e8eea726b24b",
   "metadata": {},
   "source": [
    "model.summary()"
   ]
  },
  {
   "cell_type": "markdown",
   "id": "b41ad96c-62f7-4187-91ff-748729c135c1",
   "metadata": {},
   "source": [
    "## Model training"
   ]
  },
  {
   "cell_type": "code",
   "execution_count": 82,
   "id": "0feda53e-d1e8-4cbf-a166-f7c651ec2889",
   "metadata": {},
   "outputs": [
    {
     "name": "stdout",
     "output_type": "stream",
     "text": [
      "Epoch 1/10\n",
      "\u001b[1m2197/2197\u001b[0m \u001b[32m━━━━━━━━━━━━━━━━━━━━\u001b[0m\u001b[37m\u001b[0m \u001b[1m3199s\u001b[0m 1s/step - accuracy: 0.4050 - loss: 2.1263 - val_accuracy: 0.8252 - val_loss: 0.5420\n",
      "Epoch 2/10\n",
      "\u001b[1m2197/2197\u001b[0m \u001b[32m━━━━━━━━━━━━━━━━━━━━\u001b[0m\u001b[37m\u001b[0m \u001b[1m3915s\u001b[0m 2s/step - accuracy: 0.8364 - loss: 0.5234 - val_accuracy: 0.8972 - val_loss: 0.3214\n",
      "Epoch 3/10\n",
      "\u001b[1m2197/2197\u001b[0m \u001b[32m━━━━━━━━━━━━━━━━━━━━\u001b[0m\u001b[37m\u001b[0m \u001b[1m18801s\u001b[0m 9s/step - accuracy: 0.9076 - loss: 0.2899 - val_accuracy: 0.9187 - val_loss: 0.2539\n",
      "Epoch 4/10\n",
      "\u001b[1m2197/2197\u001b[0m \u001b[32m━━━━━━━━━━━━━━━━━━━━\u001b[0m\u001b[37m\u001b[0m \u001b[1m3688s\u001b[0m 2s/step - accuracy: 0.9347 - loss: 0.2005 - val_accuracy: 0.9331 - val_loss: 0.2085\n",
      "Epoch 5/10\n",
      "\u001b[1m2197/2197\u001b[0m \u001b[32m━━━━━━━━━━━━━━━━━━━━\u001b[0m\u001b[37m\u001b[0m \u001b[1m3137s\u001b[0m 1s/step - accuracy: 0.9530 - loss: 0.1459 - val_accuracy: 0.9553 - val_loss: 0.1391\n",
      "Epoch 6/10\n",
      "\u001b[1m2197/2197\u001b[0m \u001b[32m━━━━━━━━━━━━━━━━━━━━\u001b[0m\u001b[37m\u001b[0m \u001b[1m15852s\u001b[0m 7s/step - accuracy: 0.9641 - loss: 0.1100 - val_accuracy: 0.9517 - val_loss: 0.1521\n",
      "Epoch 7/10\n",
      "\u001b[1m2197/2197\u001b[0m \u001b[32m━━━━━━━━━━━━━━━━━━━━\u001b[0m\u001b[37m\u001b[0m \u001b[1m2969s\u001b[0m 1s/step - accuracy: 0.9698 - loss: 0.0926 - val_accuracy: 0.9578 - val_loss: 0.1421\n",
      "Epoch 8/10\n",
      "\u001b[1m2197/2197\u001b[0m \u001b[32m━━━━━━━━━━━━━━━━━━━━\u001b[0m\u001b[37m\u001b[0m \u001b[1m3283s\u001b[0m 1s/step - accuracy: 0.9736 - loss: 0.0793 - val_accuracy: 0.9636 - val_loss: 0.1212\n",
      "Epoch 9/10\n",
      "\u001b[1m2197/2197\u001b[0m \u001b[32m━━━━━━━━━━━━━━━━━━━━\u001b[0m\u001b[37m\u001b[0m \u001b[1m3948s\u001b[0m 2s/step - accuracy: 0.9788 - loss: 0.0641 - val_accuracy: 0.9487 - val_loss: 0.1625\n",
      "Epoch 10/10\n",
      "\u001b[1m2197/2197\u001b[0m \u001b[32m━━━━━━━━━━━━━━━━━━━━\u001b[0m\u001b[37m\u001b[0m \u001b[1m3671s\u001b[0m 2s/step - accuracy: 0.9809 - loss: 0.0579 - val_accuracy: 0.9659 - val_loss: 0.1156\n"
     ]
    }
   ],
   "source": [
    "training_history = model.fit(x=training_set,validation_data=validation_set,epochs=10)"
   ]
  },
  {
   "cell_type": "code",
   "execution_count": null,
   "id": "b66b8811-f670-40f2-aea1-ac16e54cf7bf",
   "metadata": {},
   "outputs": [],
   "source": [
    "    "
   ]
  },
  {
   "cell_type": "markdown",
   "id": "cb6bf022-c393-4557-85d2-f61319c8819e",
   "metadata": {},
   "source": [
    "## Model evaluation"
   ]
  },
  {
   "cell_type": "code",
   "execution_count": 83,
   "id": "421cd6e0-a910-4898-b415-99210758e12d",
   "metadata": {},
   "outputs": [
    {
     "name": "stdout",
     "output_type": "stream",
     "text": [
      "\u001b[1m2197/2197\u001b[0m \u001b[32m━━━━━━━━━━━━━━━━━━━━\u001b[0m\u001b[37m\u001b[0m \u001b[1m2448s\u001b[0m 1s/step - accuracy: 0.9909 - loss: 0.0291\n"
     ]
    }
   ],
   "source": [
    "train_loss,train_acc = model.evaluate(training_set)"
   ]
  },
  {
   "cell_type": "code",
   "execution_count": 84,
   "id": "a8a9b856-28c0-4d8a-879a-a84760ebbae8",
   "metadata": {},
   "outputs": [
    {
     "name": "stdout",
     "output_type": "stream",
     "text": [
      "0.026777371764183044 0.991706371307373\n"
     ]
    }
   ],
   "source": [
    "print(train_loss,train_acc)"
   ]
  },
  {
   "cell_type": "code",
   "execution_count": 85,
   "id": "0a894539-9e81-449c-8138-8e5dc3875035",
   "metadata": {},
   "outputs": [],
   "source": [
    "# Model Salidation Set"
   ]
  },
  {
   "cell_type": "code",
   "execution_count": 87,
   "id": "1f35f60d-b10f-4dc9-a25c-3438fcccdc3b",
   "metadata": {},
   "outputs": [
    {
     "name": "stdout",
     "output_type": "stream",
     "text": [
      "\u001b[1m550/550\u001b[0m \u001b[32m━━━━━━━━━━━━━━━━━━━━\u001b[0m\u001b[37m\u001b[0m \u001b[1m180s\u001b[0m 327ms/step - accuracy: 0.9647 - loss: 0.1163\n"
     ]
    }
   ],
   "source": [
    "val_loss,Val_acc = model.evaluate(validation_set)"
   ]
  },
  {
   "cell_type": "code",
   "execution_count": 88,
   "id": "e2a74b05-6589-42af-9c31-878390bbdf66",
   "metadata": {},
   "outputs": [
    {
     "name": "stdout",
     "output_type": "stream",
     "text": [
      "0.11555734276771545 0.9659116864204407\n"
     ]
    }
   ],
   "source": [
    "print(val_loss,Val_acc)"
   ]
  },
  {
   "cell_type": "code",
   "execution_count": null,
   "id": "0eb423cb-7a35-42e8-a6cb-c7daeff89d8a",
   "metadata": {},
   "outputs": [],
   "source": []
  },
  {
   "cell_type": "markdown",
   "id": "6c11e959-3c6f-4b03-b2d3-2a9bd072cefe",
   "metadata": {},
   "source": [
    "## Saving Model"
   ]
  },
  {
   "cell_type": "code",
   "execution_count": 89,
   "id": "2c2a22f6-669a-4e00-9ff0-6524fe3b9771",
   "metadata": {},
   "outputs": [],
   "source": [
    "model.save(\"trained_model.keras\")"
   ]
  },
  {
   "cell_type": "code",
   "execution_count": 90,
   "id": "e8c43e49-de44-48de-9db1-a394e47540f0",
   "metadata": {},
   "outputs": [
    {
     "data": {
      "text/plain": [
       "{'accuracy': [0.6076961159706116,\n",
       "  0.8595917224884033,\n",
       "  0.9145458340644836,\n",
       "  0.9385162591934204,\n",
       "  0.9545913934707642,\n",
       "  0.9653176069259644,\n",
       "  0.971278190612793,\n",
       "  0.9750195741653442,\n",
       "  0.9782488346099854,\n",
       "  0.9806671738624573],\n",
       " 'loss': [1.3420906066894531,\n",
       "  0.44749268889427185,\n",
       "  0.26546913385391235,\n",
       "  0.18865129351615906,\n",
       "  0.1403239369392395,\n",
       "  0.10521526634693146,\n",
       "  0.08759187906980515,\n",
       "  0.0764329805970192,\n",
       "  0.06704390794038773,\n",
       "  0.0606149397790432],\n",
       " 'val_accuracy': [0.8251764178276062,\n",
       "  0.8972228765487671,\n",
       "  0.9187343716621399,\n",
       "  0.9330753684043884,\n",
       "  0.9552697539329529,\n",
       "  0.9516844749450684,\n",
       "  0.957773745059967,\n",
       "  0.9636353254318237,\n",
       "  0.948668360710144,\n",
       "  0.9659116864204407],\n",
       " 'val_loss': [0.5419501662254333,\n",
       "  0.3213578760623932,\n",
       "  0.25391000509262085,\n",
       "  0.20851516723632812,\n",
       "  0.13908153772354126,\n",
       "  0.1520649790763855,\n",
       "  0.1420564502477646,\n",
       "  0.1212274357676506,\n",
       "  0.16249331831932068,\n",
       "  0.11555738002061844]}"
      ]
     },
     "execution_count": 90,
     "metadata": {},
     "output_type": "execute_result"
    }
   ],
   "source": [
    "training_history.history"
   ]
  },
  {
   "cell_type": "code",
   "execution_count": 91,
   "id": "e46f3e1f-13d8-441b-b566-1f1ff244e1a3",
   "metadata": {},
   "outputs": [],
   "source": [
    "##Recording history\n",
    "import json\n",
    "with open(\"training_hist.json\",\"w\") as f:\n",
    "    json.dump(training_history.history,f)"
   ]
  },
  {
   "cell_type": "code",
   "execution_count": 92,
   "id": "2499d9be-8f4f-4001-aad6-2f75d34401c0",
   "metadata": {},
   "outputs": [
    {
     "data": {
      "text/plain": [
       "[0.6076961159706116,\n",
       " 0.8595917224884033,\n",
       " 0.9145458340644836,\n",
       " 0.9385162591934204,\n",
       " 0.9545913934707642,\n",
       " 0.9653176069259644,\n",
       " 0.971278190612793,\n",
       " 0.9750195741653442,\n",
       " 0.9782488346099854,\n",
       " 0.9806671738624573]"
      ]
     },
     "execution_count": 92,
     "metadata": {},
     "output_type": "execute_result"
    }
   ],
   "source": [
    "training_history.history['accuracy']"
   ]
  },
  {
   "cell_type": "markdown",
   "id": "00208bd0-fb25-4e0d-a17f-7285b46a1654",
   "metadata": {},
   "source": [
    "## Accuracy Visualization"
   ]
  },
  {
   "cell_type": "code",
   "execution_count": 93,
   "id": "614ad208-0176-4e5b-ac81-26101f7c2687",
   "metadata": {},
   "outputs": [
    {
     "data": {
      "image/png": "[encoded data removed]",
      "text/plain": [
       "<Figure size 640x480 with 1 Axes>"
      ]
     },
     "metadata": {},
     "output_type": "display_data"
    }
   ],
   "source": [
    "epochs = [i for i in range(1,11)]\n",
    "plt.plot(epochs,training_history.history['accuracy'],color='red',label='training Accuracy')\n",
    "plt.plot(epochs,training_history.history['val_accuracy'],color='blue',label='validation Accuracy')\n",
    "plt.xlabel(\"No of Epochs\")\n",
    "plt.ylabel(\"acccurracy Result\")\n",
    "plt.title(\"Vsualization Of Accuracy Result\")\n",
    "plt.legend()\n",
    "plt.show()"
   ]
  },
  {
   "cell_type": "code",
   "execution_count": null,
   "id": "99ee59b0-727b-404d-bda8-0c66ff425a12",
   "metadata": {},
   "outputs": [],
   "source": []
  },
  {
   "cell_type": "markdown",
   "id": "c458c9d8-e4b3-473d-baa1-318fdacdba2d",
   "metadata": {},
   "source": [
    "## Metrics for model evaluation"
   ]
  },
  {
   "cell_type": "code",
   "execution_count": 94,
   "id": "f2a73b40-e231-489e-a5f9-501927b614e6",
   "metadata": {},
   "outputs": [
    {
     "data": {
      "text/plain": [
       "['Apple___Apple_scab',\n",
       " 'Apple___Black_rot',\n",
       " 'Apple___Cedar_apple_rust',\n",
       " 'Apple___healthy',\n",
       " 'Blueberry___healthy',\n",
       " 'Cherry_(including_sour)___Powdery_mildew',\n",
       " 'Cherry_(including_sour)___healthy',\n",
       " 'Corn_(maize)___Cercospora_leaf_spot Gray_leaf_spot',\n",
       " 'Corn_(maize)___Common_rust_',\n",
       " 'Corn_(maize)___Northern_Leaf_Blight',\n",
       " 'Corn_(maize)___healthy',\n",
       " 'Grape___Black_rot',\n",
       " 'Grape___Esca_(Black_Measles)',\n",
       " 'Grape___Leaf_blight_(Isariopsis_Leaf_Spot)',\n",
       " 'Grape___healthy',\n",
       " 'Orange___Haunglongbing_(Citrus_greening)',\n",
       " 'Peach___Bacterial_spot',\n",
       " 'Peach___healthy',\n",
       " 'Pepper,_bell___Bacterial_spot',\n",
       " 'Pepper,_bell___healthy',\n",
       " 'Potato___Early_blight',\n",
       " 'Potato___Late_blight',\n",
       " 'Potato___healthy',\n",
       " 'Raspberry___healthy',\n",
       " 'Soybean___healthy',\n",
       " 'Squash___Powdery_mildew',\n",
       " 'Strawberry___Leaf_scorch',\n",
       " 'Strawberry___healthy',\n",
       " 'Tomato___Bacterial_spot',\n",
       " 'Tomato___Early_blight',\n",
       " 'Tomato___Late_blight',\n",
       " 'Tomato___Leaf_Mold',\n",
       " 'Tomato___Septoria_leaf_spot',\n",
       " 'Tomato___Spider_mites Two-spotted_spider_mite',\n",
       " 'Tomato___Target_Spot',\n",
       " 'Tomato___Tomato_Yellow_Leaf_Curl_Virus',\n",
       " 'Tomato___Tomato_mosaic_virus',\n",
       " 'Tomato___healthy']"
      ]
     },
     "execution_count": 94,
     "metadata": {},
     "output_type": "execute_result"
    }
   ],
   "source": [
    "class_name = validation_set.class_names\n",
    "class_name"
   ]
  },
  {
   "cell_type": "code",
   "execution_count": null,
   "id": "ca3fff71-9f95-4ccb-8663-94596f08f39a",
   "metadata": {},
   "outputs": [],
   "source": []
  },
  {
   "cell_type": "code",
   "execution_count": 95,
   "id": "e4f72d02-b266-4b1f-94b2-071826173e00",
   "metadata": {},
   "outputs": [
    {
     "name": "stdout",
     "output_type": "stream",
     "text": [
      "Found 17572 files belonging to 38 classes.\n"
     ]
    }
   ],
   "source": [
    "test_set =  tf.keras.utils.image_dataset_from_directory(\n",
    "   'valid',\n",
    "    labels=\"inferred\",\n",
    "    label_mode=\"categorical\",\n",
    "    class_names=None,\n",
    "    color_mode=\"rgb\",\n",
    "    batch_size=32,\n",
    "    image_size=(128, 128),\n",
    "    shuffle=False,\n",
    "    seed=None,\n",
    "    validation_split=None,\n",
    "    subset=None,\n",
    "    interpolation=\"bilinear\",\n",
    "    follow_links=False,\n",
    "    crop_to_aspect_ratio=False,\n",
    "\n",
    ")"
   ]
  },
  {
   "cell_type": "code",
   "execution_count": 96,
   "id": "0ea20e8f-0c81-498f-926d-ef5af3bdc8a1",
   "metadata": {},
   "outputs": [
    {
     "name": "stdout",
     "output_type": "stream",
     "text": [
      "\u001b[1m550/550\u001b[0m \u001b[32m━━━━━━━━━━━━━━━━━━━━\u001b[0m\u001b[37m\u001b[0m \u001b[1m213s\u001b[0m 386ms/step\n"
     ]
    },
    {
     "data": {
      "text/plain": [
       "(array([[1.0000000e+00, 4.2182380e-10, 3.8148516e-11, ..., 6.5038551e-14,\n",
       "         1.4777480e-13, 7.0712225e-12],\n",
       "        [9.9999952e-01, 8.6643634e-09, 1.7311576e-10, ..., 2.2051110e-13,\n",
       "         9.6983717e-13, 3.6437446e-12],\n",
       "        [1.0000000e+00, 2.0342206e-09, 4.0417880e-10, ..., 1.4570751e-14,\n",
       "         1.0790344e-12, 2.8428040e-10],\n",
       "        ...,\n",
       "        [1.6397620e-09, 5.8871595e-14, 1.1998862e-09, ..., 2.4988286e-12,\n",
       "         2.4952547e-13, 9.9999928e-01],\n",
       "        [1.5545021e-10, 2.5246289e-15, 5.5577161e-11, ..., 1.4637785e-12,\n",
       "         3.6300577e-13, 1.0000000e+00],\n",
       "        [1.6374024e-14, 3.1657607e-15, 1.6076477e-14, ..., 2.2827945e-17,\n",
       "         3.2743992e-15, 1.0000000e+00]], dtype=float32),\n",
       " (17572, 38))"
      ]
     },
     "execution_count": 96,
     "metadata": {},
     "output_type": "execute_result"
    }
   ],
   "source": [
    "y_pred = model.predict(test_set)\n",
    "y_pred,y_pred.shape"
   ]
  },
  {
   "cell_type": "code",
   "execution_count": 97,
   "id": "6945afe2-0b74-44e8-9006-a9ca637f484d",
   "metadata": {},
   "outputs": [],
   "source": [
    "predicted_categories = tf.argmax(y_pred,axis=1)"
   ]
  },
  {
   "cell_type": "code",
   "execution_count": 98,
   "id": "26c0d5f3-8861-44f3-8415-09d3c1ce0e6e",
   "metadata": {},
   "outputs": [
    {
     "data": {
      "text/plain": [
       "<tf.Tensor: shape=(17572,), dtype=int64, numpy=array([ 0,  0,  0, ..., 37, 37, 37], dtype=int64)>"
      ]
     },
     "execution_count": 98,
     "metadata": {},
     "output_type": "execute_result"
    }
   ],
   "source": [
    "predicted_categories"
   ]
  },
  {
   "cell_type": "code",
   "execution_count": 99,
   "id": "856c9eb5-0430-4025-8ea9-d846815d9990",
   "metadata": {},
   "outputs": [
    {
     "data": {
      "text/plain": [
       "<tf.Tensor: shape=(17572, 38), dtype=float32, numpy=\n",
       "array([[1., 0., 0., ..., 0., 0., 0.],\n",
       "       [1., 0., 0., ..., 0., 0., 0.],\n",
       "       [1., 0., 0., ..., 0., 0., 0.],\n",
       "       ...,\n",
       "       [0., 0., 0., ..., 0., 0., 1.],\n",
       "       [0., 0., 0., ..., 0., 0., 1.],\n",
       "       [0., 0., 0., ..., 0., 0., 1.]], dtype=float32)>"
      ]
     },
     "execution_count": 99,
     "metadata": {},
     "output_type": "execute_result"
    }
   ],
   "source": [
    "true_categories = tf.concat([y for x,y in test_set],axis=0)\n",
    "true_categories"
   ]
  },
  {
   "cell_type": "code",
   "execution_count": 102,
   "id": "96717f4b-52dd-4cf7-b7bd-8101959edd62",
   "metadata": {},
   "outputs": [
    {
     "name": "stdout",
     "output_type": "stream",
     "text": [
      "Y_true: tf.Tensor([1 0 2], shape=(3,), dtype=int64)\n"
     ]
    }
   ],
   "source": [
    "import tensorflow as tf\n",
    "\n",
    "# Example one-hot encoded labels\n",
    "true_cartegories = tf.constant([[0, 1, 0], [1, 0, 0], [0, 0, 1]])\n",
    "Y_true = tf.argmax(true_cartegories, axis=1)\n",
    "print(\"Y_true:\", Y_true)\n"
   ]
  },
  {
   "cell_type": "code",
   "execution_count": 103,
   "id": "9ecb2709-def4-4593-a163-4683d98bbafa",
   "metadata": {},
   "outputs": [],
   "source": [
    "## precision recall"
   ]
  },
  {
   "cell_type": "code",
   "execution_count": 105,
   "id": "db111c0f-f9ee-4879-8401-40d792f0cf9f",
   "metadata": {},
   "outputs": [
    {
     "name": "stdout",
     "output_type": "stream",
     "text": [
      "Y_true shape: (3,)\n",
      "predicted_categories shape: (17572,)\n"
     ]
    }
   ],
   "source": [
    "print(\"Y_true shape:\", Y_true.shape)\n",
    "print(\"predicted_categories shape:\", predicted_categories.shape)\n"
   ]
  },
  {
   "cell_type": "code",
   "execution_count": 113,
   "id": "1dfeed91-cca9-4fe4-871c-fe0573e33acf",
   "metadata": {},
   "outputs": [],
   "source": [
    "predicted_categories = predicted_categories[:len(Y_true)]\n"
   ]
  },
  {
   "cell_type": "code",
   "execution_count": 110,
   "id": "4797090f-bd81-4964-93bb-981d7bd4fdbd",
   "metadata": {},
   "outputs": [
    {
     "name": "stdout",
     "output_type": "stream",
     "text": [
      "                          precision    recall  f1-score   support\n",
      "\n",
      "      Apple___Apple_scab       0.33      1.00      0.50         1\n",
      "       Apple___Black_rot       0.00      0.00      0.00         1\n",
      "Apple___Cedar_apple_rust       0.00      0.00      0.00         1\n",
      "\n",
      "                accuracy                           0.33         3\n",
      "               macro avg       0.11      0.33      0.17         3\n",
      "            weighted avg       0.11      0.33      0.17         3\n",
      "\n"
     ]
    },
    {
     "name": "stderr",
     "output_type": "stream",
     "text": [
      "C:\\Users\\PC\\anaconda3\\envs\\myenv\\lib\\site-packages\\sklearn\\metrics\\_classification.py:1334: UndefinedMetricWarning: Precision and F-score are ill-defined and being set to 0.0 in labels with no predicted samples. Use `zero_division` parameter to control this behavior.\n",
      "  _warn_prf(average, modifier, msg_start, len(result))\n",
      "C:\\Users\\PC\\anaconda3\\envs\\myenv\\lib\\site-packages\\sklearn\\metrics\\_classification.py:1334: UndefinedMetricWarning: Precision and F-score are ill-defined and being set to 0.0 in labels with no predicted samples. Use `zero_division` parameter to control this behavior.\n",
      "  _warn_prf(average, modifier, msg_start, len(result))\n",
      "C:\\Users\\PC\\anaconda3\\envs\\myenv\\lib\\site-packages\\sklearn\\metrics\\_classification.py:1334: UndefinedMetricWarning: Precision and F-score are ill-defined and being set to 0.0 in labels with no predicted samples. Use `zero_division` parameter to control this behavior.\n",
      "  _warn_prf(average, modifier, msg_start, len(result))\n"
     ]
    }
   ],
   "source": [
    "limited_target_names = [class_name[i] for i in np.unique(Y_true_subset)]\n",
    "print(classification_report(Y_true_subset, predicted_categories_subset, target_names=limited_target_names))\n",
    "\n"
   ]
  },
  {
   "cell_type": "code",
   "execution_count": 108,
   "id": "193e7323-c4ac-4155-b7ea-bf5dfa5b105a",
   "metadata": {},
   "outputs": [
    {
     "ename": "ValueError",
     "evalue": "Number of classes, 3, does not match size of target_names, 38. Try specifying the labels parameter",
     "output_type": "error",
     "traceback": [
      "\u001b[1;31m---------------------------------------------------------------------------\u001b[0m",
      "\u001b[1;31mValueError\u001b[0m                                Traceback (most recent call last)",
      "Cell \u001b[1;32mIn[108], line 3\u001b[0m\n\u001b[0;32m      1\u001b[0m Y_true_subset \u001b[38;5;241m=\u001b[39m Y_true[:\u001b[38;5;241m3\u001b[39m]\n\u001b[0;32m      2\u001b[0m predicted_categories_subset \u001b[38;5;241m=\u001b[39m predicted_categories[:\u001b[38;5;241m3\u001b[39m]\n\u001b[1;32m----> 3\u001b[0m \u001b[38;5;28mprint\u001b[39m(\u001b[43mclassification_report\u001b[49m\u001b[43m(\u001b[49m\u001b[43mY_true_subset\u001b[49m\u001b[43m,\u001b[49m\u001b[43m \u001b[49m\u001b[43mpredicted_categories_subset\u001b[49m\u001b[43m,\u001b[49m\u001b[43m \u001b[49m\u001b[43mtarget_names\u001b[49m\u001b[38;5;241;43m=\u001b[39;49m\u001b[43mclass_name\u001b[49m\u001b[43m)\u001b[49m)\n",
      "File \u001b[1;32m~\\anaconda3\\envs\\myenv\\lib\\site-packages\\sklearn\\metrics\\_classification.py:2154\u001b[0m, in \u001b[0;36mclassification_report\u001b[1;34m(y_true, y_pred, labels, target_names, sample_weight, digits, output_dict, zero_division)\u001b[0m\n\u001b[0;32m   2148\u001b[0m         warnings\u001b[38;5;241m.\u001b[39mwarn(\n\u001b[0;32m   2149\u001b[0m             \u001b[38;5;124m\"\u001b[39m\u001b[38;5;124mlabels size, \u001b[39m\u001b[38;5;132;01m{0}\u001b[39;00m\u001b[38;5;124m, does not match size of target_names, \u001b[39m\u001b[38;5;132;01m{1}\u001b[39;00m\u001b[38;5;124m\"\u001b[39m\u001b[38;5;241m.\u001b[39mformat(\n\u001b[0;32m   2150\u001b[0m                 \u001b[38;5;28mlen\u001b[39m(labels), \u001b[38;5;28mlen\u001b[39m(target_names)\n\u001b[0;32m   2151\u001b[0m             )\n\u001b[0;32m   2152\u001b[0m         )\n\u001b[0;32m   2153\u001b[0m     \u001b[38;5;28;01melse\u001b[39;00m:\n\u001b[1;32m-> 2154\u001b[0m         \u001b[38;5;28;01mraise\u001b[39;00m \u001b[38;5;167;01mValueError\u001b[39;00m(\n\u001b[0;32m   2155\u001b[0m             \u001b[38;5;124m\"\u001b[39m\u001b[38;5;124mNumber of classes, \u001b[39m\u001b[38;5;132;01m{0}\u001b[39;00m\u001b[38;5;124m, does not match size of \u001b[39m\u001b[38;5;124m\"\u001b[39m\n\u001b[0;32m   2156\u001b[0m             \u001b[38;5;124m\"\u001b[39m\u001b[38;5;124mtarget_names, \u001b[39m\u001b[38;5;132;01m{1}\u001b[39;00m\u001b[38;5;124m. Try specifying the labels \u001b[39m\u001b[38;5;124m\"\u001b[39m\n\u001b[0;32m   2157\u001b[0m             \u001b[38;5;124m\"\u001b[39m\u001b[38;5;124mparameter\u001b[39m\u001b[38;5;124m\"\u001b[39m\u001b[38;5;241m.\u001b[39mformat(\u001b[38;5;28mlen\u001b[39m(labels), \u001b[38;5;28mlen\u001b[39m(target_names))\n\u001b[0;32m   2158\u001b[0m         )\n\u001b[0;32m   2159\u001b[0m \u001b[38;5;28;01mif\u001b[39;00m target_names \u001b[38;5;129;01mis\u001b[39;00m \u001b[38;5;28;01mNone\u001b[39;00m:\n\u001b[0;32m   2160\u001b[0m     target_names \u001b[38;5;241m=\u001b[39m [\u001b[38;5;124m\"\u001b[39m\u001b[38;5;132;01m%s\u001b[39;00m\u001b[38;5;124m\"\u001b[39m \u001b[38;5;241m%\u001b[39m l \u001b[38;5;28;01mfor\u001b[39;00m l \u001b[38;5;129;01min\u001b[39;00m labels]\n",
      "\u001b[1;31mValueError\u001b[0m: Number of classes, 3, does not match size of target_names, 38. Try specifying the labels parameter"
     ]
    }
   ],
   "source": [
    "Y_true_subset = Y_true[:3]\n",
    "predicted_categories_subset = predicted_categories[:3]\n",
    "print(classification_report(Y_true_subset, predicted_categories_subset, target_names=class_name))\n",
    "\n",
    "\n",
    "\n"
   ]
  },
  {
   "cell_type": "code",
   "execution_count": null,
   "id": "764d987f-ec19-4c97-83c4-8957b0e04b83",
   "metadata": {},
   "outputs": [],
   "source": []
  },
  {
   "cell_type": "code",
   "execution_count": 114,
   "id": "d7289ad6-9cb7-4610-baef-c44ac4879378",
   "metadata": {},
   "outputs": [
    {
     "data": {
      "text/plain": [
       "array([[1, 0, 0],\n",
       "       [1, 0, 0],\n",
       "       [1, 0, 0]], dtype=int64)"
      ]
     },
     "execution_count": 114,
     "metadata": {},
     "output_type": "execute_result"
    }
   ],
   "source": [
    "cm =confusion_matrix(Y_true,predicted_categories)\n",
    "cm"
   ]
  },
  {
   "cell_type": "code",
   "execution_count": null,
   "id": "96aeeb8e-7e5a-456c-8f10-6fdef4372943",
   "metadata": {},
   "outputs": [],
   "source": []
  },
  {
   "cell_type": "markdown",
   "id": "2f024764-1c04-4423-bb5e-8c0556142fd3",
   "metadata": {},
   "source": [
    "### Confusion Matrix Visualization"
   ]
  },
  {
   "cell_type": "code",
   "execution_count": 115,
   "id": "575024df-619d-492f-8dd5-bda96d472c6b",
   "metadata": {},
   "outputs": [
    {
     "data": {
      "image/png": "[encoded data removed]",
      "text/plain": [
       "<Figure size 4000x4000 with 2 Axes>"
      ]
     },
     "metadata": {},
     "output_type": "display_data"
    }
   ],
   "source": [
    "plt.figure(figsize=(40,40))\n",
    "sns.heatmap(cm,annot=True,annot_kws={'size':10})\n",
    "plt.xlabel(\"Predicted Class\",fontsize=20)\n",
    "plt.ylabel(\"Actual Class\",fontsize=20)\n",
    "plt.title(\"Plant Disease Prediction Confusion Matrix\",fontsize=30)\n",
    "plt.show()"
   ]
  },
  {
   "cell_type": "code",
   "execution_count": null,
   "id": "44d30f03-d8c3-4d56-a16a-edc8277861d8",
   "metadata": {},
   "outputs": [],
   "source": []
  },
  {
   "cell_type": "code",
   "execution_count": null,
   "id": "799ee82f-5b31-4539-a455-fa19d68f61c3",
   "metadata": {},
   "outputs": [],
   "source": []
  },
  {
   "cell_type": "code",
   "execution_count": null,
   "id": "4a49be82-90bc-4f82-99b0-2eaa57c700cb",
   "metadata": {},
   "outputs": [],
   "source": []
  },
  {
   "cell_type": "code",
   "execution_count": null,
   "id": "75889018-7302-4e53-bfc3-8f33f60091d3",
   "metadata": {},
   "outputs": [],
   "source": []
  },
  {
   "cell_type": "code",
   "execution_count": null,
   "id": "83b35399-efc1-4792-a3a5-95cfd29e6618",
   "metadata": {},
   "outputs": [],
   "source": []
  },
  {
   "cell_type": "code",
   "execution_count": null,
   "id": "e86baa14-fd18-4e98-8dc7-2c8d4d0f146d",
   "metadata": {},
   "outputs": [],
   "source": []
  },
  {
   "cell_type": "code",
   "execution_count": null,
   "id": "a8f9b9f4-c3c4-41b4-b4ba-c21a3ce72250",
   "metadata": {},
   "outputs": [],
   "source": []
  }
 ],
 "metadata": {
  "kernelspec": {
   "display_name": "TensorFlow",
   "language": "python",
   "name": "tf_kernel"
  },
  "language_info": {
   "codemirror_mode": {
    "name": "ipython",
    "version": 3
   },
   "file_extension": ".py",
   "mimetype": "text/x-python",
   "name": "python",
   "nbconvert_exporter": "python",
   "pygments_lexer": "ipython3",
   "version": "3.10.8"
  }
 },
 "nbformat": 4,
 "nbformat_minor": 5
}
