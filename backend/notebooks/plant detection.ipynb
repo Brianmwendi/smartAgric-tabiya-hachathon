{
 "cells": [
  {
   "cell_type": "markdown",
   "id": "221e2870-86af-4077-a7c1-1ba1ec29fd4b",
   "metadata": {},
   "source": [
    "## Importing libraries"
   ]
  },
  {
   "cell_type": "code",
   "execution_count": 1,
   "id": "34902670-6786-47bd-9985-9c04943bd431",
   "metadata": {
    "scrolled": true
   },
   "outputs": [],
   "source": [
    "import tensorflow as tf\n",
    "import matplotlib.pyplot as plt\n",
    "import pandas as pd\n",
    "import seaborn as sns"
   ]
  },
  {
   "cell_type": "markdown",
   "id": "c4d3ca3b-0a3b-45a3-973f-b02f157cfaef",
   "metadata": {},
   "source": [
    "## Data Processing"
   ]
  },
  {
   "cell_type": "markdown",
   "id": "5d1b789f-47d9-46e4-a556-030763a69dd4",
   "metadata": {},
   "source": [
    "### Training image processing"
   ]
  },
  {
   "cell_type": "code",
   "execution_count": 2,
   "id": "f032ae1d-178f-4dbc-97ca-636766356757",
   "metadata": {},
   "outputs": [
    {
     "name": "stdout",
     "output_type": "stream",
     "text": [
      "Found 70295 files belonging to 38 classes.\n"
     ]
    }
   ],
   "source": [
    "training_set = tf.keras.utils.image_dataset_from_directory(\n",
    "   'train',\n",
    "    labels=\"inferred\",\n",
    "    label_mode=\"categorical\",\n",
    "    class_names=None,\n",
    "    color_mode=\"rgb\",\n",
    "    batch_size=32,\n",
    "    image_size=(128, 128),\n",
    "    shuffle=True,\n",
    "    seed=None,\n",
    "    validation_split=None,\n",
    "    subset=None,\n",
    "    interpolation=\"bilinear\",\n",
    "    follow_links=False,\n",
    "    crop_to_aspect_ratio=False,\n",
    "\n",
    ")"
   ]
  },
  {
   "cell_type": "code",
   "execution_count": 3,
   "id": "e90816bb-2c32-437e-af55-9c0931092c77",
   "metadata": {},
   "outputs": [
    {
     "name": "stdout",
     "output_type": "stream",
     "text": [
      "Found 17572 files belonging to 38 classes.\n"
     ]
    }
   ],
   "source": [
    "validation_set = tf.keras.utils.image_dataset_from_directory(\n",
    "   'valid',\n",
    "    labels=\"inferred\",\n",
    "    label_mode=\"categorical\",\n",
    "    class_names=None,\n",
    "    color_mode=\"rgb\",\n",
    "    batch_size=32,\n",
    "    image_size=(128, 128),\n",
    "    shuffle=True,\n",
    "    seed=None,\n",
    "    validation_split=None,\n",
    "    subset=None,\n",
    "    interpolation=\"bilinear\",\n",
    "    follow_links=False,\n",
    "    crop_to_aspect_ratio=False,\n",
    "\n",
    ")"
   ]
  },
  {
   "cell_type": "code",
   "execution_count": 4,
   "id": "50715aab-afeb-4dd2-9281-bb158f8c2b9d",
   "metadata": {},
   "outputs": [
    {
     "data": {
      "text/plain": [
       "<BatchDataset element_spec=(TensorSpec(shape=(None, 128, 128, 3), dtype=tf.float32, name=None), TensorSpec(shape=(None, 38), dtype=tf.float32, name=None))>"
      ]
     },
     "execution_count": 4,
     "metadata": {},
     "output_type": "execute_result"
    }
   ],
   "source": [
    "training_set\n"
   ]
  },
  {
   "cell_type": "code",
   "execution_count": 5,
   "id": "cfc58a52-ee6e-4b82-9e44-28407df3003a",
   "metadata": {},
   "outputs": [
    {
     "name": "stdout",
     "output_type": "stream",
     "text": [
      "tf.Tensor(\n",
      "[[[[119.75 109.75 136.75]\n",
      "   [122.5  112.5  139.5 ]\n",
      "   [123.   113.   140.  ]\n",
      "   ...\n",
      "   [165.75 160.75 183.75]\n",
      "   [167.   162.   185.  ]\n",
      "   [167.5  162.5  185.5 ]]\n",
      "\n",
      "  [[121.75 111.75 138.75]\n",
      "   [122.25 112.25 139.25]\n",
      "   [121.5  111.5  138.5 ]\n",
      "   ...\n",
      "   [164.   159.   182.  ]\n",
      "   [164.5  159.5  182.5 ]\n",
      "   [164.5  159.5  182.5 ]]\n",
      "\n",
      "  [[124.25 114.25 141.25]\n",
      "   [119.   109.   136.  ]\n",
      "   [120.75 110.75 137.75]\n",
      "   ...\n",
      "   [163.5  158.5  181.5 ]\n",
      "   [163.   158.   181.  ]\n",
      "   [163.   158.   181.  ]]\n",
      "\n",
      "  ...\n",
      "\n",
      "  [[135.   131.   156.  ]\n",
      "   [139.25 135.25 160.25]\n",
      "   [131.   127.   152.  ]\n",
      "   ...\n",
      "   [158.75 158.75 184.75]\n",
      "   [158.75 158.75 184.75]\n",
      "   [158.   158.   184.  ]]\n",
      "\n",
      "  [[129.5  125.5  150.5 ]\n",
      "   [130.75 126.75 151.75]\n",
      "   [132.75 128.75 153.75]\n",
      "   ...\n",
      "   [159.75 159.75 185.75]\n",
      "   [159.75 159.75 185.75]\n",
      "   [160.75 160.75 186.75]]\n",
      "\n",
      "  [[134.5  130.5  155.5 ]\n",
      "   [131.25 127.25 152.25]\n",
      "   [128.25 124.25 149.25]\n",
      "   ...\n",
      "   [156.5  156.5  182.5 ]\n",
      "   [156.5  156.5  182.5 ]\n",
      "   [158.5  158.5  184.5 ]]]\n",
      "\n",
      "\n",
      " [[[  0.     0.     0.  ]\n",
      "   [  0.     0.     0.  ]\n",
      "   [  0.     0.     0.  ]\n",
      "   ...\n",
      "   [  0.     0.     0.  ]\n",
      "   [  0.     0.     0.  ]\n",
      "   [  0.     0.     0.  ]]\n",
      "\n",
      "  [[  0.     0.     0.  ]\n",
      "   [  0.     0.     0.  ]\n",
      "   [  0.     0.     0.  ]\n",
      "   ...\n",
      "   [  0.     0.     0.  ]\n",
      "   [  0.     0.     0.  ]\n",
      "   [  0.     0.     0.  ]]\n",
      "\n",
      "  [[  0.     0.     0.  ]\n",
      "   [  0.     0.     0.  ]\n",
      "   [  0.     0.     0.  ]\n",
      "   ...\n",
      "   [  0.     0.     0.  ]\n",
      "   [  0.     0.     0.  ]\n",
      "   [  0.     0.     0.  ]]\n",
      "\n",
      "  ...\n",
      "\n",
      "  [[  0.     0.     0.  ]\n",
      "   [  0.     0.     0.  ]\n",
      "   [  0.     0.     0.  ]\n",
      "   ...\n",
      "   [  0.     0.     0.  ]\n",
      "   [  0.     0.     0.  ]\n",
      "   [  0.     0.     0.  ]]\n",
      "\n",
      "  [[  0.     0.     0.  ]\n",
      "   [  0.     0.     0.  ]\n",
      "   [  0.     0.     0.  ]\n",
      "   ...\n",
      "   [  0.     0.     0.  ]\n",
      "   [  0.     0.     0.  ]\n",
      "   [  0.     0.     0.  ]]\n",
      "\n",
      "  [[  0.     0.     0.  ]\n",
      "   [  0.     0.     0.  ]\n",
      "   [  0.     0.     0.  ]\n",
      "   ...\n",
      "   [  0.     0.     0.  ]\n",
      "   [  0.     0.     0.  ]\n",
      "   [  0.     0.     0.  ]]]\n",
      "\n",
      "\n",
      " [[[132.   130.   143.  ]\n",
      "   [132.5  130.5  143.5 ]\n",
      "   [130.5  128.5  141.5 ]\n",
      "   ...\n",
      "   [154.25 147.25 154.25]\n",
      "   [148.   141.   148.  ]\n",
      "   [164.75 157.75 164.75]]\n",
      "\n",
      "  [[126.5  124.5  137.5 ]\n",
      "   [126.75 124.75 137.75]\n",
      "   [132.25 130.25 143.25]\n",
      "   ...\n",
      "   [150.   143.   150.  ]\n",
      "   [146.5  139.5  146.5 ]\n",
      "   [155.25 148.25 155.25]]\n",
      "\n",
      "  [[125.5  123.5  136.5 ]\n",
      "   [127.25 125.25 138.25]\n",
      "   [124.75 122.75 135.75]\n",
      "   ...\n",
      "   [152.   145.   152.  ]\n",
      "   [150.5  143.5  150.5 ]\n",
      "   [153.   146.   153.  ]]\n",
      "\n",
      "  ...\n",
      "\n",
      "  [[ 74.25  76.25  97.25]\n",
      "   [ 75.75  77.75  98.75]\n",
      "   [ 74.    76.    97.  ]\n",
      "   ...\n",
      "   [ 70.    75.    95.  ]\n",
      "   [ 71.75  76.75  96.75]\n",
      "   [ 69.5   74.5   94.5 ]]\n",
      "\n",
      "  [[ 69.5   71.5   92.5 ]\n",
      "   [ 75.5   77.5   98.5 ]\n",
      "   [ 74.5   76.5   97.5 ]\n",
      "   ...\n",
      "   [ 71.5   76.5   96.5 ]\n",
      "   [ 73.5   78.5   98.5 ]\n",
      "   [ 80.75  85.75 105.75]]\n",
      "\n",
      "  [[ 72.25  74.25  95.25]\n",
      "   [ 79.    81.   102.  ]\n",
      "   [ 83.    85.   106.  ]\n",
      "   ...\n",
      "   [ 76.    81.   101.  ]\n",
      "   [ 75.75  80.75 100.75]\n",
      "   [ 76.75  81.75 101.75]]]\n",
      "\n",
      "\n",
      " ...\n",
      "\n",
      "\n",
      " [[[124.   116.   131.  ]\n",
      "   [122.   114.   129.  ]\n",
      "   [115.5  107.5  122.5 ]\n",
      "   ...\n",
      "   [137.25 126.25 140.25]\n",
      "   [136.   125.   139.  ]\n",
      "   [133.25 122.25 136.25]]\n",
      "\n",
      "  [[116.5  108.5  123.5 ]\n",
      "   [115.25 107.25 122.25]\n",
      "   [115.75 107.75 122.75]\n",
      "   ...\n",
      "   [138.   127.   141.  ]\n",
      "   [136.5  125.5  139.5 ]\n",
      "   [133.   122.   136.  ]]\n",
      "\n",
      "  [[118.75 110.75 125.75]\n",
      "   [107.75  99.75 114.75]\n",
      "   [110.   102.   117.  ]\n",
      "   ...\n",
      "   [138.25 127.25 141.25]\n",
      "   [138.   127.   141.  ]\n",
      "   [135.5  124.5  138.5 ]]\n",
      "\n",
      "  ...\n",
      "\n",
      "  [[124.   116.   129.  ]\n",
      "   [120.   112.   125.  ]\n",
      "   [126.25 118.25 131.25]\n",
      "   ...\n",
      "   [138.5  130.5  141.5 ]\n",
      "   [141.   133.   144.  ]\n",
      "   [142.   134.   145.  ]]\n",
      "\n",
      "  [[124.5  116.5  129.5 ]\n",
      "   [124.75 116.75 129.75]\n",
      "   [125.   117.   130.  ]\n",
      "   ...\n",
      "   [141.   133.   144.  ]\n",
      "   [142.   134.   145.  ]\n",
      "   [143.   135.   146.  ]]\n",
      "\n",
      "  [[131.25 123.25 136.25]\n",
      "   [128.75 120.75 133.75]\n",
      "   [129.5  121.5  134.5 ]\n",
      "   ...\n",
      "   [142.75 134.75 145.75]\n",
      "   [141.75 133.75 144.75]\n",
      "   [141.   133.   144.  ]]]\n",
      "\n",
      "\n",
      " [[[167.5  155.5  159.5 ]\n",
      "   [160.   148.   152.  ]\n",
      "   [170.75 158.75 162.75]\n",
      "   ...\n",
      "   [162.25 147.25 152.25]\n",
      "   [168.   153.   158.  ]\n",
      "   [159.5  144.5  149.5 ]]\n",
      "\n",
      "  [[161.75 149.75 153.75]\n",
      "   [174.25 162.25 166.25]\n",
      "   [164.5  152.5  156.5 ]\n",
      "   ...\n",
      "   [171.   156.   161.  ]\n",
      "   [163.75 148.75 153.75]\n",
      "   [165.25 150.25 155.25]]\n",
      "\n",
      "  [[168.5  156.5  160.5 ]\n",
      "   [170.5  158.5  162.5 ]\n",
      "   [174.5  162.5  166.5 ]\n",
      "   ...\n",
      "   [163.5  148.5  153.5 ]\n",
      "   [164.   149.   154.  ]\n",
      "   [171.25 156.25 161.25]]\n",
      "\n",
      "  ...\n",
      "\n",
      "  [[220.75 210.75 218.75]\n",
      "   [215.   205.   213.  ]\n",
      "   [214.25 204.25 212.25]\n",
      "   ...\n",
      "   [212.5  203.5  208.5 ]\n",
      "   [211.25 202.25 207.25]\n",
      "   [219.5  210.5  215.5 ]]\n",
      "\n",
      "  [[228.75 219.25 227.25]\n",
      "   [215.   205.   213.  ]\n",
      "   [223.5  213.5  221.5 ]\n",
      "   ...\n",
      "   [210.75 201.75 206.75]\n",
      "   [207.5  198.5  203.5 ]\n",
      "   [208.25 199.25 204.25]]\n",
      "\n",
      "  [[226.75 216.75 224.75]\n",
      "   [214.25 204.25 212.25]\n",
      "   [220.   210.   218.  ]\n",
      "   ...\n",
      "   [210.5  201.5  206.5 ]\n",
      "   [203.   194.   199.  ]\n",
      "   [208.75 199.75 204.75]]]\n",
      "\n",
      "\n",
      " [[[164.   143.   150.  ]\n",
      "   [163.25 142.25 149.25]\n",
      "   [164.5  143.5  150.5 ]\n",
      "   ...\n",
      "   [166.75 150.75 160.75]\n",
      "   [182.25 166.25 176.25]\n",
      "   [183.5  167.5  177.5 ]]\n",
      "\n",
      "  [[164.   143.   150.  ]\n",
      "   [165.25 144.25 151.25]\n",
      "   [174.5  153.5  160.5 ]\n",
      "   ...\n",
      "   [168.75 152.75 162.75]\n",
      "   [182.25 166.25 176.25]\n",
      "   [185.   169.   179.  ]]\n",
      "\n",
      "  [[176.25 155.25 162.25]\n",
      "   [184.25 163.25 170.25]\n",
      "   [155.25 134.25 141.25]\n",
      "   ...\n",
      "   [170.25 154.25 164.25]\n",
      "   [178.25 162.25 172.25]\n",
      "   [181.   165.   175.  ]]\n",
      "\n",
      "  ...\n",
      "\n",
      "  [[204.   191.   198.  ]\n",
      "   [186.5  173.5  180.5 ]\n",
      "   [196.75 183.75 190.75]\n",
      "   ...\n",
      "   [195.   183.   193.  ]\n",
      "   [197.   185.   195.  ]\n",
      "   [201.5  189.5  199.5 ]]\n",
      "\n",
      "  [[207.   194.   201.  ]\n",
      "   [192.   179.   186.  ]\n",
      "   [201.5  188.5  195.5 ]\n",
      "   ...\n",
      "   [195.5  183.5  193.5 ]\n",
      "   [190.5  178.5  188.5 ]\n",
      "   [201.   189.   199.  ]]\n",
      "\n",
      "  [[197.5  184.5  191.5 ]\n",
      "   [206.75 193.75 200.75]\n",
      "   [206.5  193.5  200.5 ]\n",
      "   ...\n",
      "   [197.   185.   195.  ]\n",
      "   [196.5  184.5  194.5 ]\n",
      "   [198.5  186.5  196.5 ]]]], shape=(32, 128, 128, 3), dtype=float32) (32, 128, 128, 3)\n",
      "tf.Tensor(\n",
      "[[0. 0. 0. ... 0. 0. 0.]\n",
      " [1. 0. 0. ... 0. 0. 0.]\n",
      " [0. 0. 0. ... 0. 0. 0.]\n",
      " ...\n",
      " [0. 0. 0. ... 0. 0. 0.]\n",
      " [0. 0. 0. ... 0. 0. 0.]\n",
      " [0. 0. 0. ... 0. 0. 0.]], shape=(32, 38), dtype=float32) (32, 38)\n"
     ]
    }
   ],
   "source": [
    "for x,y in training_set:\n",
    "    print(x,x.shape)\n",
    "    print(y,y.shape)\n",
    "    break"
   ]
  },
  {
   "cell_type": "markdown",
   "id": "5e6467fc-50e2-4936-8887-d95fb0ca2529",
   "metadata": {},
   "source": [
    "## Building Models"
   ]
  },
  {
   "cell_type": "code",
   "execution_count": 6,
   "id": "d29b83af-7616-47f0-986c-df4ae52124d3",
   "metadata": {},
   "outputs": [],
   "source": [
    "from tensorflow.keras.layers import Dense,Conv2D,MaxPool2D,Flatten,Dropout\n",
    "from tensorflow.keras.models import Sequential"
   ]
  },
  {
   "cell_type": "code",
   "execution_count": 7,
   "id": "c570bec0-4ef2-4d89-b82b-252dfb648c46",
   "metadata": {},
   "outputs": [],
   "source": [
    "model = Sequential()"
   ]
  },
  {
   "cell_type": "code",
   "execution_count": 8,
   "id": "793057d2-2578-457c-a970-42bddc6f1c18",
   "metadata": {},
   "outputs": [],
   "source": [
    "## Building Convolutional Layers"
   ]
  },
  {
   "cell_type": "code",
   "execution_count": 9,
   "id": "1f315127-232e-4793-8cf2-061376bc0570",
   "metadata": {},
   "outputs": [],
   "source": [
    "model.add(Conv2D(filters=32,kernel_size=3,padding='same',activation='relu',input_shape=[128, 128, 3]))\n",
    "model.add(Conv2D(filters=32,kernel_size=3,activation='relu'))\n",
    "model.add(MaxPool2D(pool_size=2,strides=2))"
   ]
  },
  {
   "cell_type": "code",
   "execution_count": 10,
   "id": "27ad0828-3ada-42e4-a6ee-3f60a0c1cb68",
   "metadata": {},
   "outputs": [],
   "source": [
    "model.add(Conv2D(filters=64,kernel_size=3,padding='same',activation='relu'))\n",
    "model.add(Conv2D(filters=64,kernel_size=3,activation='relu'))\n",
    "model.add(MaxPool2D(pool_size=2,strides=2))"
   ]
  },
  {
   "cell_type": "code",
   "execution_count": 11,
   "id": "2a50ccb4-e604-491a-85ba-2824ca4e7f2c",
   "metadata": {},
   "outputs": [],
   "source": [
    "model.add(Conv2D(filters=128,kernel_size=3,padding='same',activation='relu'))\n",
    "model.add(Conv2D(filters=128,kernel_size=3,activation='relu'))\n",
    "model.add(MaxPool2D(pool_size=2,strides=2))"
   ]
  },
  {
   "cell_type": "code",
   "execution_count": 12,
   "id": "9587e6bb-254f-4aaa-b9ec-e53aac2580d9",
   "metadata": {},
   "outputs": [],
   "source": [
    "model.add(Conv2D(filters=256,kernel_size=3,padding='same',activation='relu'))\n",
    "model.add(Conv2D(filters=256,kernel_size=3,activation='relu'))\n",
    "model.add(MaxPool2D(pool_size=2,strides=2))"
   ]
  },
  {
   "cell_type": "code",
   "execution_count": 13,
   "id": "dfe0f876-9024-4a11-8732-a9f2090150c4",
   "metadata": {},
   "outputs": [],
   "source": [
    "model.add(Conv2D(filters=512,kernel_size=3,padding='same',activation='relu'))\n",
    "model.add(Conv2D(filters=512,kernel_size=3,activation='relu'))\n",
    "model.add(MaxPool2D(pool_size=2,strides=2))"
   ]
  },
  {
   "cell_type": "code",
   "execution_count": 14,
   "id": "9f174911-bdaf-488e-9a0a-b74e6c5f921f",
   "metadata": {},
   "outputs": [],
   "source": [
    "model.add(Dropout(0.25))"
   ]
  },
  {
   "cell_type": "code",
   "execution_count": 15,
   "id": "2c5596f7-15f1-4423-9d64-fec92b04ab07",
   "metadata": {},
   "outputs": [],
   "source": [
    "model.add(Flatten())"
   ]
  },
  {
   "cell_type": "code",
   "execution_count": 16,
   "id": "8db51cf1-de19-4b23-a688-b5ca0462c4bc",
   "metadata": {},
   "outputs": [],
   "source": [
    "model.add(Dense(units=1500,activation='relu'))"
   ]
  },
  {
   "cell_type": "code",
   "execution_count": 17,
   "id": "bf955b2d-7979-4400-9807-4db096af178d",
   "metadata": {},
   "outputs": [],
   "source": [
    "model.add(Dropout(0.4))"
   ]
  },
  {
   "cell_type": "code",
   "execution_count": 18,
   "id": "7793b45c-d754-4b54-b0b3-b9ca76625eee",
   "metadata": {},
   "outputs": [],
   "source": [
    "## Output Layer\n",
    "model.add(Dense(units=38,activation='softmax'))  # Adjusted for 21 classes\n"
   ]
  },
  {
   "cell_type": "markdown",
   "id": "c49c5651-8163-4f83-83a1-d24958a2c84c",
   "metadata": {},
   "source": [
    "## Compiling Model"
   ]
  },
  {
   "cell_type": "code",
   "execution_count": 19,
   "id": "f941bca8-7973-4590-b3b8-d1187397ec22",
   "metadata": {},
   "outputs": [],
   "source": [
    "model.compile(optimizer=tf.keras.optimizers.legacy.Adam(learning_rate=0.0001), \n",
    "              loss='categorical_crossentropy', \n",
    "              metrics=['accuracy'])"
   ]
  },
  {
   "cell_type": "raw",
   "id": "d78fe2b5-9620-4d9b-b2af-e8eea726b24b",
   "metadata": {},
   "source": [
    "model.summary()"
   ]
  },
  {
   "cell_type": "markdown",
   "id": "b41ad96c-62f7-4187-91ff-748729c135c1",
   "metadata": {},
   "source": [
    "## Model training"
   ]
  },
  {
   "cell_type": "code",
   "execution_count": 20,
   "id": "0feda53e-d1e8-4cbf-a166-f7c651ec2889",
   "metadata": {},
   "outputs": [
    {
     "name": "stdout",
     "output_type": "stream",
     "text": [
      "Epoch 1/10\n",
      "2197/2197 [==============================] - 5588s 3s/step - loss: 1.3020 - accuracy: 0.6151 - val_loss: 0.4354 - val_accuracy: 0.8630\n",
      "Epoch 2/10\n",
      "2197/2197 [==============================] - 4953s 2s/step - loss: 0.4161 - accuracy: 0.8684 - val_loss: 0.2737 - val_accuracy: 0.9131\n",
      "Epoch 3/10\n",
      "2197/2197 [==============================] - 4718s 2s/step - loss: 0.2520 - accuracy: 0.9184 - val_loss: 0.2051 - val_accuracy: 0.9369\n",
      "Epoch 4/10\n",
      "2197/2197 [==============================] - 4683s 2s/step - loss: 0.1758 - accuracy: 0.9425 - val_loss: 0.1701 - val_accuracy: 0.9455\n",
      "Epoch 5/10\n",
      "2197/2197 [==============================] - 5180s 2s/step - loss: 0.1287 - accuracy: 0.9575 - val_loss: 0.1620 - val_accuracy: 0.9516\n",
      "Epoch 6/10\n",
      "2197/2197 [==============================] - 4635s 2s/step - loss: 0.1046 - accuracy: 0.9661 - val_loss: 0.1455 - val_accuracy: 0.9542\n",
      "Epoch 7/10\n",
      "2197/2197 [==============================] - 4631s 2s/step - loss: 0.0871 - accuracy: 0.9718 - val_loss: 0.1717 - val_accuracy: 0.9473\n",
      "Epoch 8/10\n",
      "2197/2197 [==============================] - 4656s 2s/step - loss: 0.0728 - accuracy: 0.9762 - val_loss: 0.1510 - val_accuracy: 0.9546\n",
      "Epoch 9/10\n",
      "2197/2197 [==============================] - 4633s 2s/step - loss: 0.0651 - accuracy: 0.9792 - val_loss: 0.1208 - val_accuracy: 0.9638\n",
      "Epoch 10/10\n",
      "2197/2197 [==============================] - 5419s 2s/step - loss: 0.0524 - accuracy: 0.9828 - val_loss: 0.1210 - val_accuracy: 0.9652\n"
     ]
    }
   ],
   "source": [
    "training_history = model.fit(x=training_set,validation_data=validation_set,epochs=10)"
   ]
  },
  {
   "cell_type": "code",
   "execution_count": null,
   "id": "b66b8811-f670-40f2-aea1-ac16e54cf7bf",
   "metadata": {},
   "outputs": [],
   "source": [
    "    "
   ]
  },
  {
   "cell_type": "markdown",
   "id": "cb6bf022-c393-4557-85d2-f61319c8819e",
   "metadata": {},
   "source": [
    "## Model evaluation"
   ]
  },
  {
   "cell_type": "code",
   "execution_count": 1,
   "id": "421cd6e0-a910-4898-b415-99210758e12d",
   "metadata": {},
   "outputs": [
    {
     "ename": "NameError",
     "evalue": "name 'model' is not defined",
     "output_type": "error",
     "traceback": [
      "\u001b[1;31m---------------------------------------------------------------------------\u001b[0m",
      "\u001b[1;31mNameError\u001b[0m                                 Traceback (most recent call last)",
      "Cell \u001b[1;32mIn[1], line 1\u001b[0m\n\u001b[1;32m----> 1\u001b[0m train_loss,train_acc \u001b[38;5;241m=\u001b[39m \u001b[43mmodel\u001b[49m\u001b[38;5;241m.\u001b[39mevaluate(training_set)\n",
      "\u001b[1;31mNameError\u001b[0m: name 'model' is not defined"
     ]
    }
   ],
   "source": [
    "train_loss,train_acc = model.evaluate(training_set)"
   ]
  },
  {
   "cell_type": "code",
   "execution_count": 22,
   "id": "a8a9b856-28c0-4d8a-879a-a84760ebbae8",
   "metadata": {},
   "outputs": [
    {
     "name": "stdout",
     "output_type": "stream",
     "text": [
      "0.029489874839782715 0.9900704026222229\n"
     ]
    }
   ],
   "source": [
    "print(train_loss,train_acc)"
   ]
  },
  {
   "cell_type": "code",
   "execution_count": 23,
   "id": "0a894539-9e81-449c-8138-8e5dc3875035",
   "metadata": {},
   "outputs": [],
   "source": [
    "# Model Salidation Set"
   ]
  },
  {
   "cell_type": "code",
   "execution_count": 24,
   "id": "1f35f60d-b10f-4dc9-a25c-3438fcccdc3b",
   "metadata": {},
   "outputs": [
    {
     "name": "stdout",
     "output_type": "stream",
     "text": [
      "550/550 [==============================] - 273s 497ms/step - loss: 0.1210 - accuracy: 0.9652\n"
     ]
    }
   ],
   "source": [
    "val_loss,Val_acc = model.evaluate(validation_set)"
   ]
  },
  {
   "cell_type": "code",
   "execution_count": 25,
   "id": "e2a74b05-6589-42af-9c31-878390bbdf66",
   "metadata": {},
   "outputs": [
    {
     "name": "stdout",
     "output_type": "stream",
     "text": [
      "0.12097013741731644 0.9651718735694885\n"
     ]
    }
   ],
   "source": [
    "print(val_loss,Val_acc)"
   ]
  },
  {
   "cell_type": "code",
   "execution_count": null,
   "id": "0eb423cb-7a35-42e8-a6cb-c7daeff89d8a",
   "metadata": {},
   "outputs": [],
   "source": []
  },
  {
   "cell_type": "markdown",
   "id": "6c11e959-3c6f-4b03-b2d3-2a9bd072cefe",
   "metadata": {},
   "source": [
    "## Saving Model"
   ]
  },
  {
   "cell_type": "code",
   "execution_count": 26,
   "id": "2c2a22f6-669a-4e00-9ff0-6524fe3b9771",
   "metadata": {},
   "outputs": [],
   "source": [
    "model.save(\"trained_model.keras\")"
   ]
  },
  {
   "cell_type": "code",
   "execution_count": 27,
   "id": "e8c43e49-de44-48de-9db1-a394e47540f0",
   "metadata": {},
   "outputs": [
    {
     "data": {
      "text/plain": [
       "{'loss': [1.3019975423812866,\n",
       "  0.41613319516181946,\n",
       "  0.2519588768482208,\n",
       "  0.17583373188972473,\n",
       "  0.12870892882347107,\n",
       "  0.10462085902690887,\n",
       "  0.08705994486808777,\n",
       "  0.07281240820884705,\n",
       "  0.06506188958883286,\n",
       "  0.05241990089416504],\n",
       " 'accuracy': [0.6150935292243958,\n",
       "  0.8683690428733826,\n",
       "  0.9184010028839111,\n",
       "  0.9425421357154846,\n",
       "  0.9574649930000305,\n",
       "  0.9661284685134888,\n",
       "  0.9717760682106018,\n",
       "  0.9762429594993591,\n",
       "  0.979173481464386,\n",
       "  0.9827725887298584],\n",
       " 'val_loss': [0.4354036748409271,\n",
       "  0.27367234230041504,\n",
       "  0.20513544976711273,\n",
       "  0.17014992237091064,\n",
       "  0.16204576194286346,\n",
       "  0.14550749957561493,\n",
       "  0.17173413932323456,\n",
       "  0.15100060403347015,\n",
       "  0.12077633291482925,\n",
       "  0.12097016721963882],\n",
       " 'val_accuracy': [0.8630207180976868,\n",
       "  0.9131003618240356,\n",
       "  0.9368882179260254,\n",
       "  0.9454814195632935,\n",
       "  0.9515706896781921,\n",
       "  0.954245388507843,\n",
       "  0.947302520275116,\n",
       "  0.954643726348877,\n",
       "  0.9638060331344604,\n",
       "  0.9651718735694885]}"
      ]
     },
     "execution_count": 27,
     "metadata": {},
     "output_type": "execute_result"
    }
   ],
   "source": [
    "training_history.history"
   ]
  },
  {
   "cell_type": "code",
   "execution_count": 28,
   "id": "e46f3e1f-13d8-441b-b566-1f1ff244e1a3",
   "metadata": {},
   "outputs": [],
   "source": [
    "##Recording history\n",
    "import json\n",
    "with open(\"training_hist.json\",\"w\") as f:\n",
    "    json.dump(training_history.history,f)"
   ]
  },
  {
   "cell_type": "code",
   "execution_count": 4,
   "id": "dc63af89-42c1-4f43-85ef-122e79996ab8",
   "metadata": {},
   "outputs": [],
   "source": [
    "import matplotlib.pyplot as plt\n",
    "from tensorflow.keras.models import load_model\n",
    "import json\n",
    "model = load_model('C:\\\\Users\\\\PC\\\\Desktop\\\\mlearning\\\\backend\\\\notebooks\\\\trained_model.keras')"
   ]
  },
  {
   "cell_type": "code",
   "execution_count": 6,
   "id": "2499d9be-8f4f-4001-aad6-2f75d34401c0",
   "metadata": {
    "scrolled": true
   },
   "outputs": [],
   "source": [
    "with open('C:\\\\Users\\\\PC\\\\Desktop\\\\mlearning\\\\backend\\\\notebooks\\\\training_hist.json', 'r') as f:\n",
    "    training_history = json.load(f)"
   ]
  },
  {
   "cell_type": "code",
   "execution_count": 7,
   "id": "d438dedd-1940-4b99-819e-77e0d44bb93a",
   "metadata": {},
   "outputs": [
    {
     "name": "stdout",
     "output_type": "stream",
     "text": [
      "dict_keys(['loss', 'accuracy', 'val_loss', 'val_accuracy'])\n"
     ]
    }
   ],
   "source": [
    "print(training_history.keys()) "
   ]
  },
  {
   "cell_type": "code",
   "execution_count": 8,
   "id": "8280ed3e-decd-41e2-b4ba-9c1820e5bcda",
   "metadata": {},
   "outputs": [],
   "source": [
    "epochs = range(1, len(training_history['accuracy']) + 1)"
   ]
  },
  {
   "cell_type": "code",
   "execution_count": 10,
   "id": "614ad208-0176-4e5b-ac81-26101f7c2687",
   "metadata": {},
   "outputs": [
    {
     "data": {
      "image/png": "[encoded data removed]",
      "text/plain": [
       "<Figure size 640x480 with 1 Axes>"
      ]
     },
     "metadata": {},
     "output_type": "display_data"
    }
   ],
   "source": [
    "plt.plot(epochs, training_history['accuracy'], color='red', label='Training Accuracy')\n",
    "plt.plot(epochs, training_history['val_accuracy'], color='blue', label='Validation Accuracy')\n",
    "plt.xlabel(\"Number of Epochs\")\n",
    "plt.ylabel(\"Accuracy Result\")\n",
    "plt.title(\"Visualization of Accuracy Result\")\n",
    "plt.legend()\n",
    "plt.show()"
   ]
  },
  {
   "cell_type": "markdown",
   "id": "00208bd0-fb25-4e0d-a17f-7285b46a1654",
   "metadata": {},
   "source": [
    "## Accuracy Visualization"
   ]
  },
  {
   "cell_type": "code",
   "execution_count": null,
   "id": "ec3020de-9264-4938-bc70-2c960f0bb727",
   "metadata": {},
   "outputs": [],
   "source": []
  },
  {
   "cell_type": "code",
   "execution_count": null,
   "id": "88c25bf8-df7c-431f-98a2-cf57d45c6ffc",
   "metadata": {},
   "outputs": [],
   "source": []
  },
  {
   "cell_type": "code",
   "execution_count": null,
   "id": "99ee59b0-727b-404d-bda8-0c66ff425a12",
   "metadata": {},
   "outputs": [],
   "source": []
  },
  {
   "cell_type": "markdown",
   "id": "c458c9d8-e4b3-473d-baa1-318fdacdba2d",
   "metadata": {},
   "source": [
    "## Metrics for model evaluation"
   ]
  },
  {
   "cell_type": "code",
   "execution_count": 31,
   "id": "f2a73b40-e231-489e-a5f9-501927b614e6",
   "metadata": {},
   "outputs": [
    {
     "data": {
      "text/plain": [
       "['Apple___Apple_scab',\n",
       " 'Apple___Black_rot',\n",
       " 'Apple___Cedar_apple_rust',\n",
       " 'Apple___healthy',\n",
       " 'Blueberry___healthy',\n",
       " 'Cherry_(including_sour)___Powdery_mildew',\n",
       " 'Cherry_(including_sour)___healthy',\n",
       " 'Corn_(maize)___Cercospora_leaf_spot Gray_leaf_spot',\n",
       " 'Corn_(maize)___Common_rust_',\n",
       " 'Corn_(maize)___Northern_Leaf_Blight',\n",
       " 'Corn_(maize)___healthy',\n",
       " 'Grape___Black_rot',\n",
       " 'Grape___Esca_(Black_Measles)',\n",
       " 'Grape___Leaf_blight_(Isariopsis_Leaf_Spot)',\n",
       " 'Grape___healthy',\n",
       " 'Orange___Haunglongbing_(Citrus_greening)',\n",
       " 'Peach___Bacterial_spot',\n",
       " 'Peach___healthy',\n",
       " 'Pepper,_bell___Bacterial_spot',\n",
       " 'Pepper,_bell___healthy',\n",
       " 'Potato___Early_blight',\n",
       " 'Potato___Late_blight',\n",
       " 'Potato___healthy',\n",
       " 'Raspberry___healthy',\n",
       " 'Soybean___healthy',\n",
       " 'Squash___Powdery_mildew',\n",
       " 'Strawberry___Leaf_scorch',\n",
       " 'Strawberry___healthy',\n",
       " 'Tomato___Bacterial_spot',\n",
       " 'Tomato___Early_blight',\n",
       " 'Tomato___Late_blight',\n",
       " 'Tomato___Leaf_Mold',\n",
       " 'Tomato___Septoria_leaf_spot',\n",
       " 'Tomato___Spider_mites Two-spotted_spider_mite',\n",
       " 'Tomato___Target_Spot',\n",
       " 'Tomato___Tomato_Yellow_Leaf_Curl_Virus',\n",
       " 'Tomato___Tomato_mosaic_virus',\n",
       " 'Tomato___healthy']"
      ]
     },
     "execution_count": 31,
     "metadata": {},
     "output_type": "execute_result"
    }
   ],
   "source": [
    "class_name = validation_set.class_names\n",
    "class_name"
   ]
  },
  {
   "cell_type": "code",
   "execution_count": null,
   "id": "ca3fff71-9f95-4ccb-8663-94596f08f39a",
   "metadata": {},
   "outputs": [],
   "source": []
  },
  {
   "cell_type": "code",
   "execution_count": 32,
   "id": "e4f72d02-b266-4b1f-94b2-071826173e00",
   "metadata": {},
   "outputs": [
    {
     "name": "stdout",
     "output_type": "stream",
     "text": [
      "Found 17572 files belonging to 38 classes.\n"
     ]
    }
   ],
   "source": [
    "test_set =  tf.keras.utils.image_dataset_from_directory(\n",
    "   'valid',\n",
    "    labels=\"inferred\",\n",
    "    label_mode=\"categorical\",\n",
    "    class_names=None,\n",
    "    color_mode=\"rgb\",\n",
    "    batch_size=32,\n",
    "    image_size=(128, 128),\n",
    "    shuffle=False,\n",
    "    seed=None,\n",
    "    validation_split=None,\n",
    "    subset=None,\n",
    "    interpolation=\"bilinear\",\n",
    "    follow_links=False,\n",
    "    crop_to_aspect_ratio=False,\n",
    "\n",
    ")"
   ]
  },
  {
   "cell_type": "code",
   "execution_count": 33,
   "id": "0ea20e8f-0c81-498f-926d-ef5af3bdc8a1",
   "metadata": {},
   "outputs": [
    {
     "name": "stdout",
     "output_type": "stream",
     "text": [
      "550/550 [==============================] - 280s 507ms/step\n"
     ]
    },
    {
     "data": {
      "text/plain": [
       "(array([[1.0000000e+00, 3.6309787e-13, 1.2846268e-13, ..., 4.1913060e-18,\n",
       "         5.7423852e-16, 1.4781909e-16],\n",
       "        [1.0000000e+00, 1.4102981e-12, 2.6854569e-10, ..., 8.0568334e-16,\n",
       "         2.1058559e-12, 2.3721681e-14],\n",
       "        [1.0000000e+00, 6.6785919e-14, 2.5275704e-13, ..., 3.3275030e-20,\n",
       "         1.7756402e-16, 5.0478997e-16],\n",
       "        ...,\n",
       "        [6.5448332e-14, 4.5402296e-15, 3.0950767e-14, ..., 2.7338804e-15,\n",
       "         3.3445769e-15, 1.0000000e+00],\n",
       "        [3.0632232e-17, 1.9435975e-20, 3.2163434e-19, ..., 2.0843486e-20,\n",
       "         2.5804531e-20, 1.0000000e+00],\n",
       "        [2.2566444e-19, 5.1144670e-21, 1.9334683e-18, ..., 7.8369491e-22,\n",
       "         9.2614967e-20, 1.0000000e+00]], dtype=float32),\n",
       " (17572, 38))"
      ]
     },
     "execution_count": 33,
     "metadata": {},
     "output_type": "execute_result"
    }
   ],
   "source": [
    "y_pred = model.predict(test_set)\n",
    "y_pred,y_pred.shape"
   ]
  },
  {
   "cell_type": "code",
   "execution_count": 34,
   "id": "6945afe2-0b74-44e8-9006-a9ca637f484d",
   "metadata": {},
   "outputs": [],
   "source": [
    "predicted_categories = tf.argmax(y_pred,axis=1)"
   ]
  },
  {
   "cell_type": "code",
   "execution_count": 35,
   "id": "26c0d5f3-8861-44f3-8415-09d3c1ce0e6e",
   "metadata": {},
   "outputs": [
    {
     "data": {
      "text/plain": [
       "<tf.Tensor: shape=(17572,), dtype=int64, numpy=array([ 0,  0,  0, ..., 37, 37, 37], dtype=int64)>"
      ]
     },
     "execution_count": 35,
     "metadata": {},
     "output_type": "execute_result"
    }
   ],
   "source": [
    "predicted_categories"
   ]
  },
  {
   "cell_type": "code",
   "execution_count": 36,
   "id": "856c9eb5-0430-4025-8ea9-d846815d9990",
   "metadata": {},
   "outputs": [
    {
     "data": {
      "text/plain": [
       "<tf.Tensor: shape=(17572, 38), dtype=float32, numpy=\n",
       "array([[1., 0., 0., ..., 0., 0., 0.],\n",
       "       [1., 0., 0., ..., 0., 0., 0.],\n",
       "       [1., 0., 0., ..., 0., 0., 0.],\n",
       "       ...,\n",
       "       [0., 0., 0., ..., 0., 0., 1.],\n",
       "       [0., 0., 0., ..., 0., 0., 1.],\n",
       "       [0., 0., 0., ..., 0., 0., 1.]], dtype=float32)>"
      ]
     },
     "execution_count": 36,
     "metadata": {},
     "output_type": "execute_result"
    }
   ],
   "source": [
    "true_categories = tf.concat([y for x,y in test_set],axis=0)\n",
    "true_categories"
   ]
  },
  {
   "cell_type": "code",
   "execution_count": 38,
   "id": "96717f4b-52dd-4cf7-b7bd-8101959edd62",
   "metadata": {},
   "outputs": [
    {
     "name": "stdout",
     "output_type": "stream",
     "text": [
      "tf.Tensor([0 1 2], shape=(3,), dtype=int64)\n"
     ]
    }
   ],
   "source": [
    "import tensorflow as tf\n",
    "import numpy as np\n",
    "\n",
    "# Example definition of true_categories (replace this with your actual data)\n",
    "true_categories = np.array([[1, 0, 0], [0, 1, 0], [0, 0, 1]])  # Example one-hot encoded categories\n",
    "\n",
    "Y_true = tf.argmax(true_categories, axis=1)\n",
    "print(Y_true)\n",
    "\n"
   ]
  },
  {
   "cell_type": "code",
   "execution_count": 39,
   "id": "9ecb2709-def4-4593-a163-4683d98bbafa",
   "metadata": {},
   "outputs": [],
   "source": [
    "## precision recall"
   ]
  },
  {
   "cell_type": "code",
   "execution_count": 41,
   "id": "193e7323-c4ac-4155-b7ea-bf5dfa5b105a",
   "metadata": {},
   "outputs": [
    {
     "name": "stdout",
     "output_type": "stream",
     "text": [
      "Length of Y_true: 3\n",
      "Length of predicted_categories: 3\n",
      "              precision    recall  f1-score   support\n",
      "\n",
      "     Class 0       1.00      1.00      1.00         1\n",
      "     Class 1       1.00      1.00      1.00         1\n",
      "     Class 2       1.00      1.00      1.00         1\n",
      "\n",
      "    accuracy                           1.00         3\n",
      "   macro avg       1.00      1.00      1.00         3\n",
      "weighted avg       1.00      1.00      1.00         3\n",
      "\n"
     ]
    }
   ],
   "source": [
    "import numpy as np\n",
    "import tensorflow as tf\n",
    "from sklearn.metrics import classification_report\n",
    "\n",
    "# Assuming true_categories is a one-hot encoded array\n",
    "true_categories = np.array([[1, 0, 0], [0, 1, 0], [0, 0, 1]])  # Example true categories\n",
    "predicted_categories = np.array([0, 1, 2])  # Example predicted categories\n",
    "\n",
    "# Convert one-hot to class indices\n",
    "Y_true = tf.argmax(true_categories, axis=1).numpy()\n",
    "\n",
    "# Print lengths to check\n",
    "print(\"Length of Y_true:\", len(Y_true))\n",
    "print(\"Length of predicted_categories:\", len(predicted_categories))\n",
    "\n",
    "# Print the classification report\n",
    "print(classification_report(Y_true, predicted_categories, target_names=[\"Class 0\", \"Class 1\", \"Class 2\"]))\n",
    "\n"
   ]
  },
  {
   "cell_type": "code",
   "execution_count": 42,
   "id": "d7289ad6-9cb7-4610-baef-c44ac4879378",
   "metadata": {},
   "outputs": [
    {
     "data": {
      "text/plain": [
       "array([[1, 0, 0],\n",
       "       [0, 1, 0],\n",
       "       [0, 0, 1]], dtype=int64)"
      ]
     },
     "execution_count": 42,
     "metadata": {},
     "output_type": "execute_result"
    }
   ],
   "source": [
    "cm =confusion_matrix(Y_true,predicted_categories)\n",
    "cm"
   ]
  },
  {
   "cell_type": "code",
   "execution_count": null,
   "id": "96aeeb8e-7e5a-456c-8f10-6fdef4372943",
   "metadata": {},
   "outputs": [],
   "source": []
  },
  {
   "cell_type": "markdown",
   "id": "2f024764-1c04-4423-bb5e-8c0556142fd3",
   "metadata": {},
   "source": [
    "### Confusion Matrix Visualization"
   ]
  },
  {
   "cell_type": "code",
   "execution_count": 43,
   "id": "575024df-619d-492f-8dd5-bda96d472c6b",
   "metadata": {},
   "outputs": [
    {
     "data": {
      "image/png": "[encoded data removed]",
      "text/plain": [
       "<Figure size 4000x4000 with 2 Axes>"
      ]
     },
     "metadata": {},
     "output_type": "display_data"
    }
   ],
   "source": [
    "plt.figure(figsize=(40,40))\n",
    "sns.heatmap(cm,annot=True,annot_kws={'size':10})\n",
    "plt.xlabel(\"Predicted Class\",fontsize=20)\n",
    "plt.ylabel(\"Actual Class\",fontsize=20)\n",
    "plt.title(\"Plant Disease Prediction Confusion Matrix\",fontsize=30)\n",
    "plt.show()"
   ]
  },
  {
   "cell_type": "code",
   "execution_count": 2,
   "id": "44d30f03-d8c3-4d56-a16a-edc8277861d8",
   "metadata": {},
   "outputs": [],
   "source": [
    "y_true = [0, 1, 2, 1, 0]  # True labels\n",
    "y_pred = [0, 0, 2, 1, 0]   # Predicted labels\n"
   ]
  },
  {
   "cell_type": "code",
   "execution_count": 3,
   "id": "799ee82f-5b31-4539-a455-fa19d68f61c3",
   "metadata": {},
   "outputs": [],
   "source": [
    "import numpy as np\n",
    "\n",
    "y_true = np.array([...])  # Replace with actual true labels\n",
    "y_pred = np.array([...])  # Replace with actual predicted labels\n"
   ]
  },
  {
   "cell_type": "code",
   "execution_count": 4,
   "id": "4a49be82-90bc-4f82-99b0-2eaa57c700cb",
   "metadata": {},
   "outputs": [
    {
     "name": "stdout",
     "output_type": "stream",
     "text": [
      "True labels shape: (1,)\n",
      "Predicted labels shape: (1,)\n"
     ]
    }
   ],
   "source": [
    "print(\"True labels shape:\", y_true.shape)\n",
    "print(\"Predicted labels shape:\", y_pred.shape)\n"
   ]
  },
  {
   "cell_type": "code",
   "execution_count": 5,
   "id": "75889018-7302-4e53-bfc3-8f33f60091d3",
   "metadata": {},
   "outputs": [
    {
     "name": "stdout",
     "output_type": "stream",
     "text": [
      "Unique true labels: [Ellipsis]\n",
      "Unique predicted labels: [Ellipsis]\n"
     ]
    }
   ],
   "source": [
    "print(\"Unique true labels:\", np.unique(y_true))\n",
    "print(\"Unique predicted labels:\", np.unique(y_pred))\n"
   ]
  },
  {
   "cell_type": "code",
   "execution_count": 9,
   "id": "83b35399-efc1-4792-a3a5-95cfd29e6618",
   "metadata": {},
   "outputs": [
    {
     "name": "stdout",
     "output_type": "stream",
     "text": [
      "y_true shape: (5,)\n",
      "y_pred shape: (5,)\n",
      "y_true contents: [0 1 2 1 0]\n",
      "y_pred contents: [0 0 2 1 0]\n",
      "Confusion Matrix:\n",
      " [[2 0 0]\n",
      " [1 1 0]\n",
      " [0 0 1]]\n",
      "Classification Report:\n",
      "               precision    recall  f1-score   support\n",
      "\n",
      "           0       0.67      1.00      0.80         2\n",
      "           1       1.00      0.50      0.67         2\n",
      "           2       1.00      1.00      1.00         1\n",
      "\n",
      "    accuracy                           0.80         5\n",
      "   macro avg       0.89      0.83      0.82         5\n",
      "weighted avg       0.87      0.80      0.79         5\n",
      "\n"
     ]
    }
   ],
   "source": [
    "import numpy as np\n",
    "from sklearn.metrics import confusion_matrix, classification_report\n",
    "from sklearn.preprocessing import LabelEncoder\n",
    "\n",
    "# Correctly initialized true and predicted labels\n",
    "y_true = np.array([0, 1, 2, 1, 0])  # Example true labels\n",
    "y_pred = np.array([0, 0, 2, 1, 0])  # Example predicted labels\n",
    "\n",
    "# Print shapes and contents\n",
    "print(\"y_true shape:\", y_true.shape)\n",
    "print(\"y_pred shape:\", y_pred.shape)\n",
    "print(\"y_true contents:\", y_true)\n",
    "print(\"y_pred contents:\", y_pred)\n",
    "\n",
    "# Ensure 1D arrays\n",
    "if len(y_true.shape) > 1:\n",
    "    y_true = y_true.flatten()\n",
    "if len(y_pred.shape) > 1:\n",
    "    y_pred = y_pred.flatten()\n",
    "\n",
    "# Encode if they are strings (this example uses integers)\n",
    "# (Skip encoding if your data is already numeric)\n",
    "\n",
    "# Ensure types are consistent (if using numeric types)\n",
    "y_true = y_true.astype(int)\n",
    "y_pred = y_pred.astype(int)\n",
    "\n",
    "# Compute confusion matrix and classification report\n",
    "cm = confusion_matrix(y_true, y_pred)\n",
    "print(\"Confusion Matrix:\\n\", cm)\n",
    "\n",
    "report = classification_report(y_true, y_pred)\n",
    "print(\"Classification Report:\\n\", report)\n"
   ]
  },
  {
   "cell_type": "code",
   "execution_count": 11,
   "id": "e86baa14-fd18-4e98-8dc7-2c8d4d0f146d",
   "metadata": {},
   "outputs": [
    {
     "ename": "NameError",
     "evalue": "name 'X' is not defined",
     "output_type": "error",
     "traceback": [
      "\u001b[1;31m---------------------------------------------------------------------------\u001b[0m",
      "\u001b[1;31mNameError\u001b[0m                                 Traceback (most recent call last)",
      "Cell \u001b[1;32mIn[11], line 6\u001b[0m\n\u001b[0;32m      3\u001b[0m \u001b[38;5;28;01mfrom\u001b[39;00m \u001b[38;5;21;01msklearn\u001b[39;00m\u001b[38;5;21;01m.\u001b[39;00m\u001b[38;5;21;01mmetrics\u001b[39;00m \u001b[38;5;28;01mimport\u001b[39;00m classification_report, confusion_matrix\n\u001b[0;32m      5\u001b[0m \u001b[38;5;66;03m# Step 1: Data Preprocessing\u001b[39;00m\n\u001b[1;32m----> 6\u001b[0m X_train, X_test, y_train, y_test \u001b[38;5;241m=\u001b[39m train_test_split(\u001b[43mX\u001b[49m, y, test_size\u001b[38;5;241m=\u001b[39m\u001b[38;5;241m0.2\u001b[39m, random_state\u001b[38;5;241m=\u001b[39m\u001b[38;5;241m42\u001b[39m)\n\u001b[0;32m      8\u001b[0m \u001b[38;5;66;03m# Step 2: Model Training and Tuning\u001b[39;00m\n\u001b[0;32m      9\u001b[0m param_grid \u001b[38;5;241m=\u001b[39m {\u001b[38;5;124m'\u001b[39m\u001b[38;5;124mn_estimators\u001b[39m\u001b[38;5;124m'\u001b[39m: [\u001b[38;5;241m50\u001b[39m, \u001b[38;5;241m100\u001b[39m], \u001b[38;5;124m'\u001b[39m\u001b[38;5;124mmax_depth\u001b[39m\u001b[38;5;124m'\u001b[39m: [\u001b[38;5;28;01mNone\u001b[39;00m, \u001b[38;5;241m10\u001b[39m, \u001b[38;5;241m20\u001b[39m]}\n",
      "\u001b[1;31mNameError\u001b[0m: name 'X' is not defined"
     ]
    }
   ],
   "source": [
    "from sklearn.model_selection import train_test_split, GridSearchCV\n",
    "from sklearn.ensemble import RandomForestClassifier\n",
    "from sklearn.metrics import classification_report, confusion_matrix\n",
    "\n",
    "# Step 1: Data Preprocessing\n",
    "X_train, X_test, y_train, y_test = train_test_split(X, y, test_size=0.2, random_state=42)\n",
    "\n",
    "# Step 2: Model Training and Tuning\n",
    "param_grid = {'n_estimators': [50, 100], 'max_depth': [None, 10, 20]}\n",
    "grid_search = GridSearchCV(RandomForestClassifier(), param_grid, cv=5)\n",
    "grid_search.fit(X_train, y_train)\n",
    "\n",
    "best_model = grid_search.best_estimator_\n",
    "\n",
    "# Step 3: Evaluation\n",
    "y_pred = best_model.predict(X_test)\n",
    "print(confusion_matrix(y_test, y_pred))\n",
    "print(classification_report(y_test, y_pred))\n"
   ]
  },
  {
   "cell_type": "code",
   "execution_count": null,
   "id": "a8f9b9f4-c3c4-41b4-b4ba-c21a3ce72250",
   "metadata": {},
   "outputs": [],
   "source": []
  }
 ],
 "metadata": {
  "kernelspec": {
   "display_name": "TensorFlow",
   "language": "python",
   "name": "tf_kernel"
  },
  "language_info": {
   "codemirror_mode": {
    "name": "ipython",
    "version": 3
   },
   "file_extension": ".py",
   "mimetype": "text/x-python",
   "name": "python",
   "nbconvert_exporter": "python",
   "pygments_lexer": "ipython3",
   "version": "3.10.8"
  }
 },
 "nbformat": 4,
 "nbformat_minor": 5
}
